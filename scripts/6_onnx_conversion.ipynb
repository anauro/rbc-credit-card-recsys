{
 "cells": [
  {
   "cell_type": "markdown",
   "id": "d22853cc-7d3e-4722-9ffb-261ae2d7c598",
   "metadata": {},
   "source": [
    "## ONNX CONVERSION\n",
    "\n",
    "Retrain model with all data and convert to ONNX file. "
   ]
  },
  {
   "cell_type": "markdown",
   "id": "8de90048-fcdc-4f1f-8de0-335a0e8d0606",
   "metadata": {},
   "source": [
    "##### Timing \n",
    "We want to time how long these programs take to run. We are interested both in real time and CPU time. "
   ]
  },
  {
   "cell_type": "code",
   "execution_count": null,
   "id": "d2673bdc-2120-4441-83f0-23511fc3f851",
   "metadata": {},
   "outputs": [],
   "source": [
    "import time \n",
    "\n",
    "start_time = time.time()\n",
    "start_cpu_time = time.process_time()"
   ]
  },
  {
   "cell_type": "markdown",
   "id": "bb75ddb4-9177-4f42-a0ac-f2619746bb1f",
   "metadata": {},
   "source": [
    "#### Set Up"
   ]
  },
  {
   "cell_type": "code",
   "execution_count": null,
   "id": "f28b0d9e-4cc9-4e90-bc76-e9eb4598b28a",
   "metadata": {},
   "outputs": [],
   "source": [
    "import os\n",
    "\n",
    "import numpy as np\n",
    "from numpy.random import choice\n",
    "\n",
    "import pyspark\n",
    "from pyspark.sql import SparkSession\n",
    "\n",
    "from pyspark.sql.functions import udf\n",
    "from pyspark.sql.types import IntegerType, StringType, FloatType\n",
    "from pyspark.sql.functions import collect_list, regexp_replace, lower\n",
    "from pyspark.sql import functions as F\n",
    "from pyspark.sql import Window\n",
    "from pyspark.sql.functions import year, month, dayofmonth\n",
    "from functools import reduce\n",
    "\n",
    "import datetime \n",
    "import pandas as pd\n",
    "import time\n",
    "import math\n",
    "\n",
    "import matplotlib.pyplot as plt\n",
    "import pickle"
   ]
  },
  {
   "cell_type": "code",
   "execution_count": null,
   "id": "3f3af6a2-4aaa-4fad-b340-9ac128035ce5",
   "metadata": {},
   "outputs": [],
   "source": [
    "#Machine Learning Libraries \n",
    "import xgboost as xgb\n",
    "import lightgbm as lgb\n",
    "from sklearn.preprocessing import StandardScaler\n",
    "from sklearn.model_selection import train_test_split, GridSearchCV\n",
    "from sklearn.metrics import roc_auc_score, accuracy_score, roc_curve, classification_report, roc_auc_score, average_precision_score\n",
    "from sklearn.utils.class_weight import compute_class_weight"
   ]
  },
  {
   "cell_type": "code",
   "execution_count": null,
   "id": "65e6e48f-d436-4b1b-aaff-073ca53a5fa1",
   "metadata": {},
   "outputs": [],
   "source": [
    "#Install ONNX ML Tools\n",
    "!pip install lightgbm onnxmltools onnx skl2onnx"
   ]
  },
  {
   "cell_type": "code",
   "execution_count": null,
   "id": "a6f4011a-ee68-4588-874a-36efc8a48794",
   "metadata": {},
   "outputs": [],
   "source": [
    "import onnxmltools\n",
    "import onnx\n",
    "from onnxmltools.convert.common.data_types import FloatTensorType"
   ]
  },
  {
   "cell_type": "markdown",
   "id": "07cab171-798d-44b3-a3da-1fecc6fe8bb6",
   "metadata": {},
   "source": [
    "#### Import Prepared Data"
   ]
  },
  {
   "cell_type": "code",
   "execution_count": null,
   "id": "b35784ca-c7c8-489c-981b-1e606c312e4e",
   "metadata": {},
   "outputs": [],
   "source": [
    "md = spark.read.load(\"/anaurosevic/cdn0_cards_affinity/model_data\")"
   ]
  },
  {
   "cell_type": "code",
   "execution_count": null,
   "id": "8ccd0edc-8a1d-4d34-a7a1-dbc47c7f397e",
   "metadata": {
    "scrolled": true
   },
   "outputs": [],
   "source": [
    "model_data = md.toPandas()"
   ]
  },
  {
   "cell_type": "markdown",
   "id": "7675985a-ed55-421e-88e0-a246f52f7fb9",
   "metadata": {},
   "source": [
    "#### Scale Continuous Variables"
   ]
  },
  {
   "cell_type": "code",
   "execution_count": null,
   "id": "baa2e072-54f6-425b-9ed5-9a4eed6c8876",
   "metadata": {},
   "outputs": [],
   "source": [
    "all_vars = list(model_data.columns)"
   ]
  },
  {
   "cell_type": "code",
   "execution_count": null,
   "id": "6292f346-89e8-4d30-9446-a54bbc5ff745",
   "metadata": {},
   "outputs": [],
   "source": [
    "prefixes = [\"device_\",\"province_\",\"sess_channel_\"]\n",
    "filtered_list = [item for item in all_vars if item.startswith(tuple(prefixes))]"
   ]
  },
  {
   "cell_type": "code",
   "execution_count": null,
   "id": "7921e003-5c49-4086-9404-278ec281f7f7",
   "metadata": {},
   "outputs": [],
   "source": [
    "all_vars = list(model_data.columns)\n",
    "\n",
    "#Manually specify non-cont vars [majority are continuous] \n",
    "non_cont_vars = ['user_pseudo_id','product_code','postal_code'] + filtered_list #Primary keys + non-cont\n",
    "\n",
    "cont_vars = list(set(all_vars)-set(non_cont_vars))\n",
    "cont_vars.sort()"
   ]
  },
  {
   "cell_type": "code",
   "execution_count": null,
   "id": "30bc214c-5249-40b9-996d-b5d7aea13416",
   "metadata": {},
   "outputs": [],
   "source": [
    "scale = StandardScaler()\n",
    "scaled = scale.fit_transform(model_data[cont_vars])\n",
    "\n",
    "scaled_df = pd.DataFrame(scaled)\n",
    "scaled_df.columns = cont_vars"
   ]
  },
  {
   "cell_type": "code",
   "execution_count": null,
   "id": "cf72e68d-ef52-4d76-94ca-499e571bf0ee",
   "metadata": {},
   "outputs": [],
   "source": [
    "model_data_scaled = pd.concat([model_data.drop(columns = cont_vars, axis=1),scaled_df], axis=1)"
   ]
  },
  {
   "cell_type": "code",
   "execution_count": null,
   "id": "b8011c9f-c013-44fa-84d0-f57073dc4c45",
   "metadata": {},
   "outputs": [],
   "source": [
    "#Get rid of user_pseudo_id :) \n",
    "md_final = model_data_scaled.drop('user_pseudo_id',axis=1)"
   ]
  },
  {
   "cell_type": "markdown",
   "id": "25117488-b08e-4019-bbbe-17fe42b87441",
   "metadata": {},
   "source": [
    "#### Split X & Y"
   ]
  },
  {
   "cell_type": "code",
   "execution_count": null,
   "id": "59e855d1-b001-4161-b279-dd6f49558614",
   "metadata": {},
   "outputs": [],
   "source": [
    "X = md_final.drop('product_code', axis=1)\n",
    "y = md_final['product_code'].astype('category')"
   ]
  },
  {
   "cell_type": "code",
   "execution_count": null,
   "id": "72f4923a-81b0-416d-88ae-7a8376062ebe",
   "metadata": {},
   "outputs": [],
   "source": [
    "#Convert X to float32\n",
    "X_temp = np.array(X)  # Ensure it's a NumPy array\n",
    "X_final = X_temp.astype(np.float32)  # Convert all values to float32"
   ]
  },
  {
   "cell_type": "markdown",
   "id": "292c3524-5762-4749-a5f0-f95b81c01bb1",
   "metadata": {},
   "source": [
    "#### Model Training"
   ]
  },
  {
   "cell_type": "code",
   "execution_count": null,
   "id": "60e22c27-1920-40a8-ab1c-73db90957c7a",
   "metadata": {},
   "outputs": [],
   "source": [
    "best_params = spark.read.load(\"/anaurosevic/cdn0_cards_affinity/best_params\")"
   ]
  },
  {
   "cell_type": "code",
   "execution_count": null,
   "id": "3320668c-7026-44db-b528-e78649d2eafa",
   "metadata": {},
   "outputs": [],
   "source": [
    "best_params_dict = best_params.toPandas().iloc[0].to_dict()"
   ]
  },
  {
   "cell_type": "code",
   "execution_count": null,
   "id": "32bc3f7e-26c1-41b3-9ccc-e9c98b978006",
   "metadata": {},
   "outputs": [],
   "source": [
    "#Convert from float to integer\n",
    "best_params_dict['n_estimators'] = int(best_params_dict['n_estimators'])\n",
    "best_params_dict['num_leaves'] = int(best_params_dict['num_leaves'])"
   ]
  },
  {
   "cell_type": "code",
   "execution_count": null,
   "id": "99326bd5-fa32-4152-b1ac-6969edeaf384",
   "metadata": {},
   "outputs": [],
   "source": [
    "best_model = lgb.LGBMClassifier(\n",
    "    objective = 'multiclass',\n",
    "    is_unbalance = True,\n",
    "    random_state = 42, \n",
    "    verbosity = 0,\n",
    "    **best_params_dict\n",
    ")"
   ]
  },
  {
   "cell_type": "code",
   "execution_count": null,
   "id": "4f4bf124-6994-4c3b-b444-42bd795a406c",
   "metadata": {},
   "outputs": [],
   "source": [
    "best_model.fit(X_final, y)"
   ]
  },
  {
   "cell_type": "markdown",
   "id": "cb12f80a-89cf-4c80-9201-50ececd38024",
   "metadata": {},
   "source": [
    "#### Save as ONNX"
   ]
  },
  {
   "cell_type": "code",
   "execution_count": null,
   "id": "16c5a9e0-253c-410a-bdab-fcf149e48aad",
   "metadata": {},
   "outputs": [],
   "source": [
    "# Define the input type for the model\n",
    "initial_type = [('input', FloatTensorType([None, X_final.shape[1]]))]\n",
    "\n",
    "# Convert the model\n",
    "onnx_model = onnxmltools.convert_lightgbm(best_model, initial_types=initial_type)\n",
    "\n",
    "# Save the ONNX model to a file\n",
    "with open(\"cards_affinity.onnx\", \"wb\") as f:\n",
    "    f.write(onnx_model.SerializeToString())"
   ]
  },
  {
   "cell_type": "markdown",
   "id": "249214ed-bcfd-45ce-8fc5-2ea045afc6cd",
   "metadata": {},
   "source": [
    "#### Check ONNX"
   ]
  },
  {
   "cell_type": "code",
   "execution_count": null,
   "id": "2eae54f0-668d-4f50-94b0-f1c81ec2caee",
   "metadata": {},
   "outputs": [],
   "source": [
    "# Load the ONNX model\n",
    "onnx_model = onnx.load(\"cards_affinity.onnx\")\n",
    "\n",
    "# Check the model\n",
    "onnx.checker.check_model(onnx_model)\n",
    "print(\"The model is valid!\")"
   ]
  },
  {
   "cell_type": "markdown",
   "id": "15f6bda8-1228-4610-afb5-fb3e4775089f",
   "metadata": {},
   "source": [
    "#### Upload to Artifactory "
   ]
  },
  {
   "cell_type": "markdown",
   "id": "dde75a1d-c457-49cf-bb5a-9e8d8114a3c4",
   "metadata": {},
   "source": [
    "##### Step 1: Define python function that enables you to run bash command in python"
   ]
  },
  {
   "cell_type": "code",
   "execution_count": null,
   "id": "b2052e89-9e3a-4861-b565-d8b95ac26b79",
   "metadata": {},
   "outputs": [],
   "source": [
    "import subprocess \n",
    "\n",
    "def run_cmd(args_list):\n",
    "        \"\"\"\n",
    "        run linux commands\n",
    "        \"\"\"\n",
    "        # import subprocess\n",
    "        print('Running system command: {0}'.format(' '.join(args_list)))\n",
    "        proc = subprocess.Popen(args_list, stdout=subprocess.PIPE, stderr=subprocess.PIPE)\n",
    "        s_output, s_err = proc.communicate()\n",
    "        s_return =  proc.returncode\n",
    "        return s_return, s_output, s_err "
   ]
  },
  {
   "cell_type": "markdown",
   "id": "0d09c73a-7d15-4071-8463-ac7dfd96af47",
   "metadata": {},
   "source": [
    "##### Step 2: Prep parameters"
   ]
  },
  {
   "cell_type": "code",
   "execution_count": null,
   "id": "7315e77a-8436-4177-80f0-a5a878775f73",
   "metadata": {},
   "outputs": [],
   "source": [
    "folder_name = \"LATEST\"\n",
    "repo_name = \"cards_affinity\"\n",
    "model_name = \"cards_affinity.onnx\"\n",
    "file_type = \"zip\" # Replace with your type of file\n",
    "user = \"XXXXXXX\"  # Replace with your lan id\n",
    "pwd = \"XXXXXXX\"  # Replace with your lan id password\n",
    "artifact_access = \"generic-0as0\" # Different developers have different permissions. Put a path that you have permission to access to.\n",
    "artifactory = f\"http:/.../artifactory/{artifact_access}/models/{repo_name}/{folder_name}/{model_name}\""
   ]
  },
  {
   "cell_type": "markdown",
   "id": "27e432aa-d419-46b0-bf0d-4aa2edf81d3a",
   "metadata": {},
   "source": [
    "##### Step 3: Upload model to artifactory"
   ]
  },
  {
   "cell_type": "code",
   "execution_count": null,
   "id": "f5d43027-e463-4354-b190-44b38ca513dc",
   "metadata": {},
   "outputs": [],
   "source": [
    "command_upload_to_artifactory = f'curl -u {user}:{pwd} -X PUT {artifactory} -T {model_name}'.split()\n",
    "(ret, out, err)= run_cmd(command_upload_to_artifactory)"
   ]
  },
  {
   "cell_type": "markdown",
   "id": "1ddadd05-02a7-4f5e-8ec2-b6b494c33f94",
   "metadata": {},
   "source": [
    "--- END PROGRAM ---"
   ]
  },
  {
   "cell_type": "code",
   "execution_count": null,
   "id": "9349144b-9175-4602-b706-2d60d3b4fe5a",
   "metadata": {},
   "outputs": [],
   "source": [
    "#Timing summary\n",
    "end_time = time.time()\n",
    "end_cpu_time = time.process_time()\n",
    "\n",
    "real_time_elapsed = end_time - start_time\n",
    "cpu_time_elapsed = end_cpu_time - start_cpu_time\n",
    "\n",
    "print(f\"Real time: {real_time_elapsed:.2f} seconds\")\n",
    "print(f\"CPU time: {cpu_time_elapsed:.2f} seconds\")"
   ]
  }
 ],
 "metadata": {
  "kernelspec": {
   "display_name": "Python [conda env:base] *",
   "language": "python",
   "name": "conda-base-py"
  },
  "language_info": {
   "codemirror_mode": {
    "name": "ipython",
    "version": 3
   },
   "file_extension": ".py",
   "mimetype": "text/x-python",
   "name": "python",
   "nbconvert_exporter": "python",
   "pygments_lexer": "ipython3",
   "version": "3.12.7"
  }
 },
 "nbformat": 4,
 "nbformat_minor": 5
}
