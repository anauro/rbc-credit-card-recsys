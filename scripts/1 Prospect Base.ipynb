{
 "cells": [
  {
   "cell_type": "markdown",
   "id": "996b2093-685c-419e-bbac-2addac37b979",
   "metadata": {},
   "source": [
    "## PROSPECT BASE\n",
    "\n",
    "To train our model, we will be using prospects who applied to a given credit card on the RBC public site. Note, it doesn't matter if they were approved or not, it's important that they applied. "
   ]
  },
  {
   "cell_type": "markdown",
   "id": "d473fbbf-fe5b-444c-b30a-0901b968dcc3",
   "metadata": {},
   "source": [
    "##### Timing \n",
    "We want to time how long these programs take to run. We are interested both in real time and CPU time. "
   ]
  },
  {
   "cell_type": "code",
   "execution_count": null,
   "id": "49ef5b59-d3fa-4976-934c-e2f3220475ac",
   "metadata": {},
   "outputs": [],
   "source": [
    "import time \n",
    "\n",
    "start_time = time.time()\n",
    "start_cpu_time = time.process_time()"
   ]
  },
  {
   "cell_type": "markdown",
   "id": "d003af9b-5a91-4d85-bc8b-e257109524eb",
   "metadata": {},
   "source": [
    "#### Set Up"
   ]
  },
  {
   "cell_type": "code",
   "execution_count": null,
   "id": "9a81b34d-661a-4b16-9660-c5d66749bd75",
   "metadata": {},
   "outputs": [],
   "source": [
    "import os\n",
    "import numpy as np\n",
    "import calendar\n",
    "\n",
    "import pyspark\n",
    "from pyspark.sql import SparkSession\n",
    "\n",
    "from pyspark.sql.functions import udf\n",
    "from pyspark.sql.types import IntegerType, StringType, FloatType\n",
    "from pyspark.sql.functions import collect_list, regexp_replace, lower\n",
    "from pyspark.sql import functions as F\n",
    "from pyspark.sql import Window\n",
    "from pyspark.sql.functions import year, month, dayofmonth, to_date, trim, concat, col, lit\n",
    "from functools import reduce\n",
    "\n",
    "import datetime \n",
    "from datetime import datetime as dt\n",
    "from dateutil.relativedelta import *\n",
    "import pandas as pd"
   ]
  },
  {
   "cell_type": "markdown",
   "id": "2b0f0e53-543d-4e32-bc19-00e761803f9c",
   "metadata": {},
   "source": [
    "#### Load in Applicant Data\n",
    "\n",
    "Define the look back period as the 12 months prior to current date. (!) The exception being that GA4 was only implemented in July 2024 (!)\n",
    "\n",
    "__We also want to apply the following filters to these applicants:__ \n",
    "- Personal, not business client; approved product is a personal banking account (PROD_APPRVD = P)\n",
    "- Not an existing client (CLNT_TENURE_SEG_CD != EXISTING) "
   ]
  },
  {
   "cell_type": "markdown",
   "id": "e97c901a-a62d-4de3-aec3-0126a99bc066",
   "metadata": {},
   "source": [
    "##### Function to Pull Months"
   ]
  },
  {
   "cell_type": "code",
   "execution_count": null,
   "id": "f901f1ba-2f3f-42b4-ab1f-bc1a105d1958",
   "metadata": {},
   "outputs": [],
   "source": [
    "def month_end_list(num_months): \n",
    "\n",
    "    #Define period start and end based on today's date \n",
    "    today = datetime.date.today()\n",
    "    period_start = today.replace(day=1) + relativedelta(months=-num_months)\n",
    "    period_end = today.replace(day=1)\n",
    "\n",
    "    #Make sure we keep only the period that we have GA4 rolled out - before July 31, 2024\n",
    "    #We will be looking at previous sessions and logins 30 days before app\n",
    "    #Therefore, we really care about the period after Aug 2024\n",
    "    #if (period_start < datetime.date(2024,8,1)): #August\n",
    "    #   period_start = datetime.date(2024,8,1)\n",
    "\n",
    "    #Create list of month ends\n",
    "    dtrange = pd.date_range(start=period_start, end=period_end, freq='d')\n",
    "    months = pd.Series(dtrange.month)\n",
    "    starts, ends = months.ne(months.shift(1)), months.ne(months.shift(-1))\n",
    "    df = pd.DataFrame({'month_starting_date': dtrange[starts].strftime('%Y-%m-%d'),\n",
    "                       'month_ending_date': dtrange[ends].strftime('%Y-%m-%d')})\n",
    "    \n",
    "    me_list = list(df['month_ending_date'])[:-1]\n",
    "    return me_list "
   ]
  },
  {
   "cell_type": "code",
   "execution_count": null,
   "id": "f6a040c6-e691-44f6-9b0a-37cbdf645aa0",
   "metadata": {},
   "outputs": [],
   "source": [
    "print(month_end_list(11))"
   ]
  },
  {
   "cell_type": "markdown",
   "id": "5d0d780c-ade6-40cf-b4c0-36e5d3f75339",
   "metadata": {},
   "source": [
    "##### Function to Check Existing File Paths"
   ]
  },
  {
   "cell_type": "code",
   "execution_count": null,
   "id": "aa4390e5-9440-48a8-9182-89180225daad",
   "metadata": {},
   "outputs": [],
   "source": [
    "def check_folder(path):\n",
    "\n",
    "    # Access Hadoop FileSystem\n",
    "    hadoop_fs = spark._jsc.hadoopConfiguration()\n",
    "    fs = spark._jvm.org.apache.hadoop.fs.FileSystem.get(hadoop_fs)\n",
    "    \n",
    "    # List subfolders\n",
    "    files = fs.listStatus(spark._jvm.org.apache.hadoop.fs.Path(path))\n",
    "    subfolders = [file.getPath().getName() for file in files if file.isDirectory()]\n",
    "        \n",
    "    return subfolders"
   ]
  },
  {
   "cell_type": "markdown",
   "id": "c7238d82-853a-4f97-869b-d0edbae1ee0d",
   "metadata": {},
   "source": [
    "##### Function to Import Applicant Data for Each Month in Range"
   ]
  },
  {
   "cell_type": "code",
   "execution_count": null,
   "id": "ad37763d-c383-423e-96b5-4bd90d36b33a",
   "metadata": {},
   "outputs": [],
   "source": [
    "subfolders = check_folder(\"/anaurosevic/cdn0_cards_affinity/appl_fact/\")\n",
    "print(subfolders)"
   ]
  },
  {
   "cell_type": "code",
   "execution_count": null,
   "id": "005988b2-b3bd-48a7-a66b-d2c2d9946ca4",
   "metadata": {},
   "outputs": [],
   "source": [
    "months_to_download = list(set(month_end_list(10)) - set(subfolders))\n",
    "print(months_to_download)"
   ]
  },
  {
   "cell_type": "code",
   "execution_count": null,
   "id": "9981d414-e990-45cf-8f7e-d4b32e894a54",
   "metadata": {},
   "outputs": [],
   "source": [
    "#Import for each month end date \n",
    "def import_appl_fact(me_list): \n",
    "\n",
    "    #Loop over list of month ends\n",
    "    for i in me_list: \n",
    "        print(i)\n",
    "\n",
    "        #Set file name\n",
    "        folder_path =  \"/anaurosevic/cdn0_cards_affinity/appl_fact/\"\n",
    "        file_path = folder_path + str(i)\n",
    "    \n",
    "        #Create date filter string \n",
    "        date_filter_string = \"ME_DT == '\" + str(i) + \"'\"\n",
    "    \n",
    "        appl_fact = spark.read.option(\n",
    "            \"basePath\",\"...DAILY_APPLICANT...\").load(\n",
    "            \"...DAILY_APPLICANT.../\").filter(\n",
    "            date_filter_string).withColumn(\n",
    "            \"ep_reference_id\", F.substring(F.trim(F.col(\"APPLCNT_NUM\")),0,8)).filter(\n",
    "            #Personal not business client\n",
    "            \"trim(PROD_APPRVD)= 'P'\").filter(\n",
    "            #Not an existing client at the time of application\n",
    "            \"trim(CLNT_TENURE_SEG_CD) != 'EXISTING'\").select(\n",
    "            \"CLNT_NO\",\"APPLCNT_NUM\",\"ep_reference_id\",\"PSTCD\",\"APP_RCV_DT\",\n",
    "        ).distinct()\n",
    "            \n",
    "        appl_fact.coalesce(1).write.mode(\"overwrite\").parquet(file_path)\n",
    "\n",
    "    return appl_fact "
   ]
  },
  {
   "cell_type": "code",
   "execution_count": null,
   "id": "abc799cb-c85d-436b-9108-2275b9498ac1",
   "metadata": {},
   "outputs": [],
   "source": [
    "#import_appl_fact(months_to_download)\n",
    "import_appl_fact(['2025-06-30']) #Just for testing"
   ]
  },
  {
   "cell_type": "markdown",
   "id": "9139a873-77cb-46bb-898f-c8b60050528f",
   "metadata": {},
   "source": [
    "##### Combine Files "
   ]
  },
  {
   "cell_type": "code",
   "execution_count": null,
   "id": "b653a25b-9b58-48b0-b586-81010d588893",
   "metadata": {},
   "outputs": [],
   "source": [
    "#Import \n",
    "base_path = \"/anaurosevic/cdn0_cards_affinity/appl_fact/\"\n",
    "\n",
    "for i in range (0,len(month_end_list(11))): \n",
    "\n",
    "    dynamic_path = base_path + str(month_end_list(11)[i])\n",
    "    month = spark.read.load(dynamic_path)\n",
    "    \n",
    "    if i==0:\n",
    "        appl_12m = month\n",
    "    else:\n",
    "        appl_12m = appl_12m.union(month)"
   ]
  },
  {
   "cell_type": "code",
   "execution_count": null,
   "id": "b01c6408-2983-4f4d-b82a-2b5713e4799c",
   "metadata": {},
   "outputs": [],
   "source": [
    "print(appl_12m.count())\n",
    "print(appl_12m.distinct().count()) #Yay"
   ]
  },
  {
   "cell_type": "markdown",
   "id": "5ee17e77-a96f-43a6-818c-bd5b113478ec",
   "metadata": {},
   "source": [
    "#### Load in E-commerce Data\n",
    "This tells us who who clicked submit on the credit cards application flow via the public site. We only want to keep customers that applied through the public site (basically exclude situations where they went through an advisor or some other form)."
   ]
  },
  {
   "cell_type": "markdown",
   "id": "6f0c4d78-57dd-49af-b7de-7130e1996a09",
   "metadata": {},
   "source": [
    "##### Function to Import E-Commerce Data for Each Month in Range"
   ]
  },
  {
   "cell_type": "code",
   "execution_count": null,
   "id": "5a02f2bc-963a-4b87-8043-1c21fb96a7b9",
   "metadata": {},
   "outputs": [],
   "source": [
    "subfolders = check_folder(\"/anaurosevic/cdn0_cards_affinity/ecommerce/\") #These are the files we have already downloaded :) \n",
    "print(subfolders)"
   ]
  },
  {
   "cell_type": "code",
   "execution_count": null,
   "id": "97e59395-9b44-4b36-a96b-45b7aff0aa02",
   "metadata": {},
   "outputs": [],
   "source": [
    "months_to_download = list(set(month_end_list(10)) - set(subfolders))\n",
    "print(months_to_download)"
   ]
  },
  {
   "cell_type": "code",
   "execution_count": null,
   "id": "73e65d7a-015f-49fc-9fae-d8c032ec806e",
   "metadata": {},
   "outputs": [],
   "source": [
    "def import_ecommerce_data(me_list): \n",
    "\n",
    "    date = dt.strptime(me_list[0], '%Y-%m-%d').date()\n",
    "\n",
    "    #Loop over list of month ends\n",
    "    for i in range(0,len(me_list)): \n",
    "        print(me_list[i])\n",
    "\n",
    "        #Set file name for saving \n",
    "        save_folder_path =  \"/anaurosevic/cdn0_cards_affinity/ecommerce/\"\n",
    "        save_file_path =  save_folder_path + str(me_list[i])\n",
    "\n",
    "        #Location of files \n",
    "        data_folder_path = \"...GA4_ECOMMERCE...\"\n",
    "        date = dt.strptime(me_list[i], '%Y-%m-%d').date()\n",
    "        date_filter_string = \"YEAR=\" + str(date.strftime('%Y')) + \"/Month=\" + str(date.strftime('%m')) + \"/\"\n",
    "        data_file_path = data_folder_path + date_filter_string\n",
    "\n",
    "        #Import data \n",
    "        ecommerce = spark.read.load(\n",
    "            data_file_path).filter(\n",
    "            \"ep_lob = 'credit cards' and ep_content_group = 'credit cards : cardapp'\").filter(\n",
    "            #Made it to the final submission step\n",
    "            \"ep_step_name = 'step_finished'\").filter(\n",
    "            #Not missing application ID\n",
    "            \"ep_reference_id is not null\").filter(\n",
    "            #Make sure we don't have internal traffic - e.g., branch computer\n",
    "            \"ep_traffic_type is null\").withColumn(\n",
    "            #Format CC choice\n",
    "            \"product_code\", F.substring(\"it_item_id\",3,3)).select(  \n",
    "            \"user_pseudo_id\", F.trim(F.col(\"ep_reference_id\")).alias(\"ep_reference_id\"), \n",
    "            \"event_date\", \"user_session_id\", \"product_code\").distinct()\n",
    "                \n",
    "        ecommerce.coalesce(1).write.mode(\"overwrite\").parquet(save_file_path)\n",
    "\n",
    "    return ecommerce "
   ]
  },
  {
   "cell_type": "code",
   "execution_count": null,
   "id": "3e327535-8651-4de7-9f3a-0ef859f9d1e7",
   "metadata": {},
   "outputs": [],
   "source": [
    "#import_ecommerce_data(months_to_download)\n",
    "import_ecommerce_data(['2025-06-30']) #Just for testing"
   ]
  },
  {
   "cell_type": "markdown",
   "id": "5755f1cb-7431-453f-8e23-02f5617f5b50",
   "metadata": {},
   "source": [
    "##### Combine Files "
   ]
  },
  {
   "cell_type": "code",
   "execution_count": null,
   "id": "1fcb8111-b24b-45f3-85e1-565bec547b4f",
   "metadata": {},
   "outputs": [],
   "source": [
    "#Import \n",
    "base_path = \"/anaurosevic/cdn0_cards_affinity/ecommerce/\"\n",
    "\n",
    "for i in range (0,len(month_end_list(11))): \n",
    "\n",
    "    dynamic_path = base_path + str(month_end_list(11)[i])\n",
    "    month = spark.read.load(dynamic_path)\n",
    "    \n",
    "    if i==0:\n",
    "        ecommerce_12m = month\n",
    "    else:\n",
    "        ecommerce_12m = ecommerce_12m.union(month)"
   ]
  },
  {
   "cell_type": "code",
   "execution_count": null,
   "id": "aa43fd25-9d33-4f87-b3c3-4ad725407ece",
   "metadata": {},
   "outputs": [],
   "source": [
    "print(ecommerce_12m.count())\n",
    "print(ecommerce_12m.distinct().count())\n",
    "#Great, no duplicates to worry about :) "
   ]
  },
  {
   "cell_type": "markdown",
   "id": "739509dd-1426-4af2-aaf5-4f1afd4155b0",
   "metadata": {},
   "source": [
    "#### Join Tables to Identify Prospect Base\n",
    "Join the two tables so that we can ensure that customers who made it to the CC submission point (via e-commerce) are not existing clients. "
   ]
  },
  {
   "cell_type": "code",
   "execution_count": null,
   "id": "bfe0ce23-187a-43d3-9c77-d374cb4f50ca",
   "metadata": {},
   "outputs": [],
   "source": [
    "#Join applicant table to e-commerce table via ep_reference_id\n",
    "#Ignore existing clients \n",
    "ga_to_appl = ecommerce_12m.join(appl_12m, [\n",
    "    (ecommerce_12m.ep_reference_id == appl_12m.ep_reference_id) & (ecommerce_12m.event_date <= appl_12m.APP_RCV_DT)\n",
    "]).drop(ecommerce_12m.ep_reference_id)"
   ]
  },
  {
   "cell_type": "code",
   "execution_count": null,
   "id": "9f600ba1-bb05-4789-b903-e92332398459",
   "metadata": {},
   "outputs": [],
   "source": [
    "ga_to_appl.printSchema()"
   ]
  },
  {
   "cell_type": "code",
   "execution_count": null,
   "id": "83126671-a36b-44a6-ab54-87b80e736604",
   "metadata": {},
   "outputs": [],
   "source": [
    "ga_to_appl.show(5, False)"
   ]
  },
  {
   "cell_type": "code",
   "execution_count": null,
   "id": "12a793f3-4ae4-4910-8c71-849fb3b25b35",
   "metadata": {},
   "outputs": [],
   "source": [
    "ga_to_appl.count()"
   ]
  },
  {
   "cell_type": "code",
   "execution_count": null,
   "id": "ea81342d-c583-4e7c-8b3d-0bbc3de88c65",
   "metadata": {},
   "outputs": [],
   "source": [
    "#Grab subset of columns of interest ~\n",
    "new_clients = ga_to_appl.withColumnRenamed(\n",
    "    \"PSTCD\",\"postal_code\").select(\n",
    "    \"user_pseudo_id\",\"user_session_id\",\"ep_reference_id\",F.col(\"CLNT_NO\").alias('clnt_no'),\"postal_code\",\"product_code\",\"event_date\").persist()"
   ]
  },
  {
   "cell_type": "code",
   "execution_count": null,
   "id": "c8a805e3-706b-4829-87e9-a05aee9f7a01",
   "metadata": {},
   "outputs": [],
   "source": [
    "new_clients.show(5,False)"
   ]
  },
  {
   "cell_type": "code",
   "execution_count": null,
   "id": "e5a9ed06-6caa-4693-b425-38c4c60255f1",
   "metadata": {},
   "outputs": [],
   "source": [
    "new_clients.count()"
   ]
  },
  {
   "cell_type": "markdown",
   "id": "9877340e-8506-413a-8bfa-078e6c4dbbed",
   "metadata": {},
   "source": [
    "#### Fix Inconsistencies\n",
    "We would expect each row to be unique: one user, one session, one product, one date. We also shouldn't see cases where there are multiple rows per user_pseudo_id. Therefore, we are removing strange cases like the following: \n",
    "- __(A) Missing user_pseudo_id or user_session_id:__ We won't be able to link these customers to their session details and it is unclear why this would ever be missing\n",
    "- __(B) Multiple applications or cards per session (unique at the session level):__ It could be the following reasons: (1) They are scammers that are re-submitting applications for the same card multiple times; (2) They could be households with diff people applying within the same session off the same device; (3) It could be a branch or public computer during which multiple people are submitting. All three cases are problematic. We will only keep prospects who have 1 application for a single CC in the session.\n",
    "- __(C) Multiple applications or sessions for the same device (unique at the user level):__ Multiple sessions for the same device could be if they get declined or multiple households. We will make the assumption that we should only consider the first application for each device."
   ]
  },
  {
   "cell_type": "markdown",
   "id": "4da75327-9a64-44d6-9555-61313368f795",
   "metadata": {},
   "source": [
    "##### (A) Missing user_pseudo_id or user_session_id"
   ]
  },
  {
   "cell_type": "code",
   "execution_count": null,
   "id": "090b329e-d3c4-4640-a3a2-e53d21718553",
   "metadata": {},
   "outputs": [],
   "source": [
    "print(new_clients.filter(\"user_pseudo_id is null\").count())\n",
    "print(new_clients.filter(\"user_session_id == '_'\").count())\n",
    "#There are 1,807 people who don't have a user pseudo id nor a session id - let's drop these, not sure why they are happening "
   ]
  },
  {
   "cell_type": "code",
   "execution_count": null,
   "id": "637b5ada-fc4f-437c-8b08-d39bfe9d647d",
   "metadata": {},
   "outputs": [],
   "source": [
    "df = new_clients.filter(\"user_pseudo_id is not null\")"
   ]
  },
  {
   "cell_type": "code",
   "execution_count": null,
   "id": "8c560718-6b92-4edc-aa48-e768450ca653",
   "metadata": {},
   "outputs": [],
   "source": [
    "print(df.count())"
   ]
  },
  {
   "cell_type": "markdown",
   "id": "d7dbdc56-a6c5-4d11-8bf1-2679ccd41ee9",
   "metadata": {},
   "source": [
    "##### (B) Multiple applications or cards per session (unique at the session level)"
   ]
  },
  {
   "cell_type": "code",
   "execution_count": null,
   "id": "30753d6a-f63f-4d94-a5f5-dcc66536f5ef",
   "metadata": {},
   "outputs": [],
   "source": [
    "#Keep only people who had one application within the session \n",
    "one_application = df.groupBy([\"user_pseudo_id\",\"user_session_id\"]).count().filter(\"count==1\").select('user_session_id')\n",
    "one_application.show(5,False)"
   ]
  },
  {
   "cell_type": "code",
   "execution_count": null,
   "id": "3661a502-88cb-4d5d-8d93-80d1b2d4b25d",
   "metadata": {},
   "outputs": [],
   "source": [
    "#Merge \n",
    "df_one_app = df.join(one_application, \n",
    "                  [df.user_session_id == one_application.user_session_id],\"inner\").drop(\n",
    "    one_application.user_session_id).select(\n",
    "    \"user_pseudo_id\",\"user_session_id\",\"clnt_no\",\"event_date\",\"postal_code\",\"product_code\").distinct()\n",
    "df_one_app.count()\n",
    "#Now it should be unique at the session level - within each session, the customer only applied once! "
   ]
  },
  {
   "cell_type": "code",
   "execution_count": null,
   "id": "1c5b6a10-61db-4bb0-8e73-bf392b870daa",
   "metadata": {},
   "outputs": [],
   "source": [
    "df_one_app.show(5,False)"
   ]
  },
  {
   "cell_type": "code",
   "execution_count": null,
   "id": "e943d448-8d09-445e-89fd-405ce9a9b868",
   "metadata": {},
   "outputs": [],
   "source": [
    "#Grab session timestamp! \n",
    "df_one_app = df_one_app.withColumn(\n",
    "    \"session_timestamp\", F.from_unixtime(F.split(F.col(\"user_session_id\"), \"_\").getItem(1)))\n",
    "df_one_app.show(5,False)"
   ]
  },
  {
   "cell_type": "markdown",
   "id": "98f39a03-74b3-438d-a8e3-a8c2d1991b2e",
   "metadata": {},
   "source": [
    "##### (C) Multiple applications or sessions for the same device (unique at the user level)"
   ]
  },
  {
   "cell_type": "code",
   "execution_count": null,
   "id": "17b6ce6a-5cc7-4d00-bfa8-e2f87512013c",
   "metadata": {},
   "outputs": [],
   "source": [
    "#In these cases, we'll take the first credit card application as the event date and CC for that client\n",
    "df_one_app_first = df_one_app.withColumn(\n",
    "    \"rank\", F.row_number().over(Window.partitionBy(\"user_pseudo_id\").orderBy(\"session_timestamp\"))\n",
    ").filter(\"rank = 1\").drop(\"rank\")"
   ]
  },
  {
   "cell_type": "markdown",
   "id": "2fd21694-4065-4f40-94ea-34c528582d88",
   "metadata": {},
   "source": [
    "##### Add province/territory breakdown \n",
    "Province is important especially for certain cards that are based on region: moi - QC, Westjet - BC."
   ]
  },
  {
   "cell_type": "code",
   "execution_count": null,
   "id": "309daf97-b589-4e1c-ac23-bb541d638390",
   "metadata": {},
   "outputs": [],
   "source": [
    "#Let's also grab the province - province level details are important \n",
    "#Source: https://www12.statcan.gc.ca/census-recensement/2021/ref/dict/tab/index-eng.cfm?ID=T1_9\n",
    "df_one_app_first = df_one_app_first.withColumn(\n",
    "            \"province\",\n",
    "            F.when(\n",
    "                F.substring(\"postal_code\",1,1)=='A','NL').when(\n",
    "                F.substring(\"postal_code\",1,1)=='B','NS').when(\n",
    "                F.substring(\"postal_code\",1,1)=='C','PE').when(\n",
    "                F.substring(\"postal_code\",1,1)=='E','NB').when(\n",
    "                F.substring(\"postal_code\",1,1).isin('G','H','J'), 'QC').when(\n",
    "                F.substring(\"postal_code\",1,1).isin('K','L','M','N','P'), 'ON').when(\n",
    "                F.substring(\"postal_code\",1,1)=='R', 'MB').when(\n",
    "                F.substring(\"postal_code\",1,1)=='S', 'SK').when(\n",
    "                F.substring(\"postal_code\",1,1)=='T', 'AB').when(\n",
    "                F.substring(\"postal_code\",1,1)=='V', 'BC').when(\n",
    "                F.substring(\"postal_code\",1,1)=='X', 'NTNU').when(\n",
    "                F.substring(\"postal_code\",1,1)=='Y', 'YT').otherwise(\n",
    "                \"unk\"))"
   ]
  },
  {
   "cell_type": "markdown",
   "id": "da970e8c-9100-4050-8021-158f07f8f9b0",
   "metadata": {},
   "source": [
    "#### Remove Devices with Client Login in Last 30 Days"
   ]
  },
  {
   "cell_type": "code",
   "execution_count": null,
   "id": "e79091b5-d548-4f2c-a974-d2852ab21650",
   "metadata": {},
   "outputs": [],
   "source": [
    "new_cards = df_one_app_first.withColumn(\n",
    "    \"rank\", F.row_number().over(Window.partitionBy(\"user_pseudo_id\").orderBy(\"event_date\"))\n",
    ").filter(\"rank = 1\").drop(\"rank\").withColumn(\n",
    "    \"date_lag\", F.date_add(F.col(\"event_date\"), -1) # need a one day delay due to above reason\n",
    ").withColumnRenamed(\n",
    "    \"event_date\", \"card_sale_date\")"
   ]
  },
  {
   "cell_type": "markdown",
   "id": "f2e31c51-8213-4c2a-9c93-910b39caf97d",
   "metadata": {},
   "source": [
    "##### Function to Import Visitor Data for Each Month in Range\n",
    "Important: Make sure we have one additional month prior!"
   ]
  },
  {
   "cell_type": "code",
   "execution_count": null,
   "id": "e218041c-88bb-477b-bf39-f4d668ee57e1",
   "metadata": {},
   "outputs": [],
   "source": [
    "print(month_end_list(12))"
   ]
  },
  {
   "cell_type": "code",
   "execution_count": null,
   "id": "7b7d7f3a-05a5-40b1-aaec-cb5e79ad52d7",
   "metadata": {},
   "outputs": [],
   "source": [
    "subfolders = check_folder(\"/anaurosevic/cdn0_cards_affinity/visitor/\")\n",
    "print(subfolders)"
   ]
  },
  {
   "cell_type": "code",
   "execution_count": null,
   "id": "b2314646-cf6e-4152-ac18-f035fadd89f3",
   "metadata": {},
   "outputs": [],
   "source": [
    "months_to_download = list(set(month_end_list(11)) - set(subfolders))\n",
    "print(months_to_download)"
   ]
  },
  {
   "cell_type": "code",
   "execution_count": null,
   "id": "639525d3-8fdf-455c-a3ef-5de781ed6424",
   "metadata": {},
   "outputs": [],
   "source": [
    "def import_visitors_data(me_list): \n",
    "    \n",
    "    #Loop over list of month ends\n",
    "    for i in range(0,len(me_list)): \n",
    "        print(me_list[i])\n",
    "\n",
    "        #Set file name for saving \n",
    "        save_folder_path =  \"/anaurosevic/cdn0_cards_affinity/visitor/\"\n",
    "        save_file_path =  save_folder_path + str(me_list[i]) \n",
    "\n",
    "        #Location of files \n",
    "        data_folder_path = \"...GA4_VISITOR...\"\n",
    "        date = dt.strptime(me_list[i], '%Y-%m-%d').date()\n",
    "        date_filter_string = \"YEAR=\" + str(date.strftime('%Y')) + \"/Month=\" + str(date.strftime('%m'))\n",
    "        data_file_path = data_folder_path + date_filter_string + \"/*\"\n",
    "\n",
    "        #Import data \n",
    "        visitors = spark.read.option(\n",
    "            \"basePath\",data_folder_path).load(\n",
    "            data_file_path).withColumn(\n",
    "            \"visitor_table_date\", \n",
    "            F.to_date(F.concat(F.col(\"YEAR\"), F.lit(\"-\"), F.col(\"Month\"), F.lit(\"-\"), F.col(\"Day\")), \"yyyy-MM-dd\")).select(\n",
    "            \"user_pseudo_id\",\"visitor_table_date\").distinct()\n",
    "                \n",
    "        visitors.coalesce(1).write.mode(\"overwrite\").parquet(save_file_path)\n",
    "\n",
    "    return visitors "
   ]
  },
  {
   "cell_type": "code",
   "execution_count": null,
   "id": "a3d063ab-ce85-4328-a6d2-4521d9c0bd38",
   "metadata": {},
   "outputs": [],
   "source": [
    "#import_visitors_data(months_to_download)\n",
    "import_visitors_data(['2025-06-30']) #Just to test "
   ]
  },
  {
   "cell_type": "markdown",
   "id": "4d4dd835-f54e-41f9-9f60-b815dc253a89",
   "metadata": {},
   "source": [
    "##### Combine Files "
   ]
  },
  {
   "cell_type": "code",
   "execution_count": null,
   "id": "15ee9a0e-c281-49d2-ac63-e80530ef6af2",
   "metadata": {},
   "outputs": [],
   "source": [
    "#Import \n",
    "base_path = \"/anaurosevic/cdn0_cards_affinity/visitor/\"\n",
    "\n",
    "for i in range (0,len(month_end_list(12))): \n",
    "\n",
    "    dynamic_path = base_path + str(month_end_list(12)[i])\n",
    "    month = spark.read.load(dynamic_path)\n",
    "    \n",
    "    if i==0:\n",
    "        visitors_12m = month\n",
    "    else:\n",
    "        visitors_12m = visitors_12m.union(month)"
   ]
  },
  {
   "cell_type": "markdown",
   "id": "cb226bcb-8254-40ae-bf38-9808e495ccae",
   "metadata": {},
   "source": [
    "#### Join Tables to Exclude Devices with Previous Login"
   ]
  },
  {
   "cell_type": "code",
   "execution_count": null,
   "id": "cb891661-2c96-440e-9dea-bfdd4324ecda",
   "metadata": {},
   "outputs": [],
   "source": [
    "new_cards = new_cards.join(visitors_12m, \n",
    "    on=[(new_cards.user_pseudo_id == visitors_12m.user_pseudo_id) & (visitors_12m.visitor_table_date == new_cards.date_lag)], \n",
    "    how='left_anti').drop(\n",
    "    new_cards.date_lag).drop(\n",
    "    visitors_12m.visitor_table_date)"
   ]
  },
  {
   "cell_type": "code",
   "execution_count": null,
   "id": "0de2d699-e2cd-4c50-b1ff-b1ef42272be9",
   "metadata": {},
   "outputs": [],
   "source": [
    "new_cards.count()"
   ]
  },
  {
   "cell_type": "code",
   "execution_count": null,
   "id": "bae6b911-37ee-4830-a3c0-b51819c04ce3",
   "metadata": {},
   "outputs": [],
   "source": [
    "new_cards.show(5, False)"
   ]
  },
  {
   "cell_type": "markdown",
   "id": "592e98c3-0fc1-4d10-b318-8668cd88d75d",
   "metadata": {},
   "source": [
    "#### CCs of Interest"
   ]
  },
  {
   "cell_type": "code",
   "execution_count": null,
   "id": "cb4604ee-1eb3-4b90-87c5-acb9605475f6",
   "metadata": {},
   "outputs": [],
   "source": [
    "cb = new_cards"
   ]
  },
  {
   "cell_type": "code",
   "execution_count": null,
   "id": "38e474a1-211e-4c4c-be9a-6dcbf42819b1",
   "metadata": {},
   "outputs": [],
   "source": [
    "cb.count()"
   ]
  },
  {
   "cell_type": "code",
   "execution_count": null,
   "id": "feb47566-b753-4fbe-afec-349f6c33e1c0",
   "metadata": {},
   "outputs": [],
   "source": [
    "credit_cards = [\"CLO\",\"IAV\",\"ION\",\"MC4\",\"IOP\",\"GCP\",\"MC1\",\"AVP\",\"MC2\",\"MCP\",\"MV1\",\"PLT\",\"GUS\",\"BAP\"]"
   ]
  },
  {
   "cell_type": "code",
   "execution_count": null,
   "id": "d1f12088-5fce-4129-85ca-760104959528",
   "metadata": {},
   "outputs": [],
   "source": [
    "cb.show(3,False)"
   ]
  },
  {
   "cell_type": "code",
   "execution_count": null,
   "id": "2226b10d-75d1-4766-8398-30a27037bbda",
   "metadata": {},
   "outputs": [],
   "source": [
    "cb_ccs_of_interest = cb.filter(F.col('product_code').isin(credit_cards))"
   ]
  },
  {
   "cell_type": "code",
   "execution_count": null,
   "id": "7bba4d33-fafd-4c8a-a1ad-ce81a6ddcf03",
   "metadata": {},
   "outputs": [],
   "source": [
    "cb_ccs_of_interest.groupBy('product_code').count().orderBy(F.desc('count')).show(50,False)"
   ]
  },
  {
   "cell_type": "markdown",
   "id": "783fac5b-d4d8-4642-b86d-8135e8504116",
   "metadata": {},
   "source": [
    "##### Final checks"
   ]
  },
  {
   "cell_type": "code",
   "execution_count": null,
   "id": "ee4dd890-5d75-4505-954a-6cf45d13dd9c",
   "metadata": {},
   "outputs": [],
   "source": [
    "cb_ccs_of_interest.count()"
   ]
  },
  {
   "cell_type": "code",
   "execution_count": null,
   "id": "a8619a60-c5d0-4abe-935d-305d9702291e",
   "metadata": {},
   "outputs": [],
   "source": [
    "cb_ccs_of_interest.agg(F.min(F.col('card_sale_date')).alias('min_date'), F.max(F.col('card_sale_date')).alias('max_date')).show()"
   ]
  },
  {
   "cell_type": "code",
   "execution_count": null,
   "id": "cb8ec361-70ef-4940-b3b3-553af5253442",
   "metadata": {},
   "outputs": [],
   "source": [
    "cb_ccs_of_interest.show(10) #Yay!! :) "
   ]
  },
  {
   "cell_type": "markdown",
   "id": "58c318f9-a9f4-4188-8794-38c9d1dd1f89",
   "metadata": {},
   "source": [
    "#### Save File "
   ]
  },
  {
   "cell_type": "code",
   "execution_count": null,
   "id": "949479e8-a408-4ee2-be47-069569163cfb",
   "metadata": {},
   "outputs": [],
   "source": [
    "cb_ccs_of_interest.coalesce(1).write.mode(\"overwrite\").parquet(\"/anaurosevic/cdn0_cards_affinity/prospect_base/\")"
   ]
  },
  {
   "cell_type": "markdown",
   "id": "3f24b8cc-e6fd-4a8b-ba0a-88f901c564ca",
   "metadata": {},
   "source": [
    "--- END PROGRAM ---"
   ]
  },
  {
   "cell_type": "code",
   "execution_count": null,
   "id": "f8faf48c-2067-41e2-a1b2-725704091734",
   "metadata": {},
   "outputs": [],
   "source": [
    "#Timing summary\n",
    "end_time = time.time()\n",
    "end_cpu_time = time.process_time()\n",
    "\n",
    "real_time_elapsed = end_time - start_time\n",
    "cpu_time_elapsed = end_cpu_time - start_cpu_time\n",
    "\n",
    "print(f\"Real time: {real_time_elapsed:.2f} seconds\")\n",
    "print(f\"CPU time: {cpu_time_elapsed:.2f} seconds\")"
   ]
  }
 ],
 "metadata": {
  "kernelspec": {
   "display_name": "Python [conda env:base] *",
   "language": "python",
   "name": "conda-base-py"
  },
  "language_info": {
   "codemirror_mode": {
    "name": "ipython",
    "version": 3
   },
   "file_extension": ".py",
   "mimetype": "text/x-python",
   "name": "python",
   "nbconvert_exporter": "python",
   "pygments_lexer": "ipython3",
   "version": "3.12.7"
  }
 },
 "nbformat": 4,
 "nbformat_minor": 5
}
