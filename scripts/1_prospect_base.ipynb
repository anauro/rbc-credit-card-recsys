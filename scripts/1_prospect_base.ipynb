{
 "cells": [
  {
   "cell_type": "markdown",
   "id": "996b2093-685c-419e-bbac-2addac37b979",
   "metadata": {},
   "source": [
    "## PROSPECT BASE\n",
    "\n",
    "To train our model, we will be using prospects who applied to a given credit card on the RBC public site. Note, it doesn't matter if they were approved or not, it's important that they applied. "
   ]
  },
  {
   "cell_type": "markdown",
   "id": "d473fbbf-fe5b-444c-b30a-0901b968dcc3",
   "metadata": {},
   "source": [
    "##### Timing \n",
    "We want to time how long these programs take to run. We are interested both in clock time (real time) and wall time (CPU time). "
   ]
  },
  {
   "cell_type": "code",
   "execution_count": 1,
   "id": "49ef5b59-d3fa-4976-934c-e2f3220475ac",
   "metadata": {},
   "outputs": [
    {
     "name": "stdout",
     "output_type": "stream",
     "text": [
      "Starting Spark application\n"
     ]
    },
    {
     "data": {
      "text/html": [
       "<table>\n",
       "<tr><th>ID</th><th>YARN Application ID</th><th>Kind</th><th>State</th><th>Spark UI</th><th>Driver log</th><th>User</th><th>Current session?</th></tr><tr><td>25603</td><td>application_1752182618510_216485</td><td>pyspark</td><td>idle</td><td><a target=\"_blank\" href=\"https://prod0-knox.fg.rbc.com:8443/gateway/cdp-proxy-krb-api/yarn/proxy/application_1752182618510_216485\">Link</a></td><td><a target=\"_blank\" href=\"https://prod0-knox.fg.rbc.com:8443/gateway/cdp-proxy-krb-api/yarn/nodemanager/node/containerlogs/container_e75_1752182618510_216485_01_000001/359335502?scheme=https&host=strplpaedl2103.fg.rbc.com&port=8044\">Link</a></td><td>359335502</td><td>✔</td></tr></table>"
      ],
      "text/plain": [
       "<IPython.core.display.HTML object>"
      ]
     },
     "metadata": {},
     "output_type": "display_data"
    },
    {
     "data": {
      "application/vnd.jupyter.widget-view+json": {
       "model_id": "b20c0cb988174adc80e5a139832f6f62",
       "version_major": 2,
       "version_minor": 0
      },
      "text/plain": [
       "FloatProgress(value=0.0, bar_style='info', description='Progress:', layout=Layout(height='25px', width='50%'),…"
      ]
     },
     "metadata": {},
     "output_type": "display_data"
    },
    {
     "name": "stdout",
     "output_type": "stream",
     "text": [
      "SparkSession available as 'spark'.\n"
     ]
    },
    {
     "data": {
      "application/vnd.jupyter.widget-view+json": {
       "model_id": "be7a959564ee479c9f5e913504b1f398",
       "version_major": 2,
       "version_minor": 0
      },
      "text/plain": [
       "FloatProgress(value=0.0, bar_style='info', description='Progress:', layout=Layout(height='25px', width='50%'),…"
      ]
     },
     "metadata": {},
     "output_type": "display_data"
    }
   ],
   "source": [
    "import time \n",
    "\n",
    "start_time = time.time()\n",
    "start_cpu_time = time.process_time()"
   ]
  },
  {
   "cell_type": "markdown",
   "id": "d003af9b-5a91-4d85-bc8b-e257109524eb",
   "metadata": {},
   "source": [
    "#### Set Up"
   ]
  },
  {
   "cell_type": "code",
   "execution_count": 2,
   "id": "9a81b34d-661a-4b16-9660-c5d66749bd75",
   "metadata": {},
   "outputs": [
    {
     "data": {
      "application/vnd.jupyter.widget-view+json": {
       "model_id": "c2e52893f857408a85e8a30b32025f8d",
       "version_major": 2,
       "version_minor": 0
      },
      "text/plain": [
       "FloatProgress(value=0.0, bar_style='info', description='Progress:', layout=Layout(height='25px', width='50%'),…"
      ]
     },
     "metadata": {},
     "output_type": "display_data"
    }
   ],
   "source": [
    "import os\n",
    "import numpy as np\n",
    "import calendar\n",
    "\n",
    "import pyspark\n",
    "from pyspark.sql import SparkSession\n",
    "\n",
    "from pyspark.sql.functions import udf\n",
    "from pyspark.sql.types import IntegerType, StringType, FloatType\n",
    "from pyspark.sql.functions import collect_list, regexp_replace, lower\n",
    "from pyspark.sql import functions as F\n",
    "from pyspark.sql import Window\n",
    "from pyspark.sql.functions import year, month, dayofmonth, to_date, trim, concat, col, lit\n",
    "from functools import reduce\n",
    "\n",
    "import datetime \n",
    "from datetime import datetime as dt\n",
    "from dateutil.relativedelta import *\n",
    "import pandas as pd"
   ]
  },
  {
   "cell_type": "markdown",
   "id": "2b0f0e53-543d-4e32-bc19-00e761803f9c",
   "metadata": {},
   "source": [
    "#### Load in Applicant Data\n",
    "\n",
    "Define the look back period as the 12 months prior to current date. (!) The exception being that GA4 was only implemented in July 2024 (!)\n",
    "\n",
    "__We also want to apply the following filters to these applicants:__ \n",
    "- Personal, not business client; approved product is a personal banking account (PROD_APPRVD = P)\n",
    "- Not an existing client (CLNT_TENURE_SEG_CD != EXISTING) "
   ]
  },
  {
   "cell_type": "markdown",
   "id": "e97c901a-a62d-4de3-aec3-0126a99bc066",
   "metadata": {},
   "source": [
    "##### Function to Pull Months"
   ]
  },
  {
   "cell_type": "code",
   "execution_count": 3,
   "id": "f901f1ba-2f3f-42b4-ab1f-bc1a105d1958",
   "metadata": {},
   "outputs": [
    {
     "data": {
      "application/vnd.jupyter.widget-view+json": {
       "model_id": "fa55ac831cb44bde80c0130d52a804f2",
       "version_major": 2,
       "version_minor": 0
      },
      "text/plain": [
       "FloatProgress(value=0.0, bar_style='info', description='Progress:', layout=Layout(height='25px', width='50%'),…"
      ]
     },
     "metadata": {},
     "output_type": "display_data"
    }
   ],
   "source": [
    "def month_end_list(num_months): \n",
    "\n",
    "    #Define period start and end based on today's date \n",
    "    today = datetime.date.today()\n",
    "    period_start = today.replace(day=1) + relativedelta(months=-num_months)\n",
    "    period_end = today.replace(day=1)\n",
    "\n",
    "    #Make sure we keep only the period that we have GA4 rolled out - before July 31, 2024\n",
    "    #We will be looking at previous sessions and logins 30 days before app\n",
    "    #Therefore, we really care about the period after Aug 2024\n",
    "    #if (period_start < datetime.date(2024,8,1)): #August\n",
    "    #   period_start = datetime.date(2024,8,1)\n",
    "\n",
    "    #Create list of month ends\n",
    "    dtrange = pd.date_range(start=period_start, end=period_end, freq='d')\n",
    "    months = pd.Series(dtrange.month)\n",
    "    starts, ends = months.ne(months.shift(1)), months.ne(months.shift(-1))\n",
    "    df = pd.DataFrame({'month_starting_date': dtrange[starts].strftime('%Y-%m-%d'),\n",
    "                       'month_ending_date': dtrange[ends].strftime('%Y-%m-%d')})\n",
    "    \n",
    "    me_list = list(df['month_ending_date'])[:-1]\n",
    "    return me_list "
   ]
  },
  {
   "cell_type": "code",
   "execution_count": 4,
   "id": "f6a040c6-e691-44f6-9b0a-37cbdf645aa0",
   "metadata": {},
   "outputs": [
    {
     "data": {
      "application/vnd.jupyter.widget-view+json": {
       "model_id": "d418aba9f782400bb7df5e9b0b34ec6f",
       "version_major": 2,
       "version_minor": 0
      },
      "text/plain": [
       "FloatProgress(value=0.0, bar_style='info', description='Progress:', layout=Layout(height='25px', width='50%'),…"
      ]
     },
     "metadata": {},
     "output_type": "display_data"
    },
    {
     "name": "stdout",
     "output_type": "stream",
     "text": [
      "['2024-08-31', '2024-09-30', '2024-10-31', '2024-11-30', '2024-12-31', '2025-01-31', '2025-02-28', '2025-03-31', '2025-04-30', '2025-05-31', '2025-06-30']"
     ]
    }
   ],
   "source": [
    "print(month_end_list(11))"
   ]
  },
  {
   "cell_type": "markdown",
   "id": "5d0d780c-ade6-40cf-b4c0-36e5d3f75339",
   "metadata": {},
   "source": [
    "##### Function to Check Existing File Paths"
   ]
  },
  {
   "cell_type": "code",
   "execution_count": 5,
   "id": "aa4390e5-9440-48a8-9182-89180225daad",
   "metadata": {},
   "outputs": [
    {
     "data": {
      "application/vnd.jupyter.widget-view+json": {
       "model_id": "8357fcac25e04a7287fd2ecbeb94756d",
       "version_major": 2,
       "version_minor": 0
      },
      "text/plain": [
       "FloatProgress(value=0.0, bar_style='info', description='Progress:', layout=Layout(height='25px', width='50%'),…"
      ]
     },
     "metadata": {},
     "output_type": "display_data"
    }
   ],
   "source": [
    "def check_folder(path):\n",
    "\n",
    "    # Access Hadoop FileSystem\n",
    "    hadoop_fs = spark._jsc.hadoopConfiguration()\n",
    "    fs = spark._jvm.org.apache.hadoop.fs.FileSystem.get(hadoop_fs)\n",
    "    \n",
    "    # List subfolders\n",
    "    files = fs.listStatus(spark._jvm.org.apache.hadoop.fs.Path(path))\n",
    "    subfolders = [file.getPath().getName() for file in files if file.isDirectory()]\n",
    "        \n",
    "    return subfolders"
   ]
  },
  {
   "cell_type": "markdown",
   "id": "c7238d82-853a-4f97-869b-d0edbae1ee0d",
   "metadata": {},
   "source": [
    "##### Function to Import Applicant Data for Each Month in Range"
   ]
  },
  {
   "cell_type": "code",
   "execution_count": 6,
   "id": "ad37763d-c383-423e-96b5-4bd90d36b33a",
   "metadata": {},
   "outputs": [
    {
     "data": {
      "application/vnd.jupyter.widget-view+json": {
       "model_id": "e4b794c1b3f2427d837e9e2a7cd183a4",
       "version_major": 2,
       "version_minor": 0
      },
      "text/plain": [
       "FloatProgress(value=0.0, bar_style='info', description='Progress:', layout=Layout(height='25px', width='50%'),…"
      ]
     },
     "metadata": {},
     "output_type": "display_data"
    },
    {
     "name": "stdout",
     "output_type": "stream",
     "text": [
      "['2024-08-31', '2024-09-30', '2024-10-31', '2024-11-30', '2024-12-31', '2025-01-31', '2025-02-28', '2025-03-31', '2025-04-30', '2025-05-31', '2025-06-30']"
     ]
    }
   ],
   "source": [
    "subfolders = check_folder(\"/prod/14460/app/UQ20/data/lab/POMA/anaurosevic/cdn0_cards_affinity/appl_fact/\")\n",
    "print(subfolders)"
   ]
  },
  {
   "cell_type": "code",
   "execution_count": 7,
   "id": "005988b2-b3bd-48a7-a66b-d2c2d9946ca4",
   "metadata": {},
   "outputs": [
    {
     "data": {
      "application/vnd.jupyter.widget-view+json": {
       "model_id": "0ec5131ba78c4ded8519764b4ee4efae",
       "version_major": 2,
       "version_minor": 0
      },
      "text/plain": [
       "FloatProgress(value=0.0, bar_style='info', description='Progress:', layout=Layout(height='25px', width='50%'),…"
      ]
     },
     "metadata": {},
     "output_type": "display_data"
    },
    {
     "name": "stdout",
     "output_type": "stream",
     "text": [
      "[]"
     ]
    }
   ],
   "source": [
    "months_to_download = list(set(month_end_list(10)) - set(subfolders))\n",
    "print(months_to_download)"
   ]
  },
  {
   "cell_type": "code",
   "execution_count": 8,
   "id": "9981d414-e990-45cf-8f7e-d4b32e894a54",
   "metadata": {},
   "outputs": [
    {
     "data": {
      "application/vnd.jupyter.widget-view+json": {
       "model_id": "27f28dbef9e6447e9fc7d80e968095d5",
       "version_major": 2,
       "version_minor": 0
      },
      "text/plain": [
       "FloatProgress(value=0.0, bar_style='info', description='Progress:', layout=Layout(height='25px', width='50%'),…"
      ]
     },
     "metadata": {},
     "output_type": "display_data"
    }
   ],
   "source": [
    "#Import for each month end date \n",
    "def import_appl_fact(me_list): \n",
    "\n",
    "    #Loop over list of month ends\n",
    "    for i in me_list: \n",
    "        print(i)\n",
    "\n",
    "        #Set file name\n",
    "        folder_path =  \"/prod/14460/app/UQ20/data/lab/POMA/anaurosevic/cdn0_cards_affinity/appl_fact/\"\n",
    "        file_path = folder_path + str(i)\n",
    "    \n",
    "        #Create date filter string \n",
    "        date_filter_string = \"ME_DT == '\" + str(i) + \"'\"\n",
    "    \n",
    "        appl_fact = spark.read.option(\n",
    "            \"basePath\",\"/prod/sz/tsz/00104/cc/D3CTA_TAPPL_FACT_DLY_COMPL/\").load(\n",
    "            \"/prod/sz/tsz/00104/cc/D3CTA_TAPPL_FACT_DLY_COMPL/\").filter(\n",
    "            date_filter_string).withColumn(\n",
    "            \"ep_reference_id\", F.substring(F.trim(F.col(\"APPLCNT_NUM\")),0,8)).filter(\n",
    "            #Personal not business client\n",
    "            \"trim(PROD_APPRVD)= 'P'\").filter(\n",
    "            #Not an existing client at the time of application\n",
    "            \"trim(CLNT_TENURE_SEG_CD) != 'EXISTING'\").select(\n",
    "            \"CLNT_NO\",\"APPLCNT_NUM\",\"ep_reference_id\",\"PSTCD\",\"APP_RCV_DT\",\n",
    "        ).distinct()\n",
    "            \n",
    "        appl_fact.coalesce(1).write.mode(\"overwrite\").parquet(file_path)\n",
    "\n",
    "    return appl_fact "
   ]
  },
  {
   "cell_type": "code",
   "execution_count": 9,
   "id": "abc799cb-c85d-436b-9108-2275b9498ac1",
   "metadata": {},
   "outputs": [
    {
     "data": {
      "application/vnd.jupyter.widget-view+json": {
       "model_id": "0b7b96ffbcd841a5ab01836ae05097e5",
       "version_major": 2,
       "version_minor": 0
      },
      "text/plain": [
       "FloatProgress(value=0.0, bar_style='info', description='Progress:', layout=Layout(height='25px', width='50%'),…"
      ]
     },
     "metadata": {},
     "output_type": "display_data"
    },
    {
     "name": "stdout",
     "output_type": "stream",
     "text": [
      "2025-06-30\n",
      "DataFrame[CLNT_NO: int, APPLCNT_NUM: decimal(13,0), ep_reference_id: string, PSTCD: string, APP_RCV_DT: date]"
     ]
    }
   ],
   "source": [
    "#import_appl_fact(months_to_download)\n",
    "import_appl_fact(['2025-06-30']) #Just for testing"
   ]
  },
  {
   "cell_type": "markdown",
   "id": "9139a873-77cb-46bb-898f-c8b60050528f",
   "metadata": {},
   "source": [
    "##### Combine Files "
   ]
  },
  {
   "cell_type": "code",
   "execution_count": 10,
   "id": "b653a25b-9b58-48b0-b586-81010d588893",
   "metadata": {},
   "outputs": [
    {
     "data": {
      "application/vnd.jupyter.widget-view+json": {
       "model_id": "b976403bdf954f9d9dc7b076fc9fa54c",
       "version_major": 2,
       "version_minor": 0
      },
      "text/plain": [
       "FloatProgress(value=0.0, bar_style='info', description='Progress:', layout=Layout(height='25px', width='50%'),…"
      ]
     },
     "metadata": {},
     "output_type": "display_data"
    }
   ],
   "source": [
    "#Import \n",
    "base_path = \"/prod/14460/app/UQ20/data/lab/POMA/anaurosevic/cdn0_cards_affinity/appl_fact/\"\n",
    "\n",
    "for i in range (0,len(month_end_list(11))): \n",
    "\n",
    "    dynamic_path = base_path + str(month_end_list(11)[i])\n",
    "    month = spark.read.load(dynamic_path)\n",
    "    \n",
    "    if i==0:\n",
    "        appl_12m = month\n",
    "    else:\n",
    "        appl_12m = appl_12m.union(month)"
   ]
  },
  {
   "cell_type": "code",
   "execution_count": 11,
   "id": "b01c6408-2983-4f4d-b82a-2b5713e4799c",
   "metadata": {},
   "outputs": [
    {
     "data": {
      "application/vnd.jupyter.widget-view+json": {
       "model_id": "31dc99f843f346a6bd7a09b5d6bb154f",
       "version_major": 2,
       "version_minor": 0
      },
      "text/plain": [
       "FloatProgress(value=0.0, bar_style='info', description='Progress:', layout=Layout(height='25px', width='50%'),…"
      ]
     },
     "metadata": {},
     "output_type": "display_data"
    },
    {
     "name": "stdout",
     "output_type": "stream",
     "text": [
      "344457\n",
      "344457"
     ]
    }
   ],
   "source": [
    "print(appl_12m.count())\n",
    "print(appl_12m.distinct().count()) #Yay"
   ]
  },
  {
   "cell_type": "markdown",
   "id": "5ee17e77-a96f-43a6-818c-bd5b113478ec",
   "metadata": {},
   "source": [
    "#### Load in E-commerce Data\n",
    "This tells us who who clicked submit on the credit cards application flow via the public site. We only want to keep customers that applied through the public site (basically exclude situations where they went through an advisor or some other form)."
   ]
  },
  {
   "cell_type": "markdown",
   "id": "6f0c4d78-57dd-49af-b7de-7130e1996a09",
   "metadata": {},
   "source": [
    "##### Function to Import E-Commerce Data for Each Month in Range"
   ]
  },
  {
   "cell_type": "code",
   "execution_count": 12,
   "id": "5a02f2bc-963a-4b87-8043-1c21fb96a7b9",
   "metadata": {},
   "outputs": [
    {
     "data": {
      "application/vnd.jupyter.widget-view+json": {
       "model_id": "062a9efae0064e28837f2bc2807912d2",
       "version_major": 2,
       "version_minor": 0
      },
      "text/plain": [
       "FloatProgress(value=0.0, bar_style='info', description='Progress:', layout=Layout(height='25px', width='50%'),…"
      ]
     },
     "metadata": {},
     "output_type": "display_data"
    },
    {
     "name": "stdout",
     "output_type": "stream",
     "text": [
      "['2024-08-31', '2024-09-30', '2024-10-31', '2024-11-30', '2024-12-31', '2025-01-31', '2025-02-28', '2025-03-31', '2025-04-30', '2025-05-31', '2025-06-30']"
     ]
    }
   ],
   "source": [
    "subfolders = check_folder(\"/prod/14460/app/UQ20/data/lab/POMA/anaurosevic/cdn0_cards_affinity/ecommerce/\") #These are the files we have already downloaded :) \n",
    "print(subfolders)"
   ]
  },
  {
   "cell_type": "code",
   "execution_count": 13,
   "id": "97e59395-9b44-4b36-a96b-45b7aff0aa02",
   "metadata": {},
   "outputs": [
    {
     "data": {
      "application/vnd.jupyter.widget-view+json": {
       "model_id": "c8eeff76e4c94ea4899cf5826263f5af",
       "version_major": 2,
       "version_minor": 0
      },
      "text/plain": [
       "FloatProgress(value=0.0, bar_style='info', description='Progress:', layout=Layout(height='25px', width='50%'),…"
      ]
     },
     "metadata": {},
     "output_type": "display_data"
    },
    {
     "name": "stdout",
     "output_type": "stream",
     "text": [
      "[]"
     ]
    }
   ],
   "source": [
    "months_to_download = list(set(month_end_list(10)) - set(subfolders))\n",
    "print(months_to_download)"
   ]
  },
  {
   "cell_type": "code",
   "execution_count": 14,
   "id": "73e65d7a-015f-49fc-9fae-d8c032ec806e",
   "metadata": {},
   "outputs": [
    {
     "data": {
      "application/vnd.jupyter.widget-view+json": {
       "model_id": "409c6835dd7542f7a157dddb450d8f4d",
       "version_major": 2,
       "version_minor": 0
      },
      "text/plain": [
       "FloatProgress(value=0.0, bar_style='info', description='Progress:', layout=Layout(height='25px', width='50%'),…"
      ]
     },
     "metadata": {},
     "output_type": "display_data"
    }
   ],
   "source": [
    "def import_ecommerce_data(me_list): \n",
    "\n",
    "    date = dt.strptime(me_list[0], '%Y-%m-%d').date()\n",
    "\n",
    "    #Loop over list of month ends\n",
    "    for i in range(0,len(me_list)): \n",
    "        print(me_list[i])\n",
    "\n",
    "        #Set file name for saving \n",
    "        save_folder_path =  \"/prod/14460/app/UQ20/data/lab/POMA/anaurosevic/cdn0_cards_affinity/ecommerce/\"\n",
    "        save_file_path =  save_folder_path + str(me_list[i])\n",
    "\n",
    "        #Location of files \n",
    "        data_folder_path = \"/prod/sz/tsz/00198/data/ga4-ecommerce/\"\n",
    "        date = dt.strptime(me_list[i], '%Y-%m-%d').date()\n",
    "        date_filter_string = \"YEAR=\" + str(date.strftime('%Y')) + \"/Month=\" + str(date.strftime('%m')) + \"/\"\n",
    "        data_file_path = data_folder_path + date_filter_string\n",
    "\n",
    "        #Import data \n",
    "        ecommerce = spark.read.load(\n",
    "            data_file_path).filter(\n",
    "            \"ep_lob = 'credit cards' and ep_content_group = 'credit cards : cardapp'\").filter(\n",
    "            #Made it to the final submission step\n",
    "            \"ep_step_name = 'step_finished'\").filter(\n",
    "            #Not missing application ID\n",
    "            \"ep_reference_id is not null\").filter(\n",
    "            #Make sure we don't have internal traffic - e.g., branch computer\n",
    "            \"ep_traffic_type is null\").withColumn(\n",
    "            #Format CC choice\n",
    "            \"product_code\", F.substring(\"it_item_id\",3,3)).select(  \n",
    "            \"user_pseudo_id\", F.trim(F.col(\"ep_reference_id\")).alias(\"ep_reference_id\"), \n",
    "            \"event_date\", \"user_session_id\", \"product_code\").distinct()\n",
    "                \n",
    "        ecommerce.coalesce(1).write.mode(\"overwrite\").parquet(save_file_path)\n",
    "\n",
    "    return ecommerce "
   ]
  },
  {
   "cell_type": "code",
   "execution_count": 15,
   "id": "3e327535-8651-4de7-9f3a-0ef859f9d1e7",
   "metadata": {},
   "outputs": [
    {
     "data": {
      "application/vnd.jupyter.widget-view+json": {
       "model_id": "33fca441f8a44760a36c5e415629e32d",
       "version_major": 2,
       "version_minor": 0
      },
      "text/plain": [
       "FloatProgress(value=0.0, bar_style='info', description='Progress:', layout=Layout(height='25px', width='50%'),…"
      ]
     },
     "metadata": {},
     "output_type": "display_data"
    },
    {
     "name": "stdout",
     "output_type": "stream",
     "text": [
      "2025-06-30\n",
      "DataFrame[user_pseudo_id: string, ep_reference_id: string, event_date: date, user_session_id: string, product_code: string]"
     ]
    }
   ],
   "source": [
    "#import_ecommerce_data(months_to_download)\n",
    "import_ecommerce_data(['2025-06-30']) #Just for testing"
   ]
  },
  {
   "cell_type": "markdown",
   "id": "5755f1cb-7431-453f-8e23-02f5617f5b50",
   "metadata": {},
   "source": [
    "##### Combine Files "
   ]
  },
  {
   "cell_type": "code",
   "execution_count": 16,
   "id": "1fcb8111-b24b-45f3-85e1-565bec547b4f",
   "metadata": {},
   "outputs": [
    {
     "data": {
      "application/vnd.jupyter.widget-view+json": {
       "model_id": "7f4f50045ce842348aab929cb15d2aff",
       "version_major": 2,
       "version_minor": 0
      },
      "text/plain": [
       "FloatProgress(value=0.0, bar_style='info', description='Progress:', layout=Layout(height='25px', width='50%'),…"
      ]
     },
     "metadata": {},
     "output_type": "display_data"
    }
   ],
   "source": [
    "#Import \n",
    "base_path = \"/prod/14460/app/UQ20/data/lab/POMA/anaurosevic/cdn0_cards_affinity/ecommerce/\"\n",
    "\n",
    "for i in range (0,len(month_end_list(11))): \n",
    "\n",
    "    dynamic_path = base_path + str(month_end_list(11)[i])\n",
    "    month = spark.read.load(dynamic_path)\n",
    "    \n",
    "    if i==0:\n",
    "        ecommerce_12m = month\n",
    "    else:\n",
    "        ecommerce_12m = ecommerce_12m.union(month)"
   ]
  },
  {
   "cell_type": "code",
   "execution_count": 17,
   "id": "aa43fd25-9d33-4f87-b3c3-4ad725407ece",
   "metadata": {},
   "outputs": [
    {
     "data": {
      "application/vnd.jupyter.widget-view+json": {
       "model_id": "8d244b4d8a6d49049999097f1b0e612b",
       "version_major": 2,
       "version_minor": 0
      },
      "text/plain": [
       "FloatProgress(value=0.0, bar_style='info', description='Progress:', layout=Layout(height='25px', width='50%'),…"
      ]
     },
     "metadata": {},
     "output_type": "display_data"
    },
    {
     "name": "stdout",
     "output_type": "stream",
     "text": [
      "184506\n",
      "184506"
     ]
    }
   ],
   "source": [
    "print(ecommerce_12m.count())\n",
    "print(ecommerce_12m.distinct().count())\n",
    "#Great, no duplicates to worry about :) "
   ]
  },
  {
   "cell_type": "markdown",
   "id": "739509dd-1426-4af2-aaf5-4f1afd4155b0",
   "metadata": {},
   "source": [
    "#### Join Tables to Identify Prospect Base\n",
    "Join the two tables so that we can ensure that customers who made it to the CC submission point (via e-commerce) are not existing clients. "
   ]
  },
  {
   "cell_type": "code",
   "execution_count": 18,
   "id": "bfe0ce23-187a-43d3-9c77-d374cb4f50ca",
   "metadata": {},
   "outputs": [
    {
     "data": {
      "application/vnd.jupyter.widget-view+json": {
       "model_id": "69ec7c7f465c4586bb2987b546e827d1",
       "version_major": 2,
       "version_minor": 0
      },
      "text/plain": [
       "FloatProgress(value=0.0, bar_style='info', description='Progress:', layout=Layout(height='25px', width='50%'),…"
      ]
     },
     "metadata": {},
     "output_type": "display_data"
    }
   ],
   "source": [
    "#Join applicant table to e-commerce table via ep_reference_id\n",
    "#Ignore existing clients \n",
    "ga_to_appl = ecommerce_12m.join(appl_12m, [\n",
    "    (ecommerce_12m.ep_reference_id == appl_12m.ep_reference_id) & (ecommerce_12m.event_date <= appl_12m.APP_RCV_DT)\n",
    "]).drop(ecommerce_12m.ep_reference_id)"
   ]
  },
  {
   "cell_type": "code",
   "execution_count": 19,
   "id": "9f600ba1-bb05-4789-b903-e92332398459",
   "metadata": {},
   "outputs": [
    {
     "data": {
      "application/vnd.jupyter.widget-view+json": {
       "model_id": "2bd18a86e44e4f9ca9604539b63f2bd1",
       "version_major": 2,
       "version_minor": 0
      },
      "text/plain": [
       "FloatProgress(value=0.0, bar_style='info', description='Progress:', layout=Layout(height='25px', width='50%'),…"
      ]
     },
     "metadata": {},
     "output_type": "display_data"
    },
    {
     "name": "stdout",
     "output_type": "stream",
     "text": [
      "root\n",
      " |-- user_pseudo_id: string (nullable = true)\n",
      " |-- event_date: date (nullable = true)\n",
      " |-- user_session_id: string (nullable = true)\n",
      " |-- product_code: string (nullable = true)\n",
      " |-- CLNT_NO: integer (nullable = true)\n",
      " |-- APPLCNT_NUM: decimal(13,0) (nullable = true)\n",
      " |-- ep_reference_id: string (nullable = true)\n",
      " |-- PSTCD: string (nullable = true)\n",
      " |-- APP_RCV_DT: date (nullable = true)"
     ]
    }
   ],
   "source": [
    "ga_to_appl.printSchema()"
   ]
  },
  {
   "cell_type": "code",
   "execution_count": 20,
   "id": "83126671-a36b-44a6-ab54-87b80e736604",
   "metadata": {},
   "outputs": [
    {
     "data": {
      "application/vnd.jupyter.widget-view+json": {
       "model_id": "581408847605409abbe21dc8a8782c45",
       "version_major": 2,
       "version_minor": 0
      },
      "text/plain": [
       "FloatProgress(value=0.0, bar_style='info', description='Progress:', layout=Layout(height='25px', width='50%'),…"
      ]
     },
     "metadata": {},
     "output_type": "display_data"
    },
    {
     "name": "stdout",
     "output_type": "stream",
     "text": [
      "+---------------------+----------+--------------------------------+------------+---------+-----------+---------------+------+----------+\n",
      "|user_pseudo_id       |event_date|user_session_id                 |product_code|CLNT_NO  |APPLCNT_NUM|ep_reference_id|PSTCD |APP_RCV_DT|\n",
      "+---------------------+----------+--------------------------------+------------+---------+-----------+---------------+------+----------+\n",
      "|577651241.1725152216 |2024-08-31|577651241.1725152216_1725152216 |IAV         |459301206|173217027  |17321702       |J1L2M8|2024-09-03|\n",
      "|2113191595.1723157405|2024-08-08|2113191595.1723157405_1723166451|MC4         |405716309|172611469  |17261146       |T5T7C2|2024-08-08|\n",
      "|895200250.1724852347 |2024-08-28|895200250.1724852347_1724852347 |MV1         |459238028|173112103  |17311210       |H7X2W7|2024-08-28|\n",
      "|1195917261.1724503351|2024-08-24|1195917261.1724503351_1724503350|CLO         |474560976|173013301  |17301330       |H4V2H8|2024-08-24|\n",
      "|1875057210.1724503117|2024-08-24|1875057210.1724503117_1724503116|MC4         |475088951|173013483  |17301348       |J8X3T9|2024-08-24|\n",
      "+---------------------+----------+--------------------------------+------------+---------+-----------+---------------+------+----------+\n",
      "only showing top 5 rows"
     ]
    }
   ],
   "source": [
    "ga_to_appl.show(5, False)"
   ]
  },
  {
   "cell_type": "code",
   "execution_count": 21,
   "id": "5aeb3189-e975-4779-a4cd-b1a4b1357002",
   "metadata": {},
   "outputs": [
    {
     "data": {
      "application/vnd.jupyter.widget-view+json": {
       "model_id": "27718c29fb0f46909d21290b9d62f6e0",
       "version_major": 2,
       "version_minor": 0
      },
      "text/plain": [
       "FloatProgress(value=0.0, bar_style='info', description='Progress:', layout=Layout(height='25px', width='50%'),…"
      ]
     },
     "metadata": {},
     "output_type": "display_data"
    },
    {
     "name": "stdout",
     "output_type": "stream",
     "text": [
      "+---------+---------------------+----------+----------+-----------+-----------------+---------------+\n",
      "|CLNT_NO  |user_pseudo_id       |event_date|APP_RCV_DT|APPLCNT_NUM|APPLCNT_NUM_TRUNC|ep_reference_id|\n",
      "+---------+---------------------+----------+----------+-----------+-----------------+---------------+\n",
      "|405716309|2113191595.1723157405|2024-08-08|2024-08-08|172611469  |17261146         |17261146       |\n",
      "+---------+---------------------+----------+----------+-----------+-----------------+---------------+"
     ]
    }
   ],
   "source": [
    "ga_to_appl.withColumn('APPLCNT_NUM_TRUNC',F.col('ep_reference_id')).select(\n",
    "    'CLNT_NO','user_pseudo_id','event_date','APP_RCV_DT','APPLCNT_NUM','APPLCNT_NUM_TRUNC','ep_reference_id').filter(\n",
    "    \"ep_reference_id='17261146'\").show(5,False)"
   ]
  },
  {
   "cell_type": "code",
   "execution_count": 22,
   "id": "12a793f3-4ae4-4910-8c71-849fb3b25b35",
   "metadata": {},
   "outputs": [
    {
     "data": {
      "application/vnd.jupyter.widget-view+json": {
       "model_id": "30bed6c38f554b1395fd04fdd3169e76",
       "version_major": 2,
       "version_minor": 0
      },
      "text/plain": [
       "FloatProgress(value=0.0, bar_style='info', description='Progress:', layout=Layout(height='25px', width='50%'),…"
      ]
     },
     "metadata": {},
     "output_type": "display_data"
    },
    {
     "name": "stdout",
     "output_type": "stream",
     "text": [
      "160575"
     ]
    }
   ],
   "source": [
    "ga_to_appl.count()"
   ]
  },
  {
   "cell_type": "code",
   "execution_count": 23,
   "id": "ea81342d-c583-4e7c-8b3d-0bbc3de88c65",
   "metadata": {},
   "outputs": [
    {
     "data": {
      "application/vnd.jupyter.widget-view+json": {
       "model_id": "5e099a56d847470ab8a105774e79ceff",
       "version_major": 2,
       "version_minor": 0
      },
      "text/plain": [
       "FloatProgress(value=0.0, bar_style='info', description='Progress:', layout=Layout(height='25px', width='50%'),…"
      ]
     },
     "metadata": {},
     "output_type": "display_data"
    }
   ],
   "source": [
    "#Grab subset of columns of interest ~\n",
    "new_clients = ga_to_appl.withColumnRenamed(\n",
    "    \"PSTCD\",\"postal_code\").select(\n",
    "    \"user_pseudo_id\",\"user_session_id\",\"ep_reference_id\",F.col(\"CLNT_NO\").alias('clnt_no'),\"postal_code\",\"product_code\",\"event_date\").persist()"
   ]
  },
  {
   "cell_type": "code",
   "execution_count": 24,
   "id": "c8a805e3-706b-4829-87e9-a05aee9f7a01",
   "metadata": {},
   "outputs": [
    {
     "data": {
      "application/vnd.jupyter.widget-view+json": {
       "model_id": "d9b6fe25220f475eb0da06da3855563f",
       "version_major": 2,
       "version_minor": 0
      },
      "text/plain": [
       "FloatProgress(value=0.0, bar_style='info', description='Progress:', layout=Layout(height='25px', width='50%'),…"
      ]
     },
     "metadata": {},
     "output_type": "display_data"
    },
    {
     "name": "stdout",
     "output_type": "stream",
     "text": [
      "+---------------------+--------------------------------+---------------+---------+-----------+------------+----------+\n",
      "|user_pseudo_id       |user_session_id                 |ep_reference_id|clnt_no  |postal_code|product_code|event_date|\n",
      "+---------------------+--------------------------------+---------------+---------+-----------+------------+----------+\n",
      "|577651241.1725152216 |577651241.1725152216_1725152216 |17321702       |459301206|J1L2M8     |IAV         |2024-08-31|\n",
      "|2113191595.1723157405|2113191595.1723157405_1723166451|17261146       |405716309|T5T7C2     |MC4         |2024-08-08|\n",
      "|895200250.1724852347 |895200250.1724852347_1724852347 |17311210       |459238028|H7X2W7     |MV1         |2024-08-28|\n",
      "|1195917261.1724503351|1195917261.1724503351_1724503350|17301330       |474560976|H4V2H8     |CLO         |2024-08-24|\n",
      "|1875057210.1724503117|1875057210.1724503117_1724503116|17301348       |475088951|J8X3T9     |MC4         |2024-08-24|\n",
      "+---------------------+--------------------------------+---------------+---------+-----------+------------+----------+\n",
      "only showing top 5 rows"
     ]
    }
   ],
   "source": [
    "new_clients.show(5,False)"
   ]
  },
  {
   "cell_type": "code",
   "execution_count": 25,
   "id": "e5a9ed06-6caa-4693-b425-38c4c60255f1",
   "metadata": {},
   "outputs": [
    {
     "data": {
      "application/vnd.jupyter.widget-view+json": {
       "model_id": "642558c8b4624fbeb6a95f8c819db1f4",
       "version_major": 2,
       "version_minor": 0
      },
      "text/plain": [
       "FloatProgress(value=0.0, bar_style='info', description='Progress:', layout=Layout(height='25px', width='50%'),…"
      ]
     },
     "metadata": {},
     "output_type": "display_data"
    },
    {
     "name": "stdout",
     "output_type": "stream",
     "text": [
      "160575"
     ]
    }
   ],
   "source": [
    "new_clients.count()"
   ]
  },
  {
   "cell_type": "markdown",
   "id": "9877340e-8506-413a-8bfa-078e6c4dbbed",
   "metadata": {},
   "source": [
    "#### Fix Inconsistencies\n",
    "We would expect each row to be unique: one user, one session, one product, one date. We also shouldn't see cases where there are multiple rows per user_pseudo_id. Therefore, we are removing strange cases like the following: \n",
    "- __(A) Missing user_pseudo_id or user_session_id:__ We won't be able to link these customers to their session details and it is unclear why this would ever be missing\n",
    "- __(B) Multiple applications or cards per session (unique at the session level):__ It could be the following reasons: (1) They are scammers that are re-submitting applications for the same card multiple times; (2) They could be households with diff people applying within the same session off the same device; (3) It could be a branch or public computer during which multiple people are submitting. All three cases are problematic. We will only keep prospects who have 1 application for a single CC in the session.\n",
    "- __(C) Multiple applications or sessions for the same device (unique at the user level):__ Multiple sessions for the same device could be if they get declined or multiple households. We will make the assumption that we should only consider the first application for each device."
   ]
  },
  {
   "cell_type": "markdown",
   "id": "4da75327-9a64-44d6-9555-61313368f795",
   "metadata": {},
   "source": [
    "##### (A) Missing user_pseudo_id or user_session_id"
   ]
  },
  {
   "cell_type": "code",
   "execution_count": 26,
   "id": "090b329e-d3c4-4640-a3a2-e53d21718553",
   "metadata": {},
   "outputs": [
    {
     "data": {
      "application/vnd.jupyter.widget-view+json": {
       "model_id": "5134d580aba2494895ea6551be4e6a53",
       "version_major": 2,
       "version_minor": 0
      },
      "text/plain": [
       "FloatProgress(value=0.0, bar_style='info', description='Progress:', layout=Layout(height='25px', width='50%'),…"
      ]
     },
     "metadata": {},
     "output_type": "display_data"
    },
    {
     "name": "stdout",
     "output_type": "stream",
     "text": [
      "2535\n",
      "2535"
     ]
    }
   ],
   "source": [
    "print(new_clients.filter(\"user_pseudo_id is null\").count())\n",
    "print(new_clients.filter(\"user_session_id == '_'\").count())\n",
    "#There are 1,807 people who don't have a user pseudo id nor a session id - let's drop these, not sure why they are happening "
   ]
  },
  {
   "cell_type": "code",
   "execution_count": 27,
   "id": "637b5ada-fc4f-437c-8b08-d39bfe9d647d",
   "metadata": {},
   "outputs": [
    {
     "data": {
      "application/vnd.jupyter.widget-view+json": {
       "model_id": "311d28e5c1124d4e836f63134ad1c1d1",
       "version_major": 2,
       "version_minor": 0
      },
      "text/plain": [
       "FloatProgress(value=0.0, bar_style='info', description='Progress:', layout=Layout(height='25px', width='50%'),…"
      ]
     },
     "metadata": {},
     "output_type": "display_data"
    }
   ],
   "source": [
    "df = new_clients.filter(\"user_pseudo_id is not null\")"
   ]
  },
  {
   "cell_type": "code",
   "execution_count": 28,
   "id": "8c560718-6b92-4edc-aa48-e768450ca653",
   "metadata": {},
   "outputs": [
    {
     "data": {
      "application/vnd.jupyter.widget-view+json": {
       "model_id": "5ad922ee2c7c48aeb02cbdf5dd95c2d0",
       "version_major": 2,
       "version_minor": 0
      },
      "text/plain": [
       "FloatProgress(value=0.0, bar_style='info', description='Progress:', layout=Layout(height='25px', width='50%'),…"
      ]
     },
     "metadata": {},
     "output_type": "display_data"
    },
    {
     "name": "stdout",
     "output_type": "stream",
     "text": [
      "158040"
     ]
    }
   ],
   "source": [
    "print(df.count())"
   ]
  },
  {
   "cell_type": "markdown",
   "id": "d7dbdc56-a6c5-4d11-8bf1-2679ccd41ee9",
   "metadata": {},
   "source": [
    "##### (B) Multiple applications or cards per session (unique at the session level)"
   ]
  },
  {
   "cell_type": "code",
   "execution_count": 29,
   "id": "30753d6a-f63f-4d94-a5f5-dcc66536f5ef",
   "metadata": {},
   "outputs": [
    {
     "data": {
      "application/vnd.jupyter.widget-view+json": {
       "model_id": "7415905e6d1143589684556c636bec79",
       "version_major": 2,
       "version_minor": 0
      },
      "text/plain": [
       "FloatProgress(value=0.0, bar_style='info', description='Progress:', layout=Layout(height='25px', width='50%'),…"
      ]
     },
     "metadata": {},
     "output_type": "display_data"
    },
    {
     "name": "stdout",
     "output_type": "stream",
     "text": [
      "+--------------------------------+\n",
      "|user_session_id                 |\n",
      "+--------------------------------+\n",
      "|2113191595.1723157405_1723166451|\n",
      "|1416482687.1723834437_1723834437|\n",
      "|986296509.1722804916_1724300447 |\n",
      "|1518093279.1722953315_1722953317|\n",
      "|593523526.1724862317_1724872518 |\n",
      "+--------------------------------+\n",
      "only showing top 5 rows"
     ]
    }
   ],
   "source": [
    "#Keep only people who had one application within the session \n",
    "one_application = df.groupBy([\"user_pseudo_id\",\"user_session_id\"]).count().filter(\"count==1\").select('user_session_id')\n",
    "one_application.show(5,False)"
   ]
  },
  {
   "cell_type": "code",
   "execution_count": 30,
   "id": "3661a502-88cb-4d5d-8d93-80d1b2d4b25d",
   "metadata": {},
   "outputs": [
    {
     "data": {
      "application/vnd.jupyter.widget-view+json": {
       "model_id": "2059e99d5a6746f59dfc8b1743c3c739",
       "version_major": 2,
       "version_minor": 0
      },
      "text/plain": [
       "FloatProgress(value=0.0, bar_style='info', description='Progress:', layout=Layout(height='25px', width='50%'),…"
      ]
     },
     "metadata": {},
     "output_type": "display_data"
    },
    {
     "name": "stdout",
     "output_type": "stream",
     "text": [
      "152434"
     ]
    }
   ],
   "source": [
    "#Merge \n",
    "df_one_app = df.join(one_application, \n",
    "                  [df.user_session_id == one_application.user_session_id],\"inner\").drop(\n",
    "    one_application.user_session_id).select(\n",
    "    \"user_pseudo_id\",\"user_session_id\",\"clnt_no\",\"event_date\",\"postal_code\",\"product_code\").distinct()\n",
    "df_one_app.count()\n",
    "#Now it should be unique at the session level - within each session, the customer only applied once! "
   ]
  },
  {
   "cell_type": "code",
   "execution_count": 31,
   "id": "1c5b6a10-61db-4bb0-8e73-bf392b870daa",
   "metadata": {},
   "outputs": [
    {
     "data": {
      "application/vnd.jupyter.widget-view+json": {
       "model_id": "67e395230e6540049c92c92ad0a69468",
       "version_major": 2,
       "version_minor": 0
      },
      "text/plain": [
       "FloatProgress(value=0.0, bar_style='info', description='Progress:', layout=Layout(height='25px', width='50%'),…"
      ]
     },
     "metadata": {},
     "output_type": "display_data"
    },
    {
     "name": "stdout",
     "output_type": "stream",
     "text": [
      "+---------------------+--------------------------------+---------+----------+-----------+------------+\n",
      "|user_pseudo_id       |user_session_id                 |clnt_no  |event_date|postal_code|product_code|\n",
      "+---------------------+--------------------------------+---------+----------+-----------+------------+\n",
      "|778022095.1733164379 |778022095.1733164379_1733188957 |410120158|2024-12-02|T1S0B3     |MC4         |\n",
      "|987097481.1735335765 |987097481.1735335765_1735335764 |579028911|2024-12-27|T2X0R9     |MC4         |\n",
      "|1851791527.1733525494|1851791527.1733525494_1733525494|410211783|2024-12-06|T6C1A9     |MC1         |\n",
      "|609292779.1734068126 |609292779.1734068126_1734068126 |359560794|2024-12-13|N6K3X8     |CLO         |\n",
      "|1857597691.1735334679|1857597691.1735334679_1735342894|343350781|2024-12-27|L4H1Y9     |MC4         |\n",
      "+---------------------+--------------------------------+---------+----------+-----------+------------+\n",
      "only showing top 5 rows"
     ]
    }
   ],
   "source": [
    "df_one_app.show(5,False)"
   ]
  },
  {
   "cell_type": "code",
   "execution_count": 32,
   "id": "e943d448-8d09-445e-89fd-405ce9a9b868",
   "metadata": {},
   "outputs": [
    {
     "data": {
      "application/vnd.jupyter.widget-view+json": {
       "model_id": "4c684fd3a32c41498f687d0fa5129fb5",
       "version_major": 2,
       "version_minor": 0
      },
      "text/plain": [
       "FloatProgress(value=0.0, bar_style='info', description='Progress:', layout=Layout(height='25px', width='50%'),…"
      ]
     },
     "metadata": {},
     "output_type": "display_data"
    },
    {
     "name": "stdout",
     "output_type": "stream",
     "text": [
      "+---------------------+--------------------------------+---------+----------+-----------+------------+-------------------+\n",
      "|user_pseudo_id       |user_session_id                 |clnt_no  |event_date|postal_code|product_code|session_timestamp  |\n",
      "+---------------------+--------------------------------+---------+----------+-----------+------------+-------------------+\n",
      "|1728862783.1723587929|1728862783.1723587929_1723591251|459011805|2024-08-13|H8Y1Z4     |IOP         |2024-08-13 19:20:51|\n",
      "|1214624237.1722969735|1214624237.1722969735_1722969735|405637166|2024-08-06|T3N1B5     |CLO         |2024-08-06 14:42:15|\n",
      "|965854520.1723852609 |965854520.1723852609_1723852609 |405920026|2024-08-16|T8N6W7     |MC4         |2024-08-16 19:56:49|\n",
      "|699752771.1723014368 |699752771.1723014368_1723014377 |405655366|2024-08-07|V5E3C4     |ION         |2024-08-07 03:06:17|\n",
      "|92876622.1724802418  |92876622.1724802418_1724802417  |406195149|2024-08-27|T4L1V1     |MC1         |2024-08-27 19:46:57|\n",
      "+---------------------+--------------------------------+---------+----------+-----------+------------+-------------------+\n",
      "only showing top 5 rows"
     ]
    }
   ],
   "source": [
    "#Grab session timestamp! \n",
    "df_one_app = df_one_app.withColumn(\n",
    "    \"session_timestamp\", F.from_unixtime(F.split(F.col(\"user_session_id\"), \"_\").getItem(1)))\n",
    "df_one_app.show(5,False)"
   ]
  },
  {
   "cell_type": "markdown",
   "id": "98f39a03-74b3-438d-a8e3-a8c2d1991b2e",
   "metadata": {},
   "source": [
    "##### (C) Multiple applications or sessions for the same device (unique at the user level)"
   ]
  },
  {
   "cell_type": "code",
   "execution_count": 33,
   "id": "17b6ce6a-5cc7-4d00-bfa8-e2f87512013c",
   "metadata": {},
   "outputs": [
    {
     "data": {
      "application/vnd.jupyter.widget-view+json": {
       "model_id": "82a15eebcf194a93a32e58ed9c0300f3",
       "version_major": 2,
       "version_minor": 0
      },
      "text/plain": [
       "FloatProgress(value=0.0, bar_style='info', description='Progress:', layout=Layout(height='25px', width='50%'),…"
      ]
     },
     "metadata": {},
     "output_type": "display_data"
    }
   ],
   "source": [
    "#In these cases, we'll take the first credit card application as the event date and CC for that client\n",
    "df_one_app_first = df_one_app.withColumn(\n",
    "    \"rank\", F.row_number().over(Window.partitionBy(\"user_pseudo_id\").orderBy(\"session_timestamp\"))\n",
    ").filter(\"rank = 1\").drop(\"rank\")"
   ]
  },
  {
   "cell_type": "markdown",
   "id": "2fd21694-4065-4f40-94ea-34c528582d88",
   "metadata": {},
   "source": [
    "##### Add province/territory breakdown \n",
    "Province is important especially for certain cards that are based on region: moi - QC, Westjet - BC."
   ]
  },
  {
   "cell_type": "code",
   "execution_count": 34,
   "id": "309daf97-b589-4e1c-ac23-bb541d638390",
   "metadata": {},
   "outputs": [
    {
     "data": {
      "application/vnd.jupyter.widget-view+json": {
       "model_id": "06a5ba1c37b44bed903af678a0a2030e",
       "version_major": 2,
       "version_minor": 0
      },
      "text/plain": [
       "FloatProgress(value=0.0, bar_style='info', description='Progress:', layout=Layout(height='25px', width='50%'),…"
      ]
     },
     "metadata": {},
     "output_type": "display_data"
    }
   ],
   "source": [
    "#Let's also grab the province - province level details are important \n",
    "#Source: https://www12.statcan.gc.ca/census-recensement/2021/ref/dict/tab/index-eng.cfm?ID=T1_9\n",
    "df_one_app_first = df_one_app_first.withColumn(\n",
    "            \"province\",\n",
    "            F.when(\n",
    "                F.substring(\"postal_code\",1,1)=='A','NL').when(\n",
    "                F.substring(\"postal_code\",1,1)=='B','NS').when(\n",
    "                F.substring(\"postal_code\",1,1)=='C','PE').when(\n",
    "                F.substring(\"postal_code\",1,1)=='E','NB').when(\n",
    "                F.substring(\"postal_code\",1,1).isin('G','H','J'), 'QC').when(\n",
    "                F.substring(\"postal_code\",1,1).isin('K','L','M','N','P'), 'ON').when(\n",
    "                F.substring(\"postal_code\",1,1)=='R', 'MB').when(\n",
    "                F.substring(\"postal_code\",1,1)=='S', 'SK').when(\n",
    "                F.substring(\"postal_code\",1,1)=='T', 'AB').when(\n",
    "                F.substring(\"postal_code\",1,1)=='V', 'BC').when(\n",
    "                F.substring(\"postal_code\",1,1)=='X', 'NTNU').when(\n",
    "                F.substring(\"postal_code\",1,1)=='Y', 'YT').otherwise(\n",
    "                \"unk\"))"
   ]
  },
  {
   "cell_type": "markdown",
   "id": "da970e8c-9100-4050-8021-158f07f8f9b0",
   "metadata": {},
   "source": [
    "#### Remove Devices with Client Login in Last 30 Days"
   ]
  },
  {
   "cell_type": "code",
   "execution_count": 35,
   "id": "e79091b5-d548-4f2c-a974-d2852ab21650",
   "metadata": {},
   "outputs": [
    {
     "data": {
      "application/vnd.jupyter.widget-view+json": {
       "model_id": "a3255463c7c142438e2a13f41952579e",
       "version_major": 2,
       "version_minor": 0
      },
      "text/plain": [
       "FloatProgress(value=0.0, bar_style='info', description='Progress:', layout=Layout(height='25px', width='50%'),…"
      ]
     },
     "metadata": {},
     "output_type": "display_data"
    }
   ],
   "source": [
    "new_cards = df_one_app_first.withColumn(\n",
    "    \"rank\", F.row_number().over(Window.partitionBy(\"user_pseudo_id\").orderBy(\"event_date\"))\n",
    ").filter(\"rank = 1\").drop(\"rank\").withColumn(\n",
    "    \"date_lag\", F.date_add(F.col(\"event_date\"), -1) # need a one day delay due to above reason\n",
    ").withColumnRenamed(\n",
    "    \"event_date\", \"card_sale_date\")"
   ]
  },
  {
   "cell_type": "markdown",
   "id": "f2e31c51-8213-4c2a-9c93-910b39caf97d",
   "metadata": {},
   "source": [
    "##### Function to Import Visitor Data for Each Month in Range\n",
    "Important: Make sure we have one additional month prior!"
   ]
  },
  {
   "cell_type": "code",
   "execution_count": 36,
   "id": "e218041c-88bb-477b-bf39-f4d668ee57e1",
   "metadata": {},
   "outputs": [
    {
     "data": {
      "application/vnd.jupyter.widget-view+json": {
       "model_id": "74f6e067ab604bd4bff83b6d04084c31",
       "version_major": 2,
       "version_minor": 0
      },
      "text/plain": [
       "FloatProgress(value=0.0, bar_style='info', description='Progress:', layout=Layout(height='25px', width='50%'),…"
      ]
     },
     "metadata": {},
     "output_type": "display_data"
    },
    {
     "name": "stdout",
     "output_type": "stream",
     "text": [
      "['2024-07-31', '2024-08-31', '2024-09-30', '2024-10-31', '2024-11-30', '2024-12-31', '2025-01-31', '2025-02-28', '2025-03-31', '2025-04-30', '2025-05-31', '2025-06-30']"
     ]
    }
   ],
   "source": [
    "print(month_end_list(12))"
   ]
  },
  {
   "cell_type": "code",
   "execution_count": 37,
   "id": "7b7d7f3a-05a5-40b1-aaec-cb5e79ad52d7",
   "metadata": {},
   "outputs": [
    {
     "data": {
      "application/vnd.jupyter.widget-view+json": {
       "model_id": "b4e07c0664364c6eb6be6d7eb4f77762",
       "version_major": 2,
       "version_minor": 0
      },
      "text/plain": [
       "FloatProgress(value=0.0, bar_style='info', description='Progress:', layout=Layout(height='25px', width='50%'),…"
      ]
     },
     "metadata": {},
     "output_type": "display_data"
    },
    {
     "name": "stdout",
     "output_type": "stream",
     "text": [
      "['2024-07-31', '2024-08-31', '2024-09-30', '2024-10-31', '2024-11-30', '2024-12-31', '2025-01-31', '2025-02-28', '2025-03-31', '2025-04-30', '2025-05-31', '2025-06-30']"
     ]
    }
   ],
   "source": [
    "subfolders = check_folder(\"/prod/14460/app/UQ20/data/lab/POMA/anaurosevic/cdn0_cards_affinity/visitor/\")\n",
    "print(subfolders)"
   ]
  },
  {
   "cell_type": "code",
   "execution_count": 38,
   "id": "b2314646-cf6e-4152-ac18-f035fadd89f3",
   "metadata": {},
   "outputs": [
    {
     "data": {
      "application/vnd.jupyter.widget-view+json": {
       "model_id": "1145afcb50eb4d7fb14add159e0343dc",
       "version_major": 2,
       "version_minor": 0
      },
      "text/plain": [
       "FloatProgress(value=0.0, bar_style='info', description='Progress:', layout=Layout(height='25px', width='50%'),…"
      ]
     },
     "metadata": {},
     "output_type": "display_data"
    },
    {
     "name": "stdout",
     "output_type": "stream",
     "text": [
      "[]"
     ]
    }
   ],
   "source": [
    "months_to_download = list(set(month_end_list(11)) - set(subfolders))\n",
    "print(months_to_download)"
   ]
  },
  {
   "cell_type": "code",
   "execution_count": 39,
   "id": "639525d3-8fdf-455c-a3ef-5de781ed6424",
   "metadata": {},
   "outputs": [
    {
     "data": {
      "application/vnd.jupyter.widget-view+json": {
       "model_id": "1e0bf16338214c7d9ec6569f0bd6a235",
       "version_major": 2,
       "version_minor": 0
      },
      "text/plain": [
       "FloatProgress(value=0.0, bar_style='info', description='Progress:', layout=Layout(height='25px', width='50%'),…"
      ]
     },
     "metadata": {},
     "output_type": "display_data"
    }
   ],
   "source": [
    "def import_visitors_data(me_list): \n",
    "    \n",
    "    #Loop over list of month ends\n",
    "    for i in range(0,len(me_list)): \n",
    "        print(me_list[i])\n",
    "\n",
    "        #Set file name for saving \n",
    "        save_folder_path =  \"/prod/14460/app/UQ20/data/lab/POMA/anaurosevic/cdn0_cards_affinity/visitor/\"\n",
    "        save_file_path =  save_folder_path + str(me_list[i]) \n",
    "\n",
    "        #Location of files \n",
    "        data_folder_path = \"/prod/sz/tsz/00198/data/ga4-visitor/\"\n",
    "        date = dt.strptime(me_list[i], '%Y-%m-%d').date()\n",
    "        date_filter_string = \"YEAR=\" + str(date.strftime('%Y')) + \"/Month=\" + str(date.strftime('%m'))\n",
    "        data_file_path = data_folder_path + date_filter_string + \"/*\"\n",
    "\n",
    "        #Import data \n",
    "        visitors = spark.read.option(\n",
    "            \"basePath\",data_folder_path).load(\n",
    "            data_file_path).withColumn(\n",
    "            \"visitor_table_date\", \n",
    "            F.to_date(F.concat(F.col(\"YEAR\"), F.lit(\"-\"), F.col(\"Month\"), F.lit(\"-\"), F.col(\"Day\")), \"yyyy-MM-dd\")).select(\n",
    "            \"user_pseudo_id\",\"visitor_table_date\").distinct()\n",
    "                \n",
    "        visitors.coalesce(1).write.mode(\"overwrite\").parquet(save_file_path)\n",
    "\n",
    "    return visitors "
   ]
  },
  {
   "cell_type": "code",
   "execution_count": 40,
   "id": "a3d063ab-ce85-4328-a6d2-4521d9c0bd38",
   "metadata": {},
   "outputs": [
    {
     "data": {
      "application/vnd.jupyter.widget-view+json": {
       "model_id": "ef4d7e26254e4697b794ea2da2e54b80",
       "version_major": 2,
       "version_minor": 0
      },
      "text/plain": [
       "FloatProgress(value=0.0, bar_style='info', description='Progress:', layout=Layout(height='25px', width='50%'),…"
      ]
     },
     "metadata": {},
     "output_type": "display_data"
    },
    {
     "name": "stdout",
     "output_type": "stream",
     "text": [
      "2025-06-30\n",
      "DataFrame[user_pseudo_id: string, visitor_table_date: date]"
     ]
    }
   ],
   "source": [
    "#import_visitors_data(months_to_download)\n",
    "import_visitors_data(['2025-06-30']) #Just to test "
   ]
  },
  {
   "cell_type": "markdown",
   "id": "4d4dd835-f54e-41f9-9f60-b815dc253a89",
   "metadata": {},
   "source": [
    "##### Combine Files "
   ]
  },
  {
   "cell_type": "code",
   "execution_count": 41,
   "id": "15ee9a0e-c281-49d2-ac63-e80530ef6af2",
   "metadata": {},
   "outputs": [
    {
     "data": {
      "application/vnd.jupyter.widget-view+json": {
       "model_id": "8c3af6f0ea9c43b1bae6ffd01b01fe4e",
       "version_major": 2,
       "version_minor": 0
      },
      "text/plain": [
       "FloatProgress(value=0.0, bar_style='info', description='Progress:', layout=Layout(height='25px', width='50%'),…"
      ]
     },
     "metadata": {},
     "output_type": "display_data"
    }
   ],
   "source": [
    "#Import \n",
    "base_path = \"/prod/14460/app/UQ20/data/lab/POMA/anaurosevic/cdn0_cards_affinity/visitor/\"\n",
    "\n",
    "for i in range (0,len(month_end_list(12))): \n",
    "\n",
    "    dynamic_path = base_path + str(month_end_list(12)[i])\n",
    "    month = spark.read.load(dynamic_path)\n",
    "    \n",
    "    if i==0:\n",
    "        visitors_12m = month\n",
    "    else:\n",
    "        visitors_12m = visitors_12m.union(month)"
   ]
  },
  {
   "cell_type": "markdown",
   "id": "cb226bcb-8254-40ae-bf38-9808e495ccae",
   "metadata": {},
   "source": [
    "#### Join Tables to Exclude Devices with Previous Login"
   ]
  },
  {
   "cell_type": "code",
   "execution_count": 42,
   "id": "cb891661-2c96-440e-9dea-bfdd4324ecda",
   "metadata": {},
   "outputs": [
    {
     "data": {
      "application/vnd.jupyter.widget-view+json": {
       "model_id": "9d1b88a4ce5e4335a5eb34067be7e628",
       "version_major": 2,
       "version_minor": 0
      },
      "text/plain": [
       "FloatProgress(value=0.0, bar_style='info', description='Progress:', layout=Layout(height='25px', width='50%'),…"
      ]
     },
     "metadata": {},
     "output_type": "display_data"
    }
   ],
   "source": [
    "new_cards = new_cards.join(visitors_12m, \n",
    "    on=[(new_cards.user_pseudo_id == visitors_12m.user_pseudo_id) & (visitors_12m.visitor_table_date == new_cards.date_lag)], \n",
    "    how='left_anti').drop(\n",
    "    new_cards.date_lag).drop(\n",
    "    visitors_12m.visitor_table_date)"
   ]
  },
  {
   "cell_type": "code",
   "execution_count": 43,
   "id": "0de2d699-e2cd-4c50-b1ff-b1ef42272be9",
   "metadata": {},
   "outputs": [
    {
     "data": {
      "application/vnd.jupyter.widget-view+json": {
       "model_id": "5a3a61c02f644622b80d46ff1b843a40",
       "version_major": 2,
       "version_minor": 0
      },
      "text/plain": [
       "FloatProgress(value=0.0, bar_style='info', description='Progress:', layout=Layout(height='25px', width='50%'),…"
      ]
     },
     "metadata": {},
     "output_type": "display_data"
    },
    {
     "name": "stdout",
     "output_type": "stream",
     "text": [
      "144577"
     ]
    }
   ],
   "source": [
    "new_cards.count()"
   ]
  },
  {
   "cell_type": "code",
   "execution_count": 44,
   "id": "bae6b911-37ee-4830-a3c0-b51819c04ce3",
   "metadata": {},
   "outputs": [
    {
     "data": {
      "application/vnd.jupyter.widget-view+json": {
       "model_id": "44fe0e4eab8b44628bc3caea8a0d2d3d",
       "version_major": 2,
       "version_minor": 0
      },
      "text/plain": [
       "FloatProgress(value=0.0, bar_style='info', description='Progress:', layout=Layout(height='25px', width='50%'),…"
      ]
     },
     "metadata": {},
     "output_type": "display_data"
    },
    {
     "name": "stdout",
     "output_type": "stream",
     "text": [
      "+---------------------+--------------------------------+---------+--------------+-----------+------------+-------------------+--------+\n",
      "|user_pseudo_id       |user_session_id                 |clnt_no  |card_sale_date|postal_code|product_code|session_timestamp  |province|\n",
      "+---------------------+--------------------------------+---------+--------------+-----------+------------+-------------------+--------+\n",
      "|1001168409.1739291498|1001168409.1739291498_1739291498|173608217|2025-02-11    |K1T1W2     |ION         |2025-02-11 11:31:38|ON      |\n",
      "|1012026430.1743550318|1012026430.1743550318_1743550318|412655466|2025-04-01    |T2E5Y7     |MC4         |2025-04-01 19:31:58|AB      |\n",
      "|1013706846.1741089233|1013706846.1741089233_1741089232|461744328|2025-03-04    |E2E4S2     |MC4         |2025-03-04 06:53:52|NB      |\n",
      "|1021530018.1742945154|1021530018.1742945154_1742945153|462046012|2025-03-25    |J3Y3E1     |CLO         |2025-03-25 19:25:53|QC      |\n",
      "|1026676575.1732803848|1026676575.1732803848_1732803847|359271624|2024-11-28    |L2G5S9     |MC2         |2024-11-28 09:24:07|ON      |\n",
      "+---------------------+--------------------------------+---------+--------------+-----------+------------+-------------------+--------+\n",
      "only showing top 5 rows"
     ]
    }
   ],
   "source": [
    "new_cards.show(5, False)"
   ]
  },
  {
   "cell_type": "markdown",
   "id": "592e98c3-0fc1-4d10-b318-8668cd88d75d",
   "metadata": {},
   "source": [
    "#### CCs of Interest"
   ]
  },
  {
   "cell_type": "code",
   "execution_count": 45,
   "id": "cb4604ee-1eb3-4b90-87c5-acb9605475f6",
   "metadata": {},
   "outputs": [
    {
     "data": {
      "application/vnd.jupyter.widget-view+json": {
       "model_id": "abf42aab54f944589650fb485c8a0ed6",
       "version_major": 2,
       "version_minor": 0
      },
      "text/plain": [
       "FloatProgress(value=0.0, bar_style='info', description='Progress:', layout=Layout(height='25px', width='50%'),…"
      ]
     },
     "metadata": {},
     "output_type": "display_data"
    }
   ],
   "source": [
    "cb = new_cards"
   ]
  },
  {
   "cell_type": "code",
   "execution_count": 46,
   "id": "38e474a1-211e-4c4c-be9a-6dcbf42819b1",
   "metadata": {},
   "outputs": [
    {
     "data": {
      "application/vnd.jupyter.widget-view+json": {
       "model_id": "4ba7d9402e8143c09263391c75f2685c",
       "version_major": 2,
       "version_minor": 0
      },
      "text/plain": [
       "FloatProgress(value=0.0, bar_style='info', description='Progress:', layout=Layout(height='25px', width='50%'),…"
      ]
     },
     "metadata": {},
     "output_type": "display_data"
    },
    {
     "name": "stdout",
     "output_type": "stream",
     "text": [
      "144577"
     ]
    }
   ],
   "source": [
    "cb.count()"
   ]
  },
  {
   "cell_type": "code",
   "execution_count": 47,
   "id": "feb47566-b753-4fbe-afec-349f6c33e1c0",
   "metadata": {},
   "outputs": [
    {
     "data": {
      "application/vnd.jupyter.widget-view+json": {
       "model_id": "4c37559efd164919a8950f62580831cc",
       "version_major": 2,
       "version_minor": 0
      },
      "text/plain": [
       "FloatProgress(value=0.0, bar_style='info', description='Progress:', layout=Layout(height='25px', width='50%'),…"
      ]
     },
     "metadata": {},
     "output_type": "display_data"
    }
   ],
   "source": [
    "credit_cards = [\"CLO\",\"IAV\",\"ION\",\"MC4\",\"IOP\",\"GCP\",\"MC1\",\"AVP\",\"MC2\",\"MCP\",\"MV1\",\"PLT\",\"GUS\",\"BAP\"]"
   ]
  },
  {
   "cell_type": "code",
   "execution_count": 48,
   "id": "d1f12088-5fce-4129-85ca-760104959528",
   "metadata": {},
   "outputs": [
    {
     "data": {
      "application/vnd.jupyter.widget-view+json": {
       "model_id": "a0d9c257b4cb49628fb84d90a8fe0081",
       "version_major": 2,
       "version_minor": 0
      },
      "text/plain": [
       "FloatProgress(value=0.0, bar_style='info', description='Progress:', layout=Layout(height='25px', width='50%'),…"
      ]
     },
     "metadata": {},
     "output_type": "display_data"
    },
    {
     "name": "stdout",
     "output_type": "stream",
     "text": [
      "+---------------------+--------------------------------+---------+--------------+-----------+------------+-------------------+--------+\n",
      "|user_pseudo_id       |user_session_id                 |clnt_no  |card_sale_date|postal_code|product_code|session_timestamp  |province|\n",
      "+---------------------+--------------------------------+---------+--------------+-----------+------------+-------------------+--------+\n",
      "|1001168409.1739291498|1001168409.1739291498_1739291498|173608217|2025-02-11    |K1T1W2     |ION         |2025-02-11 11:31:38|ON      |\n",
      "|1012026430.1743550318|1012026430.1743550318_1743550318|412655466|2025-04-01    |T2E5Y7     |MC4         |2025-04-01 19:31:58|AB      |\n",
      "|1013706846.1741089233|1013706846.1741089233_1741089232|461744328|2025-03-04    |E2E4S2     |MC4         |2025-03-04 06:53:52|NB      |\n",
      "+---------------------+--------------------------------+---------+--------------+-----------+------------+-------------------+--------+\n",
      "only showing top 3 rows"
     ]
    }
   ],
   "source": [
    "cb.show(3,False)"
   ]
  },
  {
   "cell_type": "code",
   "execution_count": 49,
   "id": "2226b10d-75d1-4766-8398-30a27037bbda",
   "metadata": {},
   "outputs": [
    {
     "data": {
      "application/vnd.jupyter.widget-view+json": {
       "model_id": "f440ab65cfe84fdd8016f8e602dd25dc",
       "version_major": 2,
       "version_minor": 0
      },
      "text/plain": [
       "FloatProgress(value=0.0, bar_style='info', description='Progress:', layout=Layout(height='25px', width='50%'),…"
      ]
     },
     "metadata": {},
     "output_type": "display_data"
    }
   ],
   "source": [
    "cb_ccs_of_interest = cb.filter(F.col('product_code').isin(credit_cards))"
   ]
  },
  {
   "cell_type": "code",
   "execution_count": 50,
   "id": "7bba4d33-fafd-4c8a-a1ad-ce81a6ddcf03",
   "metadata": {},
   "outputs": [
    {
     "data": {
      "application/vnd.jupyter.widget-view+json": {
       "model_id": "f3334b1835714816b5603e99928e5618",
       "version_major": 2,
       "version_minor": 0
      },
      "text/plain": [
       "FloatProgress(value=0.0, bar_style='info', description='Progress:', layout=Layout(height='25px', width='50%'),…"
      ]
     },
     "metadata": {},
     "output_type": "display_data"
    },
    {
     "name": "stdout",
     "output_type": "stream",
     "text": [
      "+------------+-----+\n",
      "|product_code|count|\n",
      "+------------+-----+\n",
      "|MC4         |39666|\n",
      "|CLO         |27230|\n",
      "|MC1         |20603|\n",
      "|IAV         |16631|\n",
      "|ION         |12674|\n",
      "|IOP         |7027 |\n",
      "|MC2         |6232 |\n",
      "|MV1         |4234 |\n",
      "|GCP         |3247 |\n",
      "|AVP         |1430 |\n",
      "|MCP         |1369 |\n",
      "|PLT         |505  |\n",
      "|BAP         |284  |\n",
      "|GUS         |257  |\n",
      "+------------+-----+"
     ]
    }
   ],
   "source": [
    "cb_ccs_of_interest.groupBy('product_code').count().orderBy(F.desc('count')).show(50,False)"
   ]
  },
  {
   "cell_type": "markdown",
   "id": "783fac5b-d4d8-4642-b86d-8135e8504116",
   "metadata": {},
   "source": [
    "##### Final checks"
   ]
  },
  {
   "cell_type": "code",
   "execution_count": 51,
   "id": "ee4dd890-5d75-4505-954a-6cf45d13dd9c",
   "metadata": {},
   "outputs": [
    {
     "data": {
      "application/vnd.jupyter.widget-view+json": {
       "model_id": "9614dd11cc324386b5ea8671ba7441b2",
       "version_major": 2,
       "version_minor": 0
      },
      "text/plain": [
       "FloatProgress(value=0.0, bar_style='info', description='Progress:', layout=Layout(height='25px', width='50%'),…"
      ]
     },
     "metadata": {},
     "output_type": "display_data"
    },
    {
     "name": "stdout",
     "output_type": "stream",
     "text": [
      "141389"
     ]
    }
   ],
   "source": [
    "cb_ccs_of_interest.count()"
   ]
  },
  {
   "cell_type": "code",
   "execution_count": 52,
   "id": "a8619a60-c5d0-4abe-935d-305d9702291e",
   "metadata": {},
   "outputs": [
    {
     "data": {
      "application/vnd.jupyter.widget-view+json": {
       "model_id": "6eae7b6922eb401cbe71792baa95ee0c",
       "version_major": 2,
       "version_minor": 0
      },
      "text/plain": [
       "FloatProgress(value=0.0, bar_style='info', description='Progress:', layout=Layout(height='25px', width='50%'),…"
      ]
     },
     "metadata": {},
     "output_type": "display_data"
    },
    {
     "name": "stdout",
     "output_type": "stream",
     "text": [
      "+----------+----------+\n",
      "|  min_date|  max_date|\n",
      "+----------+----------+\n",
      "|2024-08-01|2025-06-27|\n",
      "+----------+----------+"
     ]
    }
   ],
   "source": [
    "cb_ccs_of_interest.agg(F.min(F.col('card_sale_date')).alias('min_date'), F.max(F.col('card_sale_date')).alias('max_date')).show()"
   ]
  },
  {
   "cell_type": "code",
   "execution_count": 53,
   "id": "cb8ec361-70ef-4940-b3b3-553af5253442",
   "metadata": {},
   "outputs": [
    {
     "data": {
      "application/vnd.jupyter.widget-view+json": {
       "model_id": "d4c68f712d2e4c88a84cbe852ba0b9b5",
       "version_major": 2,
       "version_minor": 0
      },
      "text/plain": [
       "FloatProgress(value=0.0, bar_style='info', description='Progress:', layout=Layout(height='25px', width='50%'),…"
      ]
     },
     "metadata": {},
     "output_type": "display_data"
    },
    {
     "name": "stdout",
     "output_type": "stream",
     "text": [
      "+--------------------+--------------------+---------+--------------+-----------+------------+-------------------+--------+\n",
      "|      user_pseudo_id|     user_session_id|  clnt_no|card_sale_date|postal_code|product_code|  session_timestamp|province|\n",
      "+--------------------+--------------------+---------+--------------+-----------+------------+-------------------+--------+\n",
      "|1001168409.173929...|1001168409.173929...|173608217|    2025-02-11|     K1T1W2|         ION|2025-02-11 11:31:38|      ON|\n",
      "|1012026430.174355...|1012026430.174355...|412655466|    2025-04-01|     T2E5Y7|         MC4|2025-04-01 19:31:58|      AB|\n",
      "|1013706846.174108...|1013706846.174108...|461744328|    2025-03-04|     E2E4S2|         MC4|2025-03-04 06:53:52|      NB|\n",
      "|1021530018.174294...|1021530018.174294...|462046012|    2025-03-25|     J3Y3E1|         CLO|2025-03-25 19:25:53|      QC|\n",
      "|1026676575.173280...|1026676575.173280...|359271624|    2024-11-28|     L2G5S9|         MC2|2024-11-28 09:24:07|      ON|\n",
      "|1031188694.174315...|1031188694.174315...|277967824|    2025-03-28|     M5V2R2|         MC1|2025-03-28 06:45:33|      ON|\n",
      "|1036191858.173343...|1036191858.173343...|885338012|    2024-12-08|     J3P5N3|         CLO|2024-12-08 11:18:15|      QC|\n",
      "|1043732784.172435...|1043732784.172435...|406060921|    2024-08-22|     V9Y2H5|         MC1|2024-08-22 15:33:21|      BC|\n",
      "|1049212319.174354...|1049212319.174354...|412651770|    2025-04-01|     T6W3P4|         MC4|2025-04-01 17:10:20|      AB|\n",
      "|1050654987.172868...|1050654987.172868...|414295048|    2025-06-18|     T8H2C1|         MC4|2025-06-18 18:43:59|      AB|\n",
      "+--------------------+--------------------+---------+--------------+-----------+------------+-------------------+--------+\n",
      "only showing top 10 rows"
     ]
    }
   ],
   "source": [
    "cb_ccs_of_interest.show(10) #Yay!! :) "
   ]
  },
  {
   "cell_type": "markdown",
   "id": "58c318f9-a9f4-4188-8794-38c9d1dd1f89",
   "metadata": {},
   "source": [
    "#### Save File "
   ]
  },
  {
   "cell_type": "code",
   "execution_count": 54,
   "id": "949479e8-a408-4ee2-be47-069569163cfb",
   "metadata": {},
   "outputs": [
    {
     "data": {
      "application/vnd.jupyter.widget-view+json": {
       "model_id": "4e3142c8d19442efbc6752727ce3787c",
       "version_major": 2,
       "version_minor": 0
      },
      "text/plain": [
       "FloatProgress(value=0.0, bar_style='info', description='Progress:', layout=Layout(height='25px', width='50%'),…"
      ]
     },
     "metadata": {},
     "output_type": "display_data"
    }
   ],
   "source": [
    "cb_ccs_of_interest.coalesce(1).write.mode(\"overwrite\").parquet(\"/prod/14460/app/UQ20/data/lab/POMA/anaurosevic/cdn0_cards_affinity/prospect_base/\")"
   ]
  },
  {
   "cell_type": "markdown",
   "id": "3f24b8cc-e6fd-4a8b-ba0a-88f901c564ca",
   "metadata": {},
   "source": [
    "--- END PROGRAM ---"
   ]
  },
  {
   "cell_type": "code",
   "execution_count": 55,
   "id": "f8faf48c-2067-41e2-a1b2-725704091734",
   "metadata": {},
   "outputs": [
    {
     "data": {
      "application/vnd.jupyter.widget-view+json": {
       "model_id": "a52b5e49b4364987a52a06d47a91445b",
       "version_major": 2,
       "version_minor": 0
      },
      "text/plain": [
       "FloatProgress(value=0.0, bar_style='info', description='Progress:', layout=Layout(height='25px', width='50%'),…"
      ]
     },
     "metadata": {},
     "output_type": "display_data"
    },
    {
     "name": "stdout",
     "output_type": "stream",
     "text": [
      "Real time: 7970.82 seconds\n",
      "CPU time: 1.70 seconds"
     ]
    }
   ],
   "source": [
    "#Timing summary\n",
    "end_time = time.time()\n",
    "end_cpu_time = time.process_time()\n",
    "\n",
    "real_time_elapsed = end_time - start_time\n",
    "cpu_time_elapsed = end_cpu_time - start_cpu_time\n",
    "\n",
    "print(f\"Real time: {real_time_elapsed:.2f} seconds\")\n",
    "print(f\"CPU time: {cpu_time_elapsed:.2f} seconds\")"
   ]
  }
 ],
 "metadata": {
  "kernelspec": {
   "display_name": "PySpark",
   "language": "python",
   "name": "pysparkkernel"
  },
  "language_info": {
   "codemirror_mode": {
    "name": "python",
    "version": 3
   },
   "file_extension": ".py",
   "mimetype": "text/x-python",
   "name": "pyspark",
   "pygments_lexer": "python3"
  }
 },
 "nbformat": 4,
 "nbformat_minor": 5
}
