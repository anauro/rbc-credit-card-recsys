{
 "cells": [
  {
   "cell_type": "markdown",
   "id": "742a0d64-582e-4f54-ac32-58c9ded95eee",
   "metadata": {},
   "source": [
    "## LOOKUP TABLES\n",
    "\n",
    "Since we don't know much about prospects visiting the public site, we will be creating lookup tables based on RBC client information at the postal code level - i.e., we will be using RBC clients in the prospect's neighbourhood as a proxy for our clients. \n",
    "\n",
    "*There are four sources of information we will be referencing:*\n",
    "- __UCP:__ Client demographics in the month that they opened their first CC\n",
    "- __Environics:__ PRIZM customer lifestyle segment\n",
    "- __Transactions:__ CC transactions for specific categories of spending\n",
    "- __Credit:__ Credit score, balance, and number of other financial institutions"
   ]
  },
  {
   "cell_type": "markdown",
   "id": "20dd79c8-017d-42b5-8837-e6288b26399d",
   "metadata": {},
   "source": [
    "##### Timing \n",
    "We want to time how long these programs take to run. We are interested both in real time and CPU time. "
   ]
  },
  {
   "cell_type": "code",
   "execution_count": null,
   "id": "d45f9ade-0cb6-4374-8251-bfdbce385867",
   "metadata": {},
   "outputs": [],
   "source": [
    "import time \n",
    "\n",
    "start_time = time.time()\n",
    "start_cpu_time = time.process_time()"
   ]
  },
  {
   "cell_type": "markdown",
   "id": "f9d62544-8d7a-4526-8369-7354dfd40701",
   "metadata": {},
   "source": [
    "#### Set Up"
   ]
  },
  {
   "cell_type": "code",
   "execution_count": null,
   "id": "75c92ff4-68f5-4092-9bdf-fde10522b5f8",
   "metadata": {},
   "outputs": [],
   "source": [
    "import os\n",
    "import numpy as np\n",
    "import calendar\n",
    "\n",
    "import pyspark\n",
    "from pyspark.sql import SparkSession\n",
    "\n",
    "from pyspark.sql.functions import udf\n",
    "from pyspark.sql.types import IntegerType, StringType, FloatType\n",
    "from pyspark.sql.functions import collect_list, regexp_replace, lower\n",
    "from pyspark.sql import functions as F\n",
    "from pyspark.sql import Window\n",
    "from pyspark.sql.functions import year, month, dayofmonth, to_date, trim, concat, col, lit\n",
    "from functools import reduce\n",
    "\n",
    "import datetime \n",
    "from datetime import datetime as dt\n",
    "from dateutil.relativedelta import *\n",
    "import pandas as pd"
   ]
  },
  {
   "cell_type": "markdown",
   "id": "461d2202-8175-4c8d-9ac2-6d5fbd8f4795",
   "metadata": {},
   "source": [
    "#### Function to Create Dates"
   ]
  },
  {
   "cell_type": "code",
   "execution_count": null,
   "id": "f4961f93-d7a6-4a0b-830d-5fa99a1a9e29",
   "metadata": {},
   "outputs": [],
   "source": [
    "def month_end_list(num_months): \n",
    "\n",
    "    #Define period start and end based on today's date \n",
    "    today = datetime.date.today()\n",
    "    period_start = today.replace(day=1) + relativedelta(months=-num_months)\n",
    "    period_end = today.replace(day=1)\n",
    "\n",
    "    #Create list of month ends\n",
    "    dtrange = pd.date_range(start=period_start, end=period_end, freq='d')\n",
    "    months = pd.Series(dtrange.month)\n",
    "    starts, ends = months.ne(months.shift(1)), months.ne(months.shift(-1))\n",
    "    df = pd.DataFrame({'month_starting_date': dtrange[starts].strftime('%Y-%m-%d'),\n",
    "                       'month_ending_date': dtrange[ends].strftime('%Y-%m-%d')})\n",
    "    \n",
    "    me_list = list(df['month_ending_date'])[:-1]\n",
    "    return me_list "
   ]
  },
  {
   "cell_type": "code",
   "execution_count": null,
   "id": "bcbef58a-d39e-4457-ac7a-a42ee391557d",
   "metadata": {},
   "outputs": [],
   "source": [
    "month_end_list(24)"
   ]
  },
  {
   "cell_type": "code",
   "execution_count": null,
   "id": "2e6d688e-cf4d-48e1-85e0-7e68a4f8544c",
   "metadata": {},
   "outputs": [],
   "source": [
    "def month_start_list(num_months): \n",
    "\n",
    "    #Define period start and end based on today's date \n",
    "    today = datetime.date.today()\n",
    "    period_start = today.replace(day=1) + relativedelta(months=-num_months)\n",
    "    period_end = today.replace(day=1)\n",
    "\n",
    "    #Create list of month ends\n",
    "    dtrange = pd.date_range(start=period_start, end=period_end, freq='d')\n",
    "    months = pd.Series(dtrange.month)\n",
    "    starts, ends = months.ne(months.shift(1)), months.ne(months.shift(-1))\n",
    "    df = pd.DataFrame({'month_starting_date': dtrange[starts].strftime('%Y-%m-%d'),\n",
    "                       'month_ending_date': dtrange[ends].strftime('%Y-%m-%d')})\n",
    "    \n",
    "    me_list = list(df['month_starting_date'])[:-1]\n",
    "    return me_list "
   ]
  },
  {
   "cell_type": "code",
   "execution_count": null,
   "id": "d33904fa-d9e0-4022-b84a-52f3c1355e4d",
   "metadata": {},
   "outputs": [],
   "source": [
    "month_start_list(12)"
   ]
  },
  {
   "cell_type": "code",
   "execution_count": null,
   "id": "d77ff3af-b685-4fe7-80d3-5fc5d784d331",
   "metadata": {},
   "outputs": [],
   "source": [
    "def get_years_between_dates(start_date_str, end_date_str):\n",
    "    \n",
    "    start_date = dt.strptime(start_date_str, '%Y-%m-%d').date()\n",
    "    end_date = dt.strptime(end_date_str, '%Y-%m-%d').date()\n",
    "\n",
    "    if start_date > end_date:\n",
    "        raise ValueError(\"Start date must be before end date.\")\n",
    "\n",
    "    start_year = start_date.year\n",
    "    end_year = end_date.year\n",
    "    return list(range(start_year, end_year + 1))"
   ]
  },
  {
   "cell_type": "code",
   "execution_count": null,
   "id": "78768e8e-65bb-4c28-b6a5-cb64347681b9",
   "metadata": {},
   "outputs": [],
   "source": [
    "get_years_between_dates(month_end_list(24)[0],month_end_list(24)[-1])"
   ]
  },
  {
   "cell_type": "markdown",
   "id": "ef47d5ce-f8d6-42bd-a7ad-b53a08d41d11",
   "metadata": {},
   "source": [
    "#### Function to Check File Paths"
   ]
  },
  {
   "cell_type": "code",
   "execution_count": null,
   "id": "6a43790d-4806-44cb-8067-15690e57e37d",
   "metadata": {},
   "outputs": [],
   "source": [
    "def check_folder(path):\n",
    "\n",
    "    # Access Hadoop FileSystem\n",
    "    hadoop_fs = spark._jsc.hadoopConfiguration()\n",
    "    fs = spark._jvm.org.apache.hadoop.fs.FileSystem.get(hadoop_fs)\n",
    "    \n",
    "    # List subfolders\n",
    "    files = fs.listStatus(spark._jvm.org.apache.hadoop.fs.Path(path))\n",
    "    subfolders = [file.getPath().getName() for file in files if file.isDirectory()]\n",
    "        \n",
    "    return subfolders"
   ]
  },
  {
   "cell_type": "code",
   "execution_count": null,
   "id": "5fc8e418-b9a6-4938-9d5e-76f850364c9c",
   "metadata": {},
   "outputs": [],
   "source": [
    "check_folder(\"/anaurosevic/cdn0_cards_affinity/lookup\")"
   ]
  },
  {
   "cell_type": "markdown",
   "id": "40873b82-8182-419d-ba68-efe5ae6bb6e3",
   "metadata": {},
   "source": [
    "#### Universal Client Profile"
   ]
  },
  {
   "cell_type": "markdown",
   "id": "67114fa6-9247-4c46-9c50-8280aee8ff21",
   "metadata": {},
   "source": [
    "##### Client Base\n",
    "The UCP base will be comprised of people who opened a credit card for the first time in the last 2 years*. It is important that the credit card is their first product with the bank at the time of purchase - specifically to retain comparability between our incoming prospects. \n",
    "\n",
    "**Note: With only 1 year of data, there weren't enough customers at each postal code.*"
   ]
  },
  {
   "cell_type": "code",
   "execution_count": null,
   "id": "05fa0f39-a9f7-44ef-958b-5018c3789498",
   "metadata": {},
   "outputs": [],
   "source": [
    "month_start_list(24)"
   ]
  },
  {
   "cell_type": "code",
   "execution_count": null,
   "id": "80b44ce8-1539-4d89-8bfb-c6af9575922d",
   "metadata": {},
   "outputs": [],
   "source": [
    "date_filter_string = \"open_mth>='\" + month_start_list(24)[0] + \"'and open_mth<='\" +  month_start_list(24)[-1] + \"'\"\n",
    "print(date_filter_string)"
   ]
  },
  {
   "cell_type": "code",
   "execution_count": null,
   "id": "64ac9df8-d20a-49b6-9ef6-52cdcc92f139",
   "metadata": {},
   "outputs": [],
   "source": [
    "open_acct = spark.read.option(\"basePath\",\"...SALES...\").load(\n",
    "    \"...SALES...\").filter(date_filter_string)"
   ]
  },
  {
   "cell_type": "markdown",
   "id": "72e9be72-ee20-43ca-b2e6-b26ffdc57a45",
   "metadata": {},
   "source": [
    "##### Filter to clients of interest\n",
    "We want clients who meet the following criteria: \n",
    "(1) New clients - not existing \n",
    "(2) Opened a credit card \n",
    "(3) Opened the credit card online \n",
    "(4) Personal clients - not business \n",
    "\n",
    "These clients are as close as possible to our prospects and so we can use their client info based on the time they first acquired their CC to impute averages for our true prospects. "
   ]
  },
  {
   "cell_type": "code",
   "execution_count": null,
   "id": "2c33e55d-1add-4d68-9fda-db469cdb3d94",
   "metadata": {},
   "outputs": [],
   "source": [
    "#(1) Filter to only new clients \n",
    "new_clients = open_acct.filter(\"new_existing == 'NEW'\")\n",
    "new_clients.count()"
   ]
  },
  {
   "cell_type": "code",
   "execution_count": null,
   "id": "c7fa4a01-116d-4738-875f-28f3470fc9b9",
   "metadata": {},
   "outputs": [],
   "source": [
    "#(2) Ensure that they opened a credit card specifically \n",
    "new_clients_cc = new_clients.filter(\"lob == 'Credit Cards'\")\n",
    "new_clients_cc.count()"
   ]
  },
  {
   "cell_type": "code",
   "execution_count": null,
   "id": "2836317f-6c4c-40e6-b714-ce52487b581d",
   "metadata": {},
   "outputs": [],
   "source": [
    "#(3) Online channels\n",
    "new_clients_cc_online = new_clients_cc.filter(\"channel in ('.com','OLB','Mobile')\")\n",
    "new_clients_cc_online.count()"
   ]
  },
  {
   "cell_type": "code",
   "execution_count": null,
   "id": "1fe7e60c-dbf8-46af-ac04-21dffc0d4f34",
   "metadata": {},
   "outputs": [],
   "source": [
    "#(4) Personal and not business clients \n",
    "new_clients_cc_online_personal = new_clients_cc_online.filter(\"business_ind == 0\")"
   ]
  },
  {
   "cell_type": "code",
   "execution_count": null,
   "id": "7953dd06-51a6-494a-baf9-6f02fefb0b95",
   "metadata": {},
   "outputs": [],
   "source": [
    "#Final existing client pool which we will merge onto UCP \n",
    "clients_of_interest = new_clients_cc_online_personal.select(\n",
    "    \"open_dt\",\"clnt_no\",\"product_code\",\"student_ind\",\"newcomer_ind\")\n",
    "clients_of_interest.show(10,False)"
   ]
  },
  {
   "cell_type": "markdown",
   "id": "caccf845-0e85-49ed-9a0e-6bbef4784858",
   "metadata": {},
   "source": [
    "##### Fix inconsistencies\n",
    "We want to ensure that we have unique clients who are representative of the cards we are interested in. We will filter out people who: \n",
    "- __Have a CC other than our 14 of interest:__ Not informative for predicting CCs\n",
    "- __Have missing client number:__ Won't be able to link them to UCP\n",
    "- __Multiple CC sales for a given client:__ We should only observe one account opening for each client especially since we filtered on \"new\" clients. Investigations into cases where there are multiple CC sales for \"new\" clients reflect cases where customers purchase a card, close the account, then reopen. These cases are both rare and confusing so we will ignore them for the postal code aggregation."
   ]
  },
  {
   "cell_type": "code",
   "execution_count": null,
   "id": "f6e210fe-ff06-466c-86a1-43c1961b28f7",
   "metadata": {},
   "outputs": [],
   "source": [
    "credit_cards = [\"CLO\",\"IAV\",\"ION\",\"MC4\",\"IOP\",\"GCP\",\"MC1\",\"AVP\",\"MC2\",\"MCP\",\"MV1\",\"PLT\",\"GUS\",\"BAP\"]\n",
    "credit_cards"
   ]
  },
  {
   "cell_type": "code",
   "execution_count": null,
   "id": "ec1d9fe3-2047-428a-8759-0a643da5a9bf",
   "metadata": {},
   "outputs": [],
   "source": [
    "clients_cc = clients_of_interest.filter(F.col('product_code').isin(credit_cards))\n",
    "clients_cc.count()"
   ]
  },
  {
   "cell_type": "code",
   "execution_count": null,
   "id": "77f62127-22ed-498b-8e06-9ed10c69ebaa",
   "metadata": {},
   "outputs": [],
   "source": [
    "#Quick check - any missing client numbers? \n",
    "print(clients_cc.filter(\"clnt_no is null\").count())\n",
    "#Great, we're good to go!\n",
    "print(clients_cc.count())"
   ]
  },
  {
   "cell_type": "code",
   "execution_count": null,
   "id": "e7b87264-6db4-4b72-b428-1aa4f2b6610f",
   "metadata": {},
   "outputs": [],
   "source": [
    "#Keep clients with only one row since people who open then close accounts are messy \n",
    "one_row_only = clients_cc.groupBy(\"clnt_no\").count().where(\"count==1\").select(\"clnt_no\")\n",
    "\n",
    "final_clients = clients_cc.join(\n",
    "    one_row_only, one_row_only.clnt_no == clients_cc.clnt_no,\"inner\").drop(\n",
    "    one_row_only.clnt_no).select(\n",
    "    \"clnt_no\",\"open_dt\",\"product_code\",\"student_ind\",\"newcomer_ind\")\n",
    "\n",
    "final_clients.show(5, False)"
   ]
  },
  {
   "cell_type": "code",
   "execution_count": null,
   "id": "9f619673-f57a-4b01-889a-42db51ce1840",
   "metadata": {},
   "outputs": [],
   "source": [
    "final_clients.count()"
   ]
  },
  {
   "cell_type": "markdown",
   "id": "6ac30e7e-ea16-403e-afa0-b0abe863cf82",
   "metadata": {},
   "source": [
    "##### UCP Merge"
   ]
  },
  {
   "cell_type": "code",
   "execution_count": null,
   "id": "8bba2181-4f19-4333-b6fa-5ddc5c3464af",
   "metadata": {},
   "outputs": [],
   "source": [
    "date_filter_string = \"MONTH_END_DATE>='\" + month_end_list(24)[0] + \"'and MONTH_END_DATE<='\" + month_end_list(24)[-1] + \"'\"\n",
    "print(date_filter_string)"
   ]
  },
  {
   "cell_type": "code",
   "execution_count": null,
   "id": "b645fc20-a713-458b-90d5-b36890072718",
   "metadata": {},
   "outputs": [],
   "source": [
    "ucp = spark.read.option(\n",
    "    \"basePath\",\"...CLIENT_PROFILE...\").load(\n",
    "    \"...CLIENT_PROFILE...\").filter(\n",
    "    date_filter_string)"
   ]
  },
  {
   "cell_type": "code",
   "execution_count": null,
   "id": "c691976c-8dc7-4fba-a44f-138731058767",
   "metadata": {},
   "outputs": [],
   "source": [
    "#Merge onto these clients \n",
    "client_base_ucp = final_clients.join(ucp,\n",
    "  (ucp.CLNT_NO == final_clients.clnt_no) & \n",
    "  #Snapshot from the month in which they opened their account\n",
    "  (month(ucp.MONTH_END_DATE) == month(final_clients.open_dt)) &\n",
    "  (year(ucp.MONTH_END_DATE)== year(final_clients.open_dt)),\"inner\").drop(\n",
    "    ucp.CLNT_NO).drop(ucp.MONTH_END_DATE).withColumnRenamed('POST_CD','postal_code')"
   ]
  },
  {
   "cell_type": "code",
   "execution_count": null,
   "id": "57873426-87a1-479a-9aaf-80e9a9ae1207",
   "metadata": {},
   "outputs": [],
   "source": [
    "client_base_ucp.select('clnt_no','open_dt','product_code','student_ind','newcomer_ind','postal_code').show(5,False)"
   ]
  },
  {
   "cell_type": "code",
   "execution_count": null,
   "id": "2e309389-caf0-42df-a95a-cca5a27b6a32",
   "metadata": {},
   "outputs": [],
   "source": [
    "#Save\n",
    "#We will use this client base for credit score/summary as well\n",
    "cb_ucp = client_base_ucp.select('clnt_no','open_dt','product_code','student_ind','newcomer_ind','postal_code')\n",
    "cb_ucp.coalesce(1).write.mode(\"overwrite\").parquet(\"/anaurosevic/cdn0_cards_affinity/lookup/cb_ucp\")"
   ]
  },
  {
   "cell_type": "markdown",
   "id": "cc06ecf8-3664-4003-937a-5ad841cf29a4",
   "metadata": {},
   "source": [
    "##### Formatting Variables\n",
    "\n",
    "_Variables of interest are:_\n",
    "- Age\n",
    "- Generation\n",
    "- Lifetime Profit Value\n",
    "- Life Stage Segment\n",
    "- Sex"
   ]
  },
  {
   "cell_type": "code",
   "execution_count": null,
   "id": "669ef6ab-b0f0-4a75-9bcd-f00335887d3d",
   "metadata": {},
   "outputs": [],
   "source": [
    "ucp_cols = client_base_ucp.withColumn(\n",
    "    #Generation\n",
    "    \"gen\",\n",
    "    F.when(\n",
    "        F.col(\"GENERATION\").isNull(),\"unk\").when(\n",
    "        F.col(\"GENERATION\")==\"I.Gen Z\",\"z\").when(\n",
    "        F.col(\"GENERATION\")==\"F.Gen X\",\"x\").when(\n",
    "        F.col(\"GENERATION\").isin(['G.Early Millennials','H.Late Millennials']), \"millennial\").otherwise(\n",
    "        \"boomer\")).withColumn(\n",
    "    #Lifetime profit value\n",
    "    \"life_value\", \n",
    "    F.when(F.col(\"LIFETM_VAL_5YR_CLNT_SEG_CD\").isNull(),\"unk\").otherwise(lower(F.col(\"LIFETM_VAL_5YR_CLNT_SEG_CD\")))).withColumn(\n",
    "    #Life stage segment\n",
    "    \"lifestage\", \n",
    "    F.when(F.col(\"LOG_COMP_SEG_CD\").isNull(),\"unk\").otherwise(lower(F.col(\"LOG_COMP_SEG_CD\")))).withColumn(\n",
    "    #Sex\n",
    "    \"sex\",\n",
    "    F.when(F.col(\"SEX_SEG_CD\").isNull(), \"unk\").when(\n",
    "    F.col(\"SEX_SEG_CD\")==1,\"m\").otherwise(\"f\"))"
   ]
  },
  {
   "cell_type": "code",
   "execution_count": null,
   "id": "e77c71ff-c323-4fd9-8a5e-f1ffce786eee",
   "metadata": {},
   "outputs": [],
   "source": [
    "#Let's grab what's necessary only ~ \n",
    "ucp_important = ucp_cols.select(\n",
    "    \"clnt_no\",\"product_code\",\"postal_code\",\n",
    "    \"student_ind\",\"newcomer_ind\",\"AGE\",\"gen\",\"life_value\",\"lifestage\",\"sex\").withColumnRenamed(\n",
    "    \"AGE\",\"age\").withColumnRenamed(\n",
    "    \"product_code\",\"cc\")"
   ]
  },
  {
   "cell_type": "code",
   "execution_count": null,
   "id": "6968062c-1914-4f45-877c-aa2d2a97487a",
   "metadata": {},
   "outputs": [],
   "source": [
    "ucp_important.show(10,False)"
   ]
  },
  {
   "cell_type": "markdown",
   "id": "fd78b002-aef0-48f5-bf62-58896e5bf66b",
   "metadata": {},
   "source": [
    "##### Postal Code Aggregation"
   ]
  },
  {
   "cell_type": "code",
   "execution_count": null,
   "id": "4c774ef3-4dfd-4140-8ad5-05010e15afef",
   "metadata": {},
   "outputs": [],
   "source": [
    "ucp_final = ucp_important.drop(\"clnt_no\").filter(\"postal_code is not null\")"
   ]
  },
  {
   "cell_type": "code",
   "execution_count": null,
   "id": "c34b3400-2c08-42a6-be30-3a475cd6c076",
   "metadata": {},
   "outputs": [],
   "source": [
    "ucp_final.show(5,False) "
   ]
  },
  {
   "cell_type": "code",
   "execution_count": null,
   "id": "461032f4-beac-4f02-9239-51e80ab5c811",
   "metadata": {},
   "outputs": [],
   "source": [
    "ucp_final_pd = ucp_final.toPandas()"
   ]
  },
  {
   "cell_type": "code",
   "execution_count": null,
   "id": "4c4fe4a0-9858-4475-9eb7-b438f2e8a8cb",
   "metadata": {},
   "outputs": [],
   "source": [
    "all_cols = list(ucp_final_pd.columns.values)\n",
    "cat_cols = [x for x in all_cols if x not in ['postal_code','age','student_ind','newcomer_ind']]\n",
    "print(cat_cols) "
   ]
  },
  {
   "cell_type": "code",
   "execution_count": null,
   "id": "28475752-660d-412a-992a-c1fe6a6daf5c",
   "metadata": {},
   "outputs": [],
   "source": [
    "dummies = pd.get_dummies(ucp_final_pd[cat_cols], drop_first=False)\n",
    "dummies.head(5)"
   ]
  },
  {
   "cell_type": "code",
   "execution_count": null,
   "id": "76ded557-9045-4753-8c1d-9f86716682fb",
   "metadata": {},
   "outputs": [],
   "source": [
    "ucp_flags = pd.concat([ucp_final_pd[['postal_code','age','student_ind','newcomer_ind']], dummies], axis=1)"
   ]
  },
  {
   "cell_type": "code",
   "execution_count": null,
   "id": "d6457c1f-2747-42dc-90c2-3f371293e2a7",
   "metadata": {},
   "outputs": [],
   "source": [
    "ucp_flags.columns[ucp_flags.isnull().any()] #Great!"
   ]
  },
  {
   "cell_type": "markdown",
   "id": "fbb9a531-809d-4899-94f5-b0f5689ad6ec",
   "metadata": {},
   "source": [
    "##### Averages"
   ]
  },
  {
   "cell_type": "code",
   "execution_count": null,
   "id": "ce3b1977-459a-4102-bfd1-f6541e7eabf7",
   "metadata": {},
   "outputs": [],
   "source": [
    "postal_code_agg = ucp_flags.groupby('postal_code',as_index=False).mean()"
   ]
  },
  {
   "cell_type": "code",
   "execution_count": null,
   "id": "85edfc31-9873-49a9-a287-534ca20791f7",
   "metadata": {},
   "outputs": [],
   "source": [
    "postal_code_agg.head(5)"
   ]
  },
  {
   "cell_type": "code",
   "execution_count": null,
   "id": "49fc9bc5-3631-4f39-b28f-5d5ce9a00fe4",
   "metadata": {},
   "outputs": [],
   "source": [
    "postal_code_agg.columns.values"
   ]
  },
  {
   "cell_type": "code",
   "execution_count": null,
   "id": "76f77bdb-0c2e-4068-a400-dae5894fcf23",
   "metadata": {},
   "outputs": [],
   "source": [
    "#Back to spark!\n",
    "postal_code_agg_spark = spark.createDataFrame(postal_code_agg)"
   ]
  },
  {
   "cell_type": "code",
   "execution_count": null,
   "id": "c1529954-920d-4f6b-a5e3-a8e5bb193efe",
   "metadata": {},
   "outputs": [],
   "source": [
    "postal_code_agg_spark.count()"
   ]
  },
  {
   "cell_type": "code",
   "execution_count": null,
   "id": "dcaf6734-fd80-4b4f-8ead-84e3d37583ba",
   "metadata": {},
   "outputs": [],
   "source": [
    "ucp_lookup_final = postal_code_agg_spark"
   ]
  },
  {
   "cell_type": "markdown",
   "id": "96ce3d9f-1766-4eff-b1c9-44b43ae13ca0",
   "metadata": {},
   "source": [
    "##### Save"
   ]
  },
  {
   "cell_type": "code",
   "execution_count": null,
   "id": "25c087de-b167-4a5f-8892-bb1b120a3845",
   "metadata": {},
   "outputs": [],
   "source": [
    "ucp_lookup_final.coalesce(1).write.mode(\"overwrite\").parquet(\"/anaurosevic/cdn0_cards_affinity/lookup/ucp\")"
   ]
  },
  {
   "cell_type": "markdown",
   "id": "038325ad-594a-4b3d-aa9b-700b6bc3ab69",
   "metadata": {},
   "source": [
    "#### Environics "
   ]
  },
  {
   "cell_type": "code",
   "execution_count": null,
   "id": "36063dc2-6d9e-4aaa-aaa4-f6390239cae2",
   "metadata": {},
   "outputs": [],
   "source": [
    "environics_2024 = spark.read.csv(\n",
    "    \"PRIZM_Unique_License_202401_GEO.csv\", \n",
    "    header=True, \n",
    "    mode=\"DROPMALFORMED\"\n",
    ")\n",
    "print(environics_2024.count())\n",
    "environics_2024.printSchema()"
   ]
  },
  {
   "cell_type": "code",
   "execution_count": null,
   "id": "b6973131-1299-4f77-a201-39894aab136d",
   "metadata": {},
   "outputs": [],
   "source": [
    "environics_2024 = environics_2024.withColumnRenamed(\"FSALDU\",\"postal_code\").withColumnRenamed(\"PRIZM\",\"prizm_seg\").select(\n",
    "    \"postal_code\",\"prizm_seg\")\n",
    "environics_2024.show(3,False)"
   ]
  },
  {
   "cell_type": "code",
   "execution_count": null,
   "id": "3c231719-6c22-4579-8cc7-c7fd5512e054",
   "metadata": {
    "scrolled": true
   },
   "outputs": [],
   "source": [
    "categorical_columns = [\"prizm_seg\"]\n",
    "\n",
    "def create_exprs(column_name):\n",
    "    categories = environics_2024.select(column_name).distinct().\\\n",
    "    rdd.flatMap(lambda x: x).collect()\n",
    "\n",
    "    return [F.when(F.col(column_name) == category, 1).otherwise(0).\\\n",
    "            alias(f\"{column_name}_{category}\") for category in categories]\n",
    "\n",
    "exprs = reduce(lambda acc, col_name: acc + create_exprs(col_name), \n",
    "               categorical_columns, [])\n",
    "\n",
    "result_df = environics_2024.select(\"postal_code\", *exprs)\n",
    "\n",
    "result_df.printSchema()"
   ]
  },
  {
   "cell_type": "markdown",
   "id": "845f1e3a-c04b-499d-a272-7f3030c35a49",
   "metadata": {},
   "source": [
    "##### Save "
   ]
  },
  {
   "cell_type": "code",
   "execution_count": null,
   "id": "85ea5a95-5f36-40b5-9744-e41df0d30390",
   "metadata": {},
   "outputs": [],
   "source": [
    "environics_final = result_df\n",
    "environics_final.coalesce(1).write.mode(\"overwrite\").parquet(\"/anaurosevic/cdn0_cards_affinity/lookup/environics\")"
   ]
  },
  {
   "cell_type": "markdown",
   "id": "16a7f703-24d4-47eb-8c58-5945f5b27cbf",
   "metadata": {},
   "source": [
    "#### Credit Score and Summary"
   ]
  },
  {
   "cell_type": "code",
   "execution_count": null,
   "id": "b34f1626-c36f-4e8a-a34f-4a98e3fa34a0",
   "metadata": {},
   "outputs": [],
   "source": [
    "#Use client base saved earlier \n",
    "final_clients = spark.read.load(\"/anaurosevic/cdn0_cards_affinity/lookup/cb_ucp\")"
   ]
  },
  {
   "cell_type": "markdown",
   "id": "7bdb8663-cd05-458b-9d66-27f1473809a2",
   "metadata": {},
   "source": [
    "#### (A) Credit Summary"
   ]
  },
  {
   "cell_type": "code",
   "execution_count": null,
   "id": "d0f9d82b-d5f7-4368-8680-48aa12e7ae8c",
   "metadata": {},
   "outputs": [],
   "source": [
    "#The TU table is updated quarterly\n",
    "#This means that we only have data for the latest Q which ended in Jan\n",
    "final_clients_dates = final_clients.select(\n",
    "    'clnt_no','open_dt','postal_code').withColumn(\n",
    "    'current_month_end',F.last_day('open_dt')).withColumn(\n",
    "    'next_month_end',F.last_day(F.date_add('current_month_end',1)))"
   ]
  },
  {
   "cell_type": "code",
   "execution_count": null,
   "id": "a37c73b1-b466-457d-858e-f57d3344caea",
   "metadata": {},
   "outputs": [],
   "source": [
    "final_clients_dates.show(5,False)"
   ]
  },
  {
   "cell_type": "code",
   "execution_count": null,
   "id": "85f9c43b-6466-4691-8c1f-aa213a7304d3",
   "metadata": {},
   "outputs": [],
   "source": [
    "years_to_import = get_years_between_dates(month_end_list(24)[0], month_end_list(24)[-1])\n",
    "print(years_to_import)"
   ]
  },
  {
   "cell_type": "code",
   "execution_count": null,
   "id": "b893ce76-f4da-4974-a61d-06b44ae3443f",
   "metadata": {},
   "outputs": [],
   "source": [
    "#Create regex for import\n",
    "regex = \"QTR_DT={\" + \",\".join(f\"{year}*\" for year in years_to_import) + \"}\"\n",
    "print(regex)\n",
    "\n",
    "base_path = \"...TTU_TRADE...\"\n",
    "dynamic_path = base_path+regex\n",
    "print(dynamic_path)"
   ]
  },
  {
   "cell_type": "code",
   "execution_count": null,
   "id": "227102f6-faf4-4dd9-8ca7-7a95981b83d4",
   "metadata": {},
   "outputs": [],
   "source": [
    "tu_all_raw = spark.read.option('basePath', base_path).load(dynamic_path)"
   ]
  },
  {
   "cell_type": "code",
   "execution_count": null,
   "id": "27ceea29-59aa-4bf2-8e1c-a30f1a5ed333",
   "metadata": {},
   "outputs": [],
   "source": [
    "tu_all_raw.select('DT_RPTD').show(5,False)"
   ]
  },
  {
   "cell_type": "code",
   "execution_count": null,
   "id": "462a5eef-f055-49d6-bc8a-d2b6c4bffaa9",
   "metadata": {},
   "outputs": [],
   "source": [
    "#Grab relevant columns and reformat \n",
    "tu_all = tu_all_raw.filter(\n",
    "    #Preferred record\n",
    "    F.trim(F.col('PREFER_IND'))=='Y').filter(\n",
    "    #Revolving/open trade types \n",
    "    F.trim(F.col(\"TRD_CATG\")).isin(['REV','OPN'])).filter(\n",
    "    #Credit card specific accounts \n",
    "    F.trim(F.col(\"TRD_SUB_CATG\")).isin([\"BC\",\"RT\",\"QC\"])).withColumn(\n",
    "    #Last report must be in the last year\n",
    "    \"last_report_date\", F.col(\"DT_RPTD\")).withColumn(\n",
    "    'snapshot_date',F.col('QTR_DT')).withColumn(\n",
    "    #Convert clnt number to string \n",
    "    \"clnt_no\",F.col(\"CLNT_NO\").cast(\"string\")).withColumnRenamed(\n",
    "    \"BAL\",\"balance\").withColumnRenamed(\n",
    "    \"SUB_SH_NAME\",'subscriber').select(\"clnt_no\",\"snapshot_date\",\"last_report_date\",\"balance\",\"subscriber\")"
   ]
  },
  {
   "cell_type": "code",
   "execution_count": null,
   "id": "a9476f5c-edd9-46dd-adb5-28c673752689",
   "metadata": {},
   "outputs": [],
   "source": [
    "tu_all.show(5,False)"
   ]
  },
  {
   "cell_type": "markdown",
   "id": "12365298-a909-44d4-a131-4a54beb876e7",
   "metadata": {},
   "source": [
    "We will grab snapshot dates in the date of card sale AND the following month where they may be reported.\n",
    "If there are multiple snapshot dates, then we will only grab the first for each client!\n",
    "Left join is important because even if a client doesn't have a recent credit report, it doesn't mean they're not still in the system."
   ]
  },
  {
   "cell_type": "code",
   "execution_count": null,
   "id": "bec47e13-ce00-4e08-9b69-4197baf9970c",
   "metadata": {},
   "outputs": [],
   "source": [
    "clients_tu = final_clients_dates.join(tu_all,\n",
    "    (final_clients_dates.clnt_no == tu_all.clnt_no) &\n",
    "     #Snapshot from the month in which they opened their account **OR THE FOLLOWING MONTH**\n",
    "    ((final_clients_dates.current_month_end == tu_all.snapshot_date) |\n",
    "    (final_clients_dates.next_month_end == tu_all.snapshot_date)), how=\"left\").drop(\n",
    "    tu_all.clnt_no)"
   ]
  },
  {
   "cell_type": "code",
   "execution_count": null,
   "id": "95a10712-77ec-4e9c-8776-3da208619b0a",
   "metadata": {},
   "outputs": [],
   "source": [
    "#Grab only one row per client: first snapshot date!\n",
    "min_snapshot = clients_tu.groupBy('clnt_no').agg(F.min('snapshot_date').alias('min_snapshot_date'))\n",
    "\n",
    "first_tu = clients_tu.join(min_snapshot, \n",
    "                           (clients_tu.clnt_no == min_snapshot.clnt_no) &\n",
    "                           (clients_tu.snapshot_date == min_snapshot.min_snapshot_date),\n",
    "                           how='inner').drop(min_snapshot.clnt_no).persist()"
   ]
  },
  {
   "cell_type": "code",
   "execution_count": null,
   "id": "49740528-ba5c-4717-96df-90f9a26237ac",
   "metadata": {},
   "outputs": [],
   "source": [
    "#Focus on trades where the last reported date is within the last year \n",
    "recent_credit_report = first_tu.filter(\n",
    "    #Grab all trades for these clients where the last reported date is within the last year! \n",
    "    #Assumption: Anything where the last report date is longer than that is likely closed \n",
    "    F.col(\"last_report_date\")>=F.add_months(F.col(\"open_dt\"), -12))"
   ]
  },
  {
   "cell_type": "code",
   "execution_count": null,
   "id": "1ff9fbd5-f0d0-42f3-967f-da6336974fdc",
   "metadata": {},
   "outputs": [],
   "source": [
    "#Interested in total balance across all credit lines and number of unique institutions (OFI = other financial institution) \n",
    "summ_credit = recent_credit_report.groupBy(\n",
    "    'clnt_no').agg(\n",
    "    F.sum('balance').alias('total_balance'), \n",
    "    F.countDistinct('subscriber').alias('num_ofi')).persist()"
   ]
  },
  {
   "cell_type": "code",
   "execution_count": null,
   "id": "3837b7c1-4e50-4e29-b2f7-bf8f144f69f7",
   "metadata": {},
   "outputs": [],
   "source": [
    "#Merge back so that we can get all the people who are still clients (i.e., appear in TU data) but just don't have any recent credit\n",
    "summ_credit_all_clients = first_tu.select('clnt_no','postal_code').distinct().join(\n",
    "    summ_credit, [\"clnt_no\"], how='left').na.fill(0)"
   ]
  },
  {
   "cell_type": "code",
   "execution_count": null,
   "id": "fddf8689-548b-4bf1-b1dc-afc029aa62f0",
   "metadata": {},
   "outputs": [],
   "source": [
    "summ_credit_all_clients.show(5,False)"
   ]
  },
  {
   "cell_type": "markdown",
   "id": "39939932-c0d7-4739-8e34-cb4d7bec6372",
   "metadata": {},
   "source": [
    "##### Postal Code Aggregation"
   ]
  },
  {
   "cell_type": "code",
   "execution_count": null,
   "id": "8f6e0c5c-b7c6-482b-92a5-5fe951dabfad",
   "metadata": {},
   "outputs": [],
   "source": [
    "#Aggregate at the postal code level \n",
    "summ_credit_postal_code = summ_credit_all_clients.groupBy(\n",
    "    'postal_code').agg(\n",
    "    F.mean('total_balance').alias('os_credit_balance'),\n",
    "    F.mean('num_ofi').alias('num_ofi'))"
   ]
  },
  {
   "cell_type": "code",
   "execution_count": null,
   "id": "36447be7-cf56-4db1-a36b-f19c6224c541",
   "metadata": {},
   "outputs": [],
   "source": [
    "summ_credit_postal_code.show(5,False)"
   ]
  },
  {
   "cell_type": "markdown",
   "id": "d7c7e691-78c2-456c-a8ab-aef35aaed8c4",
   "metadata": {},
   "source": [
    "##### Save"
   ]
  },
  {
   "cell_type": "code",
   "execution_count": null,
   "id": "8d385103-c381-4e8d-90f5-1a778f4b6e53",
   "metadata": {},
   "outputs": [],
   "source": [
    "summ_credit_postal_code.coalesce(1).write.mode(\"overwrite\").parquet(\n",
    "    \"/anaurosevic/cdn0_cards_affinity/lookup/credit_summary\")"
   ]
  },
  {
   "cell_type": "markdown",
   "id": "ceddddff-6593-4eda-a0c2-ff59801dd01b",
   "metadata": {},
   "source": [
    "#### (B) Credit Score"
   ]
  },
  {
   "cell_type": "code",
   "execution_count": null,
   "id": "6b8957b4-2ddb-47dd-9f4b-3b5e995eb7ef",
   "metadata": {},
   "outputs": [],
   "source": [
    "#Create regex for import\n",
    "regex = \"ME_DT={\" + \", \".join(f\"{year}*\" for year in years_to_import) + \"}\"\n",
    "print(regex)\n",
    "\n",
    "base_path = \"...CREDIT_SCORE...\"\n",
    "dynamic_path = base_path+regex\n",
    "print(dynamic_path)"
   ]
  },
  {
   "cell_type": "code",
   "execution_count": null,
   "id": "57cb01d9-73c8-4eea-bc5e-87ead13e03ae",
   "metadata": {},
   "outputs": [],
   "source": [
    "#Data is updated quarterly! \n",
    "#Most recent quarter on April 29, 2025 is January 31, 2025\n",
    "cr_vis_raw = spark.read.option(\"basePath\",\n",
    "                               base_path).load(\n",
    "    dynamic_path).select(\n",
    "    F.col('CLNT_NO').cast('string').alias('clnt_no'),\n",
    "    F.col('CRVIS_RSK_SCOR_VAL').alias('credit_score'),\n",
    "    F.col('ME_DT').alias('month_end_date'),\n",
    "    F.col('LST_UPDT_DT_TM').cast('date').alias('last_updated'))"
   ]
  },
  {
   "cell_type": "code",
   "execution_count": null,
   "id": "fc371bca-27a5-4d85-aa7e-f1171699e678",
   "metadata": {},
   "outputs": [],
   "source": [
    "cr_vis_raw.show(5,False)"
   ]
  },
  {
   "cell_type": "code",
   "execution_count": null,
   "id": "3fc6934e-4605-44ff-b0cc-27547f5cdcdb",
   "metadata": {},
   "outputs": [],
   "source": [
    "#Merge\n",
    "cr_vis = final_clients_dates.join(\n",
    "    cr_vis_raw, \n",
    "    (final_clients_dates.clnt_no == cr_vis_raw.clnt_no) & \n",
    "    ((final_clients_dates.current_month_end == cr_vis_raw.month_end_date) |\n",
    "     (final_clients_dates.next_month_end == cr_vis_raw.month_end_date)), \n",
    "    how='left').drop(\n",
    "    cr_vis_raw.clnt_no).drop(\n",
    "    final_clients_dates.current_month_end).drop(\n",
    "    final_clients_dates.next_month_end).distinct()"
   ]
  },
  {
   "cell_type": "code",
   "execution_count": null,
   "id": "5d50ff26-d916-45f7-b924-0d3467c58395",
   "metadata": {},
   "outputs": [],
   "source": [
    "cr_vis.show(5,False) "
   ]
  },
  {
   "cell_type": "code",
   "execution_count": null,
   "id": "500be29c-eea3-416f-8d92-3c1d3a94f637",
   "metadata": {},
   "outputs": [],
   "source": [
    "#Grab only one row per client - first snapshot date\n",
    "min_me = cr_vis.groupBy('clnt_no').agg(F.min('month_end_date').alias('min_me_dt'))\n",
    "\n",
    "recent_credit_score = cr_vis.join(min_me, \n",
    "                           (cr_vis.clnt_no == min_me.clnt_no) &\n",
    "                           (cr_vis.month_end_date == min_me.min_me_dt),\n",
    "                           how='inner').drop(min_me.clnt_no)"
   ]
  },
  {
   "cell_type": "code",
   "execution_count": null,
   "id": "aa4fadcc-4129-40f1-94b3-024e1c1c30c2",
   "metadata": {},
   "outputs": [],
   "source": [
    "recent_credit_score.show(5,False)"
   ]
  },
  {
   "cell_type": "markdown",
   "id": "b41d3f9f-c2e2-4876-81ce-6efd63a3cf40",
   "metadata": {},
   "source": [
    "##### Postal Code Aggregation\n",
    "Some people don't have a credit score record - these are the ones that get dropped.\n",
    "We will ignore those that get dropped because if we don't have info for a given customer it doesn't necessarily mean that they don't HAVE a credit score or that it's zero. "
   ]
  },
  {
   "cell_type": "code",
   "execution_count": null,
   "id": "d22c27b4-ba0e-49f1-b69c-810853390d0e",
   "metadata": {},
   "outputs": [],
   "source": [
    "summ_cs_postal_code = recent_credit_score.groupBy(\n",
    "    'postal_code').agg(\n",
    "    F.mean('credit_score').alias('credit_score'))"
   ]
  },
  {
   "cell_type": "code",
   "execution_count": null,
   "id": "ca7722ee-6e51-43dd-bd06-ff96f2cc3364",
   "metadata": {},
   "outputs": [],
   "source": [
    "summ_cs_postal_code.show(5,False)"
   ]
  },
  {
   "cell_type": "markdown",
   "id": "609e566c-a214-4529-90e6-1acc25d275a9",
   "metadata": {},
   "source": [
    "##### Save"
   ]
  },
  {
   "cell_type": "code",
   "execution_count": null,
   "id": "8240724e-60c5-4195-b30b-274e98dff450",
   "metadata": {},
   "outputs": [],
   "source": [
    "summ_cs_postal_code.coalesce(1).write.mode(\"overwrite\").parquet(\"/anaurosevic/cdn0_cards_affinity/lookup/credit_score\")"
   ]
  },
  {
   "cell_type": "markdown",
   "id": "814704fd-e61a-4f15-b845-de6fef555b33",
   "metadata": {},
   "source": [
    "#### Transactions - Lookup\n",
    "Create a lookup dataset at the postal code level of credit card transactions in specific categories. We are interested in the following categories beause they are key differentiators (points accumulation/rewards) of our CCs: \n",
    "- Grocery\n",
    "- Dining and Food Delivery\n",
    "- Streaming, Digital Gaming & Subscriptions Purchases\n",
    "- Rides\n",
    "- Gas & EV Charging\n",
    "- Travel > Airlines > Westjet / British Airways\n",
    "- USD"
   ]
  },
  {
   "cell_type": "markdown",
   "id": "fec8c728-f242-49fb-9e64-33b2bc492f5b",
   "metadata": {},
   "source": [
    "##### Categories "
   ]
  },
  {
   "cell_type": "code",
   "execution_count": null,
   "id": "827bfc3b-63b2-4702-8faf-f7e61266981f",
   "metadata": {},
   "outputs": [],
   "source": [
    "#Create a dictionary for Merchant Category Codes (MCC) to identify relevant categories\n",
    "mcc_dict =  {\n",
    "    \"westjet\": [3180],\n",
    "    \"british_airways\": [3150],\n",
    "    \"grocery\": [5411],\n",
    "    \"gas_ev\": [5541, 5542, 5552],\n",
    "    \"rides\": [4121, 4111],\n",
    "    \"games\": [5815, 5816, 5817, 5818, 4899],\n",
    "    \"dining\": [5812, 5813, 5814]\n",
    "}"
   ]
  },
  {
   "cell_type": "code",
   "execution_count": null,
   "id": "799cbfab-3db1-4a92-ab1b-3c59e7c4bdf8",
   "metadata": {},
   "outputs": [],
   "source": [
    "#Travel subcategories (sourced from data dictionary)\n",
    "travel_sub_cats = ['Accommodations','Airline','Car Rental','Travel','Travel Agencies']"
   ]
  },
  {
   "cell_type": "markdown",
   "id": "7ddd0c71-9e9a-43c2-bf90-b4cb419fcbfe",
   "metadata": {},
   "source": [
    "##### Credit Card Client Base\n",
    "We want to look at transactions over a full year to account for seasonality so we need to identify clients who had their CCs for the full year (i.e., did not close in the last year and opened before the last year). \n",
    "\n",
    "__We need the following filters to identify relevant credit card accounts:__ \n",
    "- Open before a year ago\n",
    "- Not closed anytime in the last year"
   ]
  },
  {
   "cell_type": "code",
   "execution_count": null,
   "id": "0c73b0de-c162-47b0-8535-fc61fc970589",
   "metadata": {},
   "outputs": [],
   "source": [
    "month_end_list(24)[-1]"
   ]
  },
  {
   "cell_type": "code",
   "execution_count": null,
   "id": "b23bdf36-a07f-4fb0-8554-33a42f9e9e99",
   "metadata": {},
   "outputs": [],
   "source": [
    "base_path = \"...CLIENT_PROFILE...\"\n",
    "dynamic_path = base_path + \"MONTH_END_DATE=\" + month_end_list(24)[-1]\n",
    "print(dynamic_path)"
   ]
  },
  {
   "cell_type": "code",
   "execution_count": null,
   "id": "89f4371c-d935-4d0b-83c6-e19022687d1d",
   "metadata": {},
   "outputs": [],
   "source": [
    "ucp_recent = spark.read.load(dynamic_path).filter(\n",
    "    #Credit Card Holders\n",
    "    F.col('CLNT_PROD_SEG_CD').like('%C%')).withColumnRenamed(\n",
    "    'CLNT_NO','clnt_no').withColumnRenamed(\n",
    "    'POST_CD','postal_code').select(\n",
    "    'clnt_no','postal_code').filter(\n",
    "    #Null postal codes are not useful because we need to agg at the postal code level\n",
    "    F.col('postal_code').isNotNull())\n",
    "\n",
    "#These are all clients who have a credit card at the end of the year "
   ]
  },
  {
   "cell_type": "code",
   "execution_count": null,
   "id": "7c69eea0-d140-491e-a0dd-9e04cd4ce525",
   "metadata": {},
   "outputs": [],
   "source": [
    "ucp_recent.count()"
   ]
  },
  {
   "cell_type": "code",
   "execution_count": null,
   "id": "e888fd73-0776-4d71-be62-f535c91b9a59",
   "metadata": {},
   "outputs": [],
   "source": [
    "base_path = \"...ACCTS...\"\n",
    "dynamic_path = base_path + \"ME_DT=\" + month_end_list(24)[-1]\n",
    "print(dynamic_path)"
   ]
  },
  {
   "cell_type": "code",
   "execution_count": null,
   "id": "2d4d85ed-ca34-4630-a172-61163ea1fae1",
   "metadata": {},
   "outputs": [],
   "source": [
    "#Ownership to identify acct_no \n",
    "ownership = spark.read.load(dynamic_path).withColumnRenamed(\n",
    "    'ACCT_NO','acct_no').withColumnRenamed(\n",
    "    'CLNT_NO','clnt_no').select(\n",
    "    'clnt_no','acct_no')"
   ]
  },
  {
   "cell_type": "code",
   "execution_count": null,
   "id": "a2542d7f-ba9a-4507-a750-b2eef0786d79",
   "metadata": {},
   "outputs": [],
   "source": [
    "ownership.show(3,False) "
   ]
  },
  {
   "cell_type": "markdown",
   "id": "7e00b321-76b9-429d-b049-aa80c0d4fa81",
   "metadata": {},
   "source": [
    "__We need the following filters:__ \n",
    "- Open before a year ago: DT_OPENED > one year prior\n",
    "- Not closed anytime in the last year: DT_CLS is null\n",
    "- Credit card: MIF_SRVC_ID == 23"
   ]
  },
  {
   "cell_type": "code",
   "execution_count": null,
   "id": "8148d2e6-9026-4f90-9cc3-568e8933eb66",
   "metadata": {},
   "outputs": [],
   "source": [
    "acct = spark.read.load(\"...ARRANGEMENT...\")"
   ]
  },
  {
   "cell_type": "code",
   "execution_count": null,
   "id": "aad84643-76d2-497a-98b3-a61f01deda79",
   "metadata": {},
   "outputs": [],
   "source": [
    "year_ago = month_end_list(13)[0]\n",
    "year_ago"
   ]
  },
  {
   "cell_type": "code",
   "execution_count": null,
   "id": "74ebb4a8-7972-4edc-83e1-7f3cf1919aec",
   "metadata": {},
   "outputs": [],
   "source": [
    "#CC Account to make sure it was open ahead of time \n",
    "cc_acct = acct.select('AR_ID','MIF_SRVC_ID','DT_OPENED','DT_CLS').filter(\n",
    "    F.col('MIF_SRVC_ID')==23).filter(\n",
    "    F.col('DT_OPENED')<year_ago).filter(\n",
    "    F.col('DT_CLS').isNull()).withColumn(\n",
    "    \"acct_no\", F.col(\"AR_ID\").astype(IntegerType())).select(\n",
    "    'acct_no').distinct()"
   ]
  },
  {
   "cell_type": "code",
   "execution_count": null,
   "id": "baf91ab5-0b76-48cb-aea0-d87eea3627c6",
   "metadata": {},
   "outputs": [],
   "source": [
    "#Merge all customers ~\n",
    "tx_cb = ucp_recent.join(\n",
    "    ownership, on='clnt_no', how='inner').join(\n",
    "    cc_acct, on='acct_no', how='inner').select(\n",
    "    'clnt_no','postal_code','acct_no').distinct()"
   ]
  },
  {
   "cell_type": "code",
   "execution_count": null,
   "id": "2dd8c544-60d4-4d90-8640-2e8e7d30b0be",
   "metadata": {},
   "outputs": [],
   "source": [
    "tx_cb.show(5,False)"
   ]
  },
  {
   "cell_type": "code",
   "execution_count": null,
   "id": "837b84cb-fdc0-4e84-bee5-04313f6876c3",
   "metadata": {},
   "outputs": [],
   "source": [
    "#Any nulls at all? \n",
    "tx_cb.select(\n",
    "    [F.count(F.when(F.isnan(c) | F.col(c).isNull(), c)).alias(c) for c in tx_cb.columns]\n",
    "   ).show()\n",
    "#No, looks like we're good to proceed :) "
   ]
  },
  {
   "cell_type": "markdown",
   "id": "b3583c48-a344-4c0a-96aa-a6b8989f9fd3",
   "metadata": {},
   "source": [
    "##### Transactions\n",
    "We want to capture transactions of interest in specific category and calculate at the client level: \n",
    "- Total number of purchases in that category in a year\n",
    "- Among those who purchase, total yearly spend in that category"
   ]
  },
  {
   "cell_type": "markdown",
   "id": "f1414aff-f800-4be0-b6fd-451041e54439",
   "metadata": {},
   "source": [
    "##### Connect to Teradata"
   ]
  },
  {
   "cell_type": "code",
   "execution_count": null,
   "id": "afa9224e-c309-4ad6-b31b-dc13e1221390",
   "metadata": {},
   "outputs": [],
   "source": [
    "driver = \"com.teradata.jdbc.TeraDriver\"\n",
    "# Define the function to load data from Teradata\n",
    "def load_data(driver, jdbc_url, sql, user, password):\n",
    "    return spark.read \\\n",
    "        .format('jdbc') \\\n",
    "        .option('driver', driver) \\\n",
    "        .option('url', jdbc_url) \\\n",
    "        .option('dbtable', '({sql}) as src'.format(sql=sql)) \\\n",
    "        .option('user', user) \\\n",
    "        .option('password', password) \\\n",
    "        .load()\n",
    "url = \"fake_url\"\n",
    "user = \"XXXXXXXX\"\n",
    "password = \"XXXXXXXX\" "
   ]
  },
  {
   "cell_type": "markdown",
   "id": "3b45eab3-a4eb-408f-9c1a-b59435b4a368",
   "metadata": {},
   "source": [
    "##### (A) Function to Pull Relevant Dates "
   ]
  },
  {
   "cell_type": "code",
   "execution_count": null,
   "id": "79241cdf-3e38-4d1b-b5e6-cdc223fd5dac",
   "metadata": {},
   "outputs": [],
   "source": [
    "def pull_data(year, month): \n",
    "\n",
    "    #Define first and last of month to pull in correct values \n",
    "    first, last = calendar.monthrange(year, month)\n",
    "\n",
    "    fom = datetime.datetime(year, month, 1).strftime('%Y-%m-%d')\n",
    "    lom = datetime.datetime(year, month, last).strftime('%Y-%m-%d')\n",
    "\n",
    "    date_range_string = \"date\"+\"'\"+fom+\"' and date'\"+lom+\"'\"\n",
    "    \n",
    "    my_sql = \"\"\"\n",
    "        select \n",
    "        a.ACCT_NO as acct_no, \n",
    "        a.PRCH_TXN_AMT as txn_amt, \n",
    "        a.PRCH_TXN_DT_ACTUAL as txn_date, \n",
    "        a.PRCH_TXN_CURRENCY as txn_currency,\n",
    "        b.MRCHNT_CATG_CD as mcc, b.MRCHNT_CATG_ROLLUP_GRP as mcc_cat, b.MRCHNT_SUB_CATG_CD_DESC as mcc_sub_cat\n",
    "        from\n",
    "        P3C.CR_CRD_RPTS_PRCH_TXN_DLY AS a\n",
    "        INNER JOIN \n",
    "        P3C.LKUP_MRCHNT_CATG AS b\n",
    "        ON a.MRCHNT_CATG_CD = b.MRCHNT_CATG_CD\n",
    "        WHERE a.PRCH_TXN_DT_ACTUAL between \"\"\" + date_range_string\n",
    "\n",
    "    df = load_data(driver, url, my_sql, user, password)\n",
    "\n",
    "    return df"
   ]
  },
  {
   "cell_type": "markdown",
   "id": "41f2f3ed-1c23-4a2e-a0fb-455213fe2177",
   "metadata": {},
   "source": [
    "##### (B) Function to Create Number of Purchases for MCC Categories"
   ]
  },
  {
   "cell_type": "code",
   "execution_count": null,
   "id": "e93aa97b-8c27-4a2a-a95b-b6aa72cb7c2d",
   "metadata": {},
   "outputs": [],
   "source": [
    "def flag_mcc(df, my_dict):\n",
    "    \n",
    "    for i in range(0,len(my_dict)): \n",
    "    \n",
    "        #Define key and value \n",
    "        key = list(my_dict)[i]\n",
    "        value = list(my_dict.values())[i]\n",
    "        \n",
    "        temp = df.filter(\n",
    "            F.col('mcc').isin(value)).groupBy(\n",
    "            'acct_no').agg(\n",
    "            #Total spend\n",
    "            F.sum('txn_amt').alias('spend_' + key),\n",
    "            F.count(F.lit(1)).alias('num_' + key))\n",
    "    \n",
    "        #Save to new dataset \n",
    "        if (i==0):\n",
    "            mcc_stack = temp\n",
    "        else: \n",
    "            mcc_stack = mcc_stack.join(temp, on='acct_no', how='outer')\n",
    "\n",
    "    return mcc_stack"
   ]
  },
  {
   "cell_type": "markdown",
   "id": "81d56672-f94e-4fe0-a5e5-fe41381e658b",
   "metadata": {},
   "source": [
    "##### (C) Function to Create Flags for Non-MCC Categories"
   ]
  },
  {
   "cell_type": "code",
   "execution_count": null,
   "id": "c6ba5a6d-197a-4ed9-a278-caac30d2ae30",
   "metadata": {},
   "outputs": [],
   "source": [
    "def flag_non_mcc(df):\n",
    "    \n",
    "    temp_travel = df.filter(F.col('mcc_cat')=='Travel').groupBy(\n",
    "        'acct_no').agg(\n",
    "        F.sum('txn_amt').alias('spend_travel'),\n",
    "        F.count(F.lit(1)).alias('num_travel'))\n",
    "\n",
    "    temp_airline = df.filter(F.col('mcc_sub_cat')=='Airline').groupBy(\n",
    "        'acct_no').agg(\n",
    "        F.sum('txn_amt').alias('spend_airline'),\n",
    "        F.count(F.lit(1)).alias('num_airline'))\n",
    "\n",
    "    temp_usd = df.filter(F.col('txn_currency')=='USD').groupBy(\n",
    "        'acct_no').agg(\n",
    "        F.sum('txn_amt').alias('spend_usd'),\n",
    "        F.count(F.lit(1)).alias('num_usd'))\n",
    "\n",
    "    non_mcc_stack = temp_travel.join(\n",
    "        temp_airline, on='acct_no', how='outer').join(\n",
    "        temp_usd, on='acct_no', how='outer')\n",
    "    \n",
    "    return non_mcc_stack"
   ]
  },
  {
   "cell_type": "markdown",
   "id": "8d16b48e-41fc-4aec-8411-5a03d611e8d8",
   "metadata": {},
   "source": [
    "##### Complete Function "
   ]
  },
  {
   "cell_type": "code",
   "execution_count": null,
   "id": "46e28231-479a-4d49-a9d0-1218e1a55aed",
   "metadata": {},
   "outputs": [],
   "source": [
    "def txn_aggregates(date_range, dictionary): \n",
    "\n",
    "    #Create empty dictionary to store everything ~\n",
    "    final_dictionary = {}\n",
    "\n",
    "    for i in range(0, len(date_range)):\n",
    "\n",
    "        date = date_range[i]\n",
    "        yr = dt.strptime(date, '%Y-%m-%d').year\n",
    "        mth = dt.strptime(date, '%Y-%m-%d').month\n",
    "        \n",
    "        #(1) Pull raw data \n",
    "        raw_data = pull_data(yr,mth)\n",
    "\n",
    "        #(2) MCC flags\n",
    "        mcc_data = flag_mcc(raw_data, dictionary)\n",
    "\n",
    "        #(3) Non-MCC flags \n",
    "        non_mcc_data = flag_non_mcc(raw_data)\n",
    "\n",
    "        #(4) Combine all data \n",
    "        full_data = mcc_data.join(non_mcc_data, on='acct_no', how='outer')\n",
    "\n",
    "        #(5) Assign date\n",
    "        monthyear = datetime.datetime(yr, mth, 1).strftime('%Y_%m')\n",
    "        final_data = full_data.withColumn('monthyear',F.lit(monthyear))\n",
    "\n",
    "        #(6) Save file\n",
    "        folder_path =  \"/anaurosevic/cdn0_cards_affinity/lookup/txn/raw/\"\n",
    "        file_path = folder_path + str(date)\n",
    "        \n",
    "        final_data.coalesce(\n",
    "            1).write.mode(\n",
    "            \"overwrite\").parquet(\n",
    "            file_path)"
   ]
  },
  {
   "cell_type": "code",
   "execution_count": null,
   "id": "05a3994c-4f34-4c25-aace-08f308ba9648",
   "metadata": {},
   "outputs": [],
   "source": [
    "txn_aggregates(month_end_list(12), mcc_dict)"
   ]
  },
  {
   "cell_type": "markdown",
   "id": "65e26aa7-e66b-4b99-8e20-98568718e4f9",
   "metadata": {},
   "source": [
    "##### Aggregate at the Account, Client, Postal Code Level \n",
    "_Our final goal is to have an average number of purchases and average yearly spend by category at the postal code level. To get there, we need to:_\n",
    "1. Sum all 12 months of transaction data at the account level to get total purchases and yearly spend for each account\n",
    "2. Sum all accounts at the client level to get a yearly summary for each client across all accounts\n",
    "3. Average across all clients in a given postal code to create the final lookup dataset "
   ]
  },
  {
   "cell_type": "code",
   "execution_count": null,
   "id": "ae3fd0d3-fe29-4310-9e28-f88565516c78",
   "metadata": {},
   "outputs": [],
   "source": [
    "month_end_list(12)"
   ]
  },
  {
   "cell_type": "code",
   "execution_count": null,
   "id": "b5e0ac41-d8b2-4dec-9cfa-dc2b8d16a2e1",
   "metadata": {},
   "outputs": [],
   "source": [
    "#Import \n",
    "base_path = \"/anaurosevic/cdn0_cards_affinity/lookup/txn/raw/\"\n",
    "\n",
    "for i in range (0,len(month_end_list(12))): \n",
    "\n",
    "    dynamic_path = base_path + str(month_end_list(12)[i])\n",
    "    month = spark.read.load(dynamic_path)\n",
    "    \n",
    "    if i==0:\n",
    "        full_12m = month\n",
    "    else:\n",
    "        full_12m = full_12m.union(month)"
   ]
  },
  {
   "cell_type": "code",
   "execution_count": null,
   "id": "260e7012-0862-46aa-9d38-f0021954d29c",
   "metadata": {},
   "outputs": [],
   "source": [
    "full_12m.count()"
   ]
  },
  {
   "cell_type": "markdown",
   "id": "30b2d2a1-b860-4790-8101-cc83e88bb098",
   "metadata": {},
   "source": [
    "##### (A) Account level yearly"
   ]
  },
  {
   "cell_type": "code",
   "execution_count": null,
   "id": "f3e97772-db37-4b08-b4cb-d1c4de404ad6",
   "metadata": {},
   "outputs": [],
   "source": [
    "col_list = list(full_12m.columns)[:-1]\n",
    "print(col_list)"
   ]
  },
  {
   "cell_type": "code",
   "execution_count": null,
   "id": "7a89c2f9-7d91-419a-a77f-bd4b9272310b",
   "metadata": {},
   "outputs": [],
   "source": [
    "#Aggregate at the year level by account\n",
    "acct_agg = full_12m.groupBy('acct_no').sum().drop('sum(acct_no)','monthyear').toDF(*col_list)"
   ]
  },
  {
   "cell_type": "code",
   "execution_count": null,
   "id": "b6555793-56b2-4dce-8e1d-40c6d7543b10",
   "metadata": {},
   "outputs": [],
   "source": [
    "acct_agg.show(5,False)"
   ]
  },
  {
   "cell_type": "code",
   "execution_count": null,
   "id": "439d2cc5-e77a-4400-9d5f-6b85e6d07f63",
   "metadata": {},
   "outputs": [],
   "source": [
    "acct_agg.count() \n",
    "#We have about 7M clients so this makes sense "
   ]
  },
  {
   "cell_type": "markdown",
   "id": "34b82172-01cc-441f-b6b5-3db3cad565b3",
   "metadata": {},
   "source": [
    "##### (B) Client level yearly "
   ]
  },
  {
   "cell_type": "code",
   "execution_count": null,
   "id": "68cc3043-1f88-41d8-96e9-4b0eb2e673e2",
   "metadata": {},
   "outputs": [],
   "source": [
    "client_tx = tx_cb.join(\n",
    "    acct_agg, on ='acct_no', how='left').drop(\n",
    "    acct_agg.acct_no)"
   ]
  },
  {
   "cell_type": "code",
   "execution_count": null,
   "id": "ab462b3b-a715-4fdf-b449-7eb4b86a0c23",
   "metadata": {},
   "outputs": [],
   "source": [
    "client_tx.count()"
   ]
  },
  {
   "cell_type": "code",
   "execution_count": null,
   "id": "776f54e0-fea8-454f-83ea-4060ba6bd859",
   "metadata": {},
   "outputs": [],
   "source": [
    "#Sum at the client level, ignore account \n",
    "#Most clients will only have one account, but some may have multiple, we will deal with that here\n",
    "col_list = list(client_tx.columns)\n",
    "col_list.remove('acct_no')\n",
    "print(col_list)"
   ]
  },
  {
   "cell_type": "code",
   "execution_count": null,
   "id": "16f1c7c6-8568-4b8c-956c-a398b22da515",
   "metadata": {},
   "outputs": [],
   "source": [
    "client_agg = client_tx.drop(\n",
    "    'acct_no').groupBy(\n",
    "    'clnt_no','postal_code').sum().drop(\n",
    "    'sum(clnt_no)','sum(postal_code)').toDF(*col_list)"
   ]
  },
  {
   "cell_type": "code",
   "execution_count": null,
   "id": "0392146c-74fb-4f0a-be14-f8e3533e4f2a",
   "metadata": {},
   "outputs": [],
   "source": [
    "print(tx_cb.select('clnt_no').distinct().count(), client_agg.count()) #Great"
   ]
  },
  {
   "cell_type": "markdown",
   "id": "d9459714-8a9a-40bc-9b00-27b328aacd62",
   "metadata": {},
   "source": [
    "##### (C) Postal Code Averages"
   ]
  },
  {
   "cell_type": "code",
   "execution_count": null,
   "id": "d3d76425-7a2d-4dd3-863b-eee9ea1029eb",
   "metadata": {},
   "outputs": [],
   "source": [
    "col_list = list(client_agg.columns)\n",
    "col_list.remove('clnt_no')\n",
    "print(col_list)"
   ]
  },
  {
   "cell_type": "code",
   "execution_count": null,
   "id": "b722b8eb-69eb-4395-a315-e45c7d44ecab",
   "metadata": {},
   "outputs": [],
   "source": [
    "postal_code_agg = client_agg.groupBy('postal_code').avg().drop('avg(clnt_no)').toDF(*col_list)"
   ]
  },
  {
   "cell_type": "code",
   "execution_count": null,
   "id": "5ffdcb09-40c6-40ce-a03a-b6ac85b81904",
   "metadata": {},
   "outputs": [],
   "source": [
    "postal_code_agg.count() #Great! "
   ]
  },
  {
   "cell_type": "code",
   "execution_count": null,
   "id": "c896f487-d481-408b-91a9-80382cda0749",
   "metadata": {},
   "outputs": [],
   "source": [
    "#Check \n",
    "postal_code_agg.select(\n",
    "    'postal_code','num_westjet','spend_westjet','num_grocery','spend_grocery').show(5,False)"
   ]
  },
  {
   "cell_type": "markdown",
   "id": "67c0731c-537b-4e17-ad33-4bc5fd6dff63",
   "metadata": {},
   "source": [
    "##### (D) Format \n",
    "Fill in nulls with zeros and save file."
   ]
  },
  {
   "cell_type": "code",
   "execution_count": null,
   "id": "a30e8b25-bc93-44af-9d9f-fcd00e49d626",
   "metadata": {},
   "outputs": [],
   "source": [
    "txn_postal_code = postal_code_agg.fillna(0)"
   ]
  },
  {
   "cell_type": "code",
   "execution_count": null,
   "id": "f17456bc-b795-4f58-b684-8a6f76d78f55",
   "metadata": {},
   "outputs": [],
   "source": [
    "#Final check ~ \n",
    "txn_postal_code.select(\n",
    "    'postal_code','num_westjet','spend_westjet','num_grocery','spend_grocery').show(5,False)"
   ]
  },
  {
   "cell_type": "code",
   "execution_count": null,
   "id": "1502d0d3-efe8-4e07-a57a-2661f0857469",
   "metadata": {},
   "outputs": [],
   "source": [
    "txn_postal_code.count()"
   ]
  },
  {
   "cell_type": "markdown",
   "id": "9115f819-2968-4cbb-beb7-e205f5e83d73",
   "metadata": {},
   "source": [
    "##### Save"
   ]
  },
  {
   "cell_type": "code",
   "execution_count": null,
   "id": "3e60d25a-fb62-4f74-81eb-6e4a5a606396",
   "metadata": {},
   "outputs": [],
   "source": [
    "txn_postal_code.coalesce(1).write.mode(\"overwrite\").parquet(\n",
    "    \"/anaurosevic/cdn0_cards_affinity/lookup/txn/final/\")"
   ]
  },
  {
   "cell_type": "markdown",
   "id": "a7be715d-2e4c-428c-a0d5-be6becc8faf6",
   "metadata": {},
   "source": [
    "#### Final \n",
    "Final step is to merge all of this information together to create one source dataset."
   ]
  },
  {
   "cell_type": "markdown",
   "id": "a4794ed5-9481-4bb8-92ec-4c3657b064a2",
   "metadata": {},
   "source": [
    "##### Reload"
   ]
  },
  {
   "cell_type": "code",
   "execution_count": null,
   "id": "0cc75be1-60cf-425a-9cff-16fac3a98a70",
   "metadata": {},
   "outputs": [],
   "source": [
    "ucp = spark.read.load(\"/anaurosevic/cdn0_cards_affinity/lookup/ucp\")\n",
    "environics = spark.read.load(\"/anaurosevic/cdn0_cards_affinity/lookup/environics\")\n",
    "tu_credit_summ = spark.read.load(\"/anaurosevic/cdn0_cards_affinity/lookup/credit_summary\")\n",
    "tu_credit_score = spark.read.load(\"/anaurosevic/cdn0_cards_affinity/lookup/credit_score\")\n",
    "txn = spark.read.load(\"/anaurosevic/cdn0_cards_affinity/lookup/txn/final/\")"
   ]
  },
  {
   "cell_type": "code",
   "execution_count": null,
   "id": "1c694076-64ab-4d24-8295-13cc824ad809",
   "metadata": {},
   "outputs": [],
   "source": [
    "#Outer join all of these!\n",
    "#Environics is the most complete ~ \n",
    "print(environics.count())\n",
    "print(ucp.count())\n",
    "print(tu_credit_summ.count())\n",
    "print(tu_credit_score.count())\n",
    "print(txn.count())"
   ]
  },
  {
   "cell_type": "code",
   "execution_count": null,
   "id": "865960c2-d3a3-40c7-9460-6b6261f67f96",
   "metadata": {},
   "outputs": [],
   "source": [
    "final_pc_lookup = environics.join(\n",
    "    ucp, on='postal_code', how='outer').join(\n",
    "    tu_credit_summ, on='postal_code', how='outer').join(\n",
    "    tu_credit_score, on='postal_code', how='outer').join(\n",
    "    txn, on='postal_code', how='outer')"
   ]
  },
  {
   "cell_type": "code",
   "execution_count": null,
   "id": "8ae9a070-57b9-4121-bc2c-d1a2c1bc0e2c",
   "metadata": {},
   "outputs": [],
   "source": [
    "final_pc_lookup.count()"
   ]
  },
  {
   "cell_type": "code",
   "execution_count": null,
   "id": "66f55449-b9d8-4144-b06c-b5464f492cd2",
   "metadata": {},
   "outputs": [],
   "source": [
    "final_pc_lookup.printSchema()"
   ]
  },
  {
   "cell_type": "code",
   "execution_count": null,
   "id": "1b6f6d7f-782a-4d22-9e68-146d74ea07cd",
   "metadata": {},
   "outputs": [],
   "source": [
    "#If environics is null, then we can assign unknown ~ \n",
    "#For all other values, we will impute the average :)\n",
    "\n",
    "final_pc_lookup.filter('prizm_seg_01 is null').count()"
   ]
  },
  {
   "cell_type": "code",
   "execution_count": null,
   "id": "6d0e66d5-1970-45f9-9a10-e5de5f82c20f",
   "metadata": {},
   "outputs": [],
   "source": [
    "final_pc_lookup.columns"
   ]
  },
  {
   "cell_type": "code",
   "execution_count": null,
   "id": "6b8cb1a6-aa58-499c-b902-176d5481e7ca",
   "metadata": {},
   "outputs": [],
   "source": [
    "prizm_cols = [i for i in final_pc_lookup.columns if i.startswith('prizm_seg_')]\n",
    "print(len(prizm_cols))\n",
    "prizm_cols.remove('prizm_seg_68')\n",
    "print(len(prizm_cols))"
   ]
  },
  {
   "cell_type": "code",
   "execution_count": null,
   "id": "ad32b96c-66a0-4c8b-aa93-2bf59c024115",
   "metadata": {},
   "outputs": [],
   "source": [
    "final_pc_lookup = final_pc_lookup.fillna(0, subset=prizm_cols)\n",
    "final_pc_lookup = final_pc_lookup.fillna(1, subset='prizm_seg_68')"
   ]
  },
  {
   "cell_type": "code",
   "execution_count": null,
   "id": "aa106732-9798-444a-b9a1-e17698fed6fd",
   "metadata": {},
   "outputs": [],
   "source": [
    "final_pc_lookup.filter('prizm_seg_01 is null').count() #Nice "
   ]
  },
  {
   "cell_type": "markdown",
   "id": "27aa4e6f-43a4-4e2e-8b95-cd136cc32c03",
   "metadata": {},
   "source": [
    "##### Save"
   ]
  },
  {
   "cell_type": "code",
   "execution_count": null,
   "id": "6684a470-9ff9-4693-b90f-494e49b9bc7c",
   "metadata": {},
   "outputs": [],
   "source": [
    "final_pc_lookup.coalesce(1).write.mode(\"overwrite\").parquet(\n",
    "    \"/anaurosevic/cdn0_cards_affinity/lookup/postal_code_final/\")"
   ]
  },
  {
   "cell_type": "markdown",
   "id": "a8fe0af0-80e6-40b6-81e2-7103cab4d772",
   "metadata": {},
   "source": [
    "#### FSA Lookup\n",
    "We also need to create an FSA level dataset for postal codes that are not common. Since this model will use postal code information (PII), we want to ensure that postal codes where there are few RBC clients - i.e. <5 - are not being used. For these uncommon postal codes, we will use the FSA-level aggregation instead."
   ]
  },
  {
   "cell_type": "code",
   "execution_count": null,
   "id": "5d607fb1-0c2a-4e35-9148-d42bc50f24c0",
   "metadata": {},
   "outputs": [],
   "source": [
    "fsa_lookup = final_pc_lookup.withColumn('FSA', F.substring(F.col('postal_code'),0,3))\n",
    "fsa_lookup.select('postal_code','FSA').show(5, False) "
   ]
  },
  {
   "cell_type": "code",
   "execution_count": null,
   "id": "918e39b7-0d57-4e6b-9549-46fdc273225f",
   "metadata": {},
   "outputs": [],
   "source": [
    "fsa_lookup.columns"
   ]
  },
  {
   "cell_type": "code",
   "execution_count": null,
   "id": "555f599d-1d60-4cd7-a019-b8e39e6a5484",
   "metadata": {},
   "outputs": [],
   "source": [
    "col_list = ['FSA'] + list(fsa_lookup.drop('postal_code','FSA').columns)\n",
    "print(col_list)"
   ]
  },
  {
   "cell_type": "code",
   "execution_count": null,
   "id": "8318b42f-dc7d-4d4c-97b0-1f0de2668515",
   "metadata": {},
   "outputs": [],
   "source": [
    "#Group by FSA\n",
    "final_fsa_lookup = fsa_lookup.drop('postal_code').groupby('FSA').avg().toDF(*col_list)"
   ]
  },
  {
   "cell_type": "code",
   "execution_count": null,
   "id": "3b4eafcc-f973-450b-9ade-dccfaa9c8407",
   "metadata": {},
   "outputs": [],
   "source": [
    "final_fsa_lookup.select('FSA','prizm_seg_07','num_travel','age').show(5, False)"
   ]
  },
  {
   "cell_type": "code",
   "execution_count": null,
   "id": "5dbf7174-88d3-4b3f-b32f-f2100c4c1516",
   "metadata": {},
   "outputs": [],
   "source": [
    "final_fsa_lookup.count() #Nice"
   ]
  },
  {
   "cell_type": "markdown",
   "id": "ec1c9c7c-e920-48fe-bc0d-051acc0e2c58",
   "metadata": {},
   "source": [
    "##### Save"
   ]
  },
  {
   "cell_type": "code",
   "execution_count": null,
   "id": "877f7626-68d8-4096-9666-35cff30dabe4",
   "metadata": {},
   "outputs": [],
   "source": [
    "final_fsa_lookup.coalesce(1).write.mode(\"overwrite\").parquet(\"/anaurosevic/cdn0_cards_affinity/lookup/fsa_final/\")"
   ]
  },
  {
   "cell_type": "markdown",
   "id": "aa571f0e-5117-450a-9c3d-a17de662333a",
   "metadata": {},
   "source": [
    "--- END PROGRAM ---"
   ]
  },
  {
   "cell_type": "code",
   "execution_count": null,
   "id": "15134d46-0609-4d9c-b890-e7623a8f45f1",
   "metadata": {},
   "outputs": [],
   "source": [
    "#Timing summary\n",
    "end_time = time.time()\n",
    "end_cpu_time = time.process_time()\n",
    "\n",
    "real_time_elapsed = end_time - start_time\n",
    "cpu_time_elapsed = end_cpu_time - start_cpu_time\n",
    "\n",
    "print(f\"Real time: {real_time_elapsed:.2f} seconds\")\n",
    "print(f\"CPU time: {cpu_time_elapsed:.2f} seconds\")"
   ]
  }
 ],
 "metadata": {
  "kernelspec": {
   "display_name": "Python [conda env:base] *",
   "language": "python",
   "name": "conda-base-py"
  },
  "language_info": {
   "codemirror_mode": {
    "name": "ipython",
    "version": 3
   },
   "file_extension": ".py",
   "mimetype": "text/x-python",
   "name": "python",
   "nbconvert_exporter": "python",
   "pygments_lexer": "ipython3",
   "version": "3.12.7"
  }
 },
 "nbformat": 4,
 "nbformat_minor": 5
}
