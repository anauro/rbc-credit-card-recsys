{
 "cells": [
  {
   "cell_type": "markdown",
   "id": "fe26f01a-932b-4ded-8ed7-90ac4a545bfe",
   "metadata": {},
   "source": [
    "## MODEL DATA\n",
    "\n",
    "Once we have all of our input datasets prepared, we can now pull them together to create the final model training set. "
   ]
  },
  {
   "cell_type": "markdown",
   "id": "8526aff5-22cd-4d75-b322-39cb9e782af0",
   "metadata": {},
   "source": [
    "##### Timing \n",
    "We want to time how long these programs take to run. We are interested both in real time and CPU time."
   ]
  },
  {
   "cell_type": "code",
   "execution_count": null,
   "id": "1f127c83-1e71-4947-9540-050ba308696c",
   "metadata": {},
   "outputs": [],
   "source": [
    "import time \n",
    "\n",
    "start_time = time.time()\n",
    "start_cpu_time = time.process_time()"
   ]
  },
  {
   "cell_type": "markdown",
   "id": "58d7e475-dbc8-48b7-8a97-1e291f3b7a4d",
   "metadata": {},
   "source": [
    "#### Set Up"
   ]
  },
  {
   "cell_type": "code",
   "execution_count": null,
   "id": "36302071-10e6-44f6-b0d5-51000693316f",
   "metadata": {},
   "outputs": [],
   "source": [
    "import os\n",
    "import numpy as np\n",
    "import calendar\n",
    "\n",
    "import pyspark\n",
    "from pyspark.sql import SparkSession\n",
    "\n",
    "from pyspark.sql.functions import udf\n",
    "from pyspark.sql.types import IntegerType, StringType, FloatType, StructType, StructField\n",
    "\n",
    "from pyspark.sql.functions import collect_list, regexp_replace, lower\n",
    "from pyspark.sql import functions as F\n",
    "from pyspark.sql import Window\n",
    "from pyspark.sql.functions import year, month, dayofmonth, to_date, trim, concat, col, lit\n",
    "from functools import reduce\n",
    "\n",
    "import datetime \n",
    "from datetime import datetime as dt\n",
    "from dateutil.relativedelta import *\n",
    "import pandas as pd"
   ]
  },
  {
   "cell_type": "markdown",
   "id": "fb76a2e0-7174-4619-a091-8876f90f6514",
   "metadata": {},
   "source": [
    "#### Load in Prospect Data for Training"
   ]
  },
  {
   "cell_type": "code",
   "execution_count": null,
   "id": "c3a99015-fc59-4eb9-915e-1abc53107341",
   "metadata": {},
   "outputs": [],
   "source": [
    "pb = spark.read.load(\"/anaurosevic/cdn0_cards_affinity/prospect_base/\").withColumn( #Update to prospect base shortly after :) \n",
    "    'FSA', F.substring(F.col('postal_code'),0,3))"
   ]
  },
  {
   "cell_type": "code",
   "execution_count": null,
   "id": "887a676c-d31b-4c12-a79c-7e6e73e929f8",
   "metadata": {},
   "outputs": [],
   "source": [
    "pb.printSchema()"
   ]
  },
  {
   "cell_type": "code",
   "execution_count": null,
   "id": "3bd29c62-0fa4-4dab-b678-db6611c9b840",
   "metadata": {},
   "outputs": [],
   "source": [
    "pb.show(5,False)"
   ]
  },
  {
   "cell_type": "code",
   "execution_count": null,
   "id": "3815ca2b-e079-4313-9447-9721ae949506",
   "metadata": {},
   "outputs": [],
   "source": [
    "pb.count()"
   ]
  },
  {
   "cell_type": "markdown",
   "id": "298836ab-7674-400a-a18d-a5c327b2b82f",
   "metadata": {},
   "source": [
    "#### Identify Current Session Details \n",
    "*In the initial training of the model, we will be pulling session details for the session during which the prospect first applied for a CC. Once the model is live, this will be pulled real-time for each new prospect.*\n",
    "\n",
    "We want to capture relevant information from the session during which they applied for the CC, such as: \n",
    "- __Device details (category, OS, brand, language):__ Device details are proxies for customer characteristics - e.g., younger users who are more likely to purchase a student card are also more likely to be using mobile/Apple device, also certain credit cards offer mobile coverage which may be of priorty \n",
    "- __Channel type (what channel brought them here?):__ If they were directed from a marketing campaign, it could tell us why\n",
    "  \n",
    "This can be found in the sessions table for the given session during which customers purchased the CC.  "
   ]
  },
  {
   "cell_type": "code",
   "execution_count": null,
   "id": "5e409159-0ca8-4493-bdd9-19228f9d984c",
   "metadata": {},
   "outputs": [],
   "source": [
    "def month_end_list(num_months):\n",
    "\n",
    "    #Define period start and end based on today's date \n",
    "    today = datetime.date.today()\n",
    "    period_start = today.replace(day=1) + relativedelta(months=-num_months)\n",
    "    period_end = today.replace(day=1)\n",
    "\n",
    "    #Create list of month ends\n",
    "    dtrange = pd.date_range(start=period_start, end=period_end, freq='d')\n",
    "    months = pd.Series(dtrange.month)\n",
    "    starts, ends = months.ne(months.shift(1)), months.ne(months.shift(-1))\n",
    "    df = pd.DataFrame({'month_starting_date': dtrange[starts].strftime('%Y-%m-%d'),\n",
    "                       'month_ending_date': dtrange[ends].strftime('%Y-%m-%d')})\n",
    "    \n",
    "    me_list = list(df['month_ending_date'])[:-1]\n",
    "    return me_list "
   ]
  },
  {
   "cell_type": "code",
   "execution_count": null,
   "id": "26c5cc8c-0335-406f-b0e7-d466816a583e",
   "metadata": {},
   "outputs": [],
   "source": [
    "month_end_list(11)"
   ]
  },
  {
   "cell_type": "code",
   "execution_count": null,
   "id": "264be152-1251-437a-ba80-e487052ed986",
   "metadata": {},
   "outputs": [],
   "source": [
    "filter_string = \"session_date>='\"+str(month_end_list(11)[0])+\"' and session_date<='\"+str(month_end_list(11)[-1])+\"'\"\n",
    "print(filter_string)"
   ]
  },
  {
   "cell_type": "code",
   "execution_count": null,
   "id": "014c8bde-fc6d-44b5-83dc-b4c954a62303",
   "metadata": {},
   "outputs": [],
   "source": [
    "session = spark.read.option(\n",
    "    \"basePath\",\"...GA4_SESSION...\").load(\n",
    "    \"...GA4_SESSION...\").filter(filter_string).select(\n",
    "    \"user_pseudo_id\",\"user_session_id\",\n",
    "    \"user_session_start_timestamp\",\n",
    "    \"user_default_channel_grouping\",\n",
    "    \"sess_default_channel_grouping\",\n",
    "    \"device_category\",\"device_operating_system\",\"device_mobile_brand_name\",\"device_language\").withColumn(\n",
    "    \"sess_timestamp\",F.from_unixtime(F.col(\"user_session_start_timestamp\")/1e6)).withColumn(\n",
    "    \"sess_date\",F.to_date(\"sess_timestamp\")).drop('user_session_start_timestamp').distinct()"
   ]
  },
  {
   "cell_type": "code",
   "execution_count": null,
   "id": "e5e79972-5641-4cf3-b116-6b230963cc2a",
   "metadata": {},
   "outputs": [],
   "source": [
    "session.printSchema()"
   ]
  },
  {
   "cell_type": "code",
   "execution_count": null,
   "id": "136c672d-92bb-4c27-8368-c98710c615ff",
   "metadata": {},
   "outputs": [],
   "source": [
    "session.show(5,False)"
   ]
  },
  {
   "cell_type": "code",
   "execution_count": null,
   "id": "2fb0808b-f49c-45b4-bdaf-ba4695ffb641",
   "metadata": {},
   "outputs": [],
   "source": [
    "#Grab first sess_timestamp for each session ID to simplify \n",
    "session_filtered = session.withColumn(\n",
    "     \"rank\", F.row_number().over(Window.partitionBy(\"user_session_id\").orderBy(\"sess_timestamp\"))).filter(\n",
    "    \"rank=1\").drop(\"rank\")"
   ]
  },
  {
   "cell_type": "markdown",
   "id": "4cf4314c-3d64-4af7-8bc8-cf0bde520b80",
   "metadata": {},
   "source": [
    "##### Merge to Identify Current Session Details "
   ]
  },
  {
   "cell_type": "code",
   "execution_count": null,
   "id": "496291a7-4871-44f5-818f-3b149d7aab5b",
   "metadata": {},
   "outputs": [],
   "source": [
    "current_session = pb.join(session_filtered, [\n",
    "    (pb.user_pseudo_id == session_filtered.user_pseudo_id) & \n",
    "    (pb.user_session_id == session_filtered.user_session_id) \n",
    "], how='left').drop(session_filtered.user_session_id).drop(session_filtered.user_pseudo_id).distinct().persist()"
   ]
  },
  {
   "cell_type": "code",
   "execution_count": null,
   "id": "031380c0-525b-41b3-a31b-22f3adc14c42",
   "metadata": {},
   "outputs": [],
   "source": [
    "current_session.count()"
   ]
  },
  {
   "cell_type": "code",
   "execution_count": null,
   "id": "ca20354d-61d0-4b42-890a-f5241f84c3bd",
   "metadata": {},
   "outputs": [],
   "source": [
    "current_session.filter('device_category is null').count() #Why nulls? \n",
    "current_session.filter('device_category is null').select('card_sale_date').distinct().show() #Something must have happened on March 6/7, 2025 \n",
    "#Let's just fill the missing values "
   ]
  },
  {
   "cell_type": "markdown",
   "id": "d78f6a48-3ab4-4260-a6b8-5ab65cde09a9",
   "metadata": {},
   "source": [
    "##### Format Variables"
   ]
  },
  {
   "cell_type": "code",
   "execution_count": null,
   "id": "e8e7db65-f3f0-4fa0-aca6-1fdf93d44637",
   "metadata": {},
   "outputs": [],
   "source": [
    "current_session_vars = current_session.withColumn(\n",
    "    #Device category\n",
    "    \"device_cat\",\n",
    "    F.when(F.col('device_category').isin(['mobile','desktop']), F.col(\"device_category\")).when(\n",
    "        F.col('device_category').isNull(),\"unk\").otherwise('other')).withColumn(\n",
    "    #Device operating system\n",
    "    \"device_os\",\n",
    "    F.when(~F.col(\"device_operating_system\").isin([\"iOS\",\"Android\",\"Windows\",\"Macintosh\"]), \"other\").when(\n",
    "        F.col(\"device_operating_system\").isNull(),\"unk\").otherwise(lower(F.col(\"device_operating_system\")))).withColumn(\n",
    "    #Device brand\n",
    "    \"device_brand\", F.when(\n",
    "        F.col('device_mobile_brand_name').isin(['Apple','Samsung','Google','Microsoft','Motorola','Mozilla','LG']),lower(F.col('device_mobile_brand_name'))).when(\n",
    "        F.col('device_mobile_brand_name').isNull(),\"unk\").otherwise(\"oth\")).withColumn(\n",
    "    #Device language\n",
    "    \"device_language2\",\n",
    "    F.trim(F.substring('device_language',1,2))).drop('device_language').withColumn(\n",
    "    \"device_language\",\n",
    "    F.when(((F.col(\"device_language2\")=='en') |\n",
    "            (F.col(\"device_language2\")=='fr') |\n",
    "            (F.col(\"device_language2\")=='es') |\n",
    "            (F.col(\"device_language2\")=='zh') |\n",
    "            (F.col(\"device_language2\")=='ko') |\n",
    "            (F.col(\"device_language2\")=='tr') |\n",
    "            (F.col(\"device_language2\")=='ru') |\n",
    "            (F.col(\"device_language2\")=='pt')), \n",
    "           F.col(\"device_language2\")).when(\n",
    "        F.col(\"device_language2\").isNull(),\"unk\").otherwise(\"oth\")).withColumn(\n",
    "    #Device channel\n",
    "    \"channel\",\n",
    "    F.when(((F.col(\"sess_default_channel_grouping\")=='Paid Search') |\n",
    "              (F.col(\"sess_default_channel_grouping\")=='Referral') |\n",
    "              (F.col(\"sess_default_channel_grouping\")=='Direct') |\n",
    "              (F.col(\"sess_default_channel_grouping\")=='Affiliates') |\n",
    "              (F.col(\"sess_default_channel_grouping\")=='Paid Social') |\n",
    "              (F.col(\"sess_default_channel_grouping\")=='Organic Search') |\n",
    "              (F.col(\"sess_default_channel_grouping\")=='Unassigned') |                                          \n",
    "              (F.col(\"sess_default_channel_grouping\")=='Performance Max') |\n",
    "              (F.col(\"sess_default_channel_grouping\")=='Demand Gen')), \n",
    "              regexp_replace(lower(F.col(\"sess_default_channel_grouping\")), ' ', '_')).when(\n",
    "        F.col(\"sess_default_channel_grouping\").isNull(), \"unk\").otherwise(\"other\")).withColumnRenamed(\"channel\",\"sess_channel\").drop(\n",
    "    \"device_category\",\"device_operating_system\",\"device_mobile_brand_name\",\"device_language2\",\"sess_default_channel_grouping\")"
   ]
  },
  {
   "cell_type": "code",
   "execution_count": null,
   "id": "6ed3a514-6deb-4b17-9dbf-6b68202922f7",
   "metadata": {},
   "outputs": [],
   "source": [
    "current_session_subset = current_session_vars.drop('user_default_channel_grouping','sess_timestamp','sess_date')"
   ]
  },
  {
   "cell_type": "code",
   "execution_count": null,
   "id": "0bb65c24-0b67-4cd5-afac-b3744adc09af",
   "metadata": {},
   "outputs": [],
   "source": [
    "current_session_subset.show(5,False)\n",
    "#So beautiful!! She looks great :) "
   ]
  },
  {
   "cell_type": "markdown",
   "id": "c944f5fb-f904-49a4-8c78-84768b87dec2",
   "metadata": {},
   "source": [
    "##### Create flags"
   ]
  },
  {
   "cell_type": "code",
   "execution_count": null,
   "id": "1ea08884-55f2-4bdb-bbaf-780112885d5c",
   "metadata": {},
   "outputs": [],
   "source": [
    "cat_cols = ['province','device_cat','device_os','device_brand','device_language','sess_channel']\n",
    "current_session_pd = current_session_subset.toPandas()\n",
    "\n",
    "dummies = pd.get_dummies(current_session_pd[cat_cols], drop_first=False)\n",
    "dummies.head(5)"
   ]
  },
  {
   "cell_type": "code",
   "execution_count": null,
   "id": "18e3f9c7-5a2f-4adb-8d81-410eb05f94bb",
   "metadata": {},
   "outputs": [],
   "source": [
    "current_session_temp = pd.concat([current_session_pd[['user_pseudo_id','user_session_id','clnt_no','product_code','postal_code','card_sale_date']], dummies], axis=1)"
   ]
  },
  {
   "cell_type": "code",
   "execution_count": null,
   "id": "40679a05-7bc9-42ee-85b5-dd4d5939a999",
   "metadata": {},
   "outputs": [],
   "source": [
    "print(list(current_session_temp.columns))"
   ]
  },
  {
   "cell_type": "code",
   "execution_count": null,
   "id": "427f6245-14ad-4313-9ae5-ec82fbaed133",
   "metadata": {},
   "outputs": [],
   "source": [
    "current_session_final = spark.createDataFrame(current_session_temp)"
   ]
  },
  {
   "cell_type": "code",
   "execution_count": null,
   "id": "47535cab-7c4c-4bec-ad23-cda9d5e53a45",
   "metadata": {},
   "outputs": [],
   "source": [
    "current_session_final.count() #Should be the same as the original PB size!"
   ]
  },
  {
   "cell_type": "markdown",
   "id": "f00862c2-8b62-4ce6-a863-c16eba0d5495",
   "metadata": {},
   "source": [
    "#### Offers\n",
    "\n",
    "Identify what credit card offers were available and on promotion at the time of credit card application. "
   ]
  },
  {
   "cell_type": "code",
   "execution_count": null,
   "id": "d9f4f0ec-8f6c-412b-8cab-5a679ab9e2de",
   "metadata": {},
   "outputs": [],
   "source": [
    "offers = spark.read.csv(\"/anaurosevic/cdn0_cards_affinity/offers/offer_value.csv\", header=True, inferSchema=True)"
   ]
  },
  {
   "cell_type": "code",
   "execution_count": null,
   "id": "ba3bb293-3a41-4e6d-a3ee-404732b2ddea",
   "metadata": {},
   "outputs": [],
   "source": [
    "offers.show(5,False)"
   ]
  },
  {
   "cell_type": "code",
   "execution_count": null,
   "id": "ecf5bc2a-759e-427f-ae09-475984ce4b1d",
   "metadata": {},
   "outputs": [],
   "source": [
    "#Format values \n",
    "offers_formatted = offers.withColumn(\n",
    "    'offer_start_date',F.to_date(F.col('offer_start'),\"d-MMM-yy\")).withColumn(\n",
    "    'offer_end_date',F.to_date(F.col('offer_end'),'d-MMM-yy')).withColumn(\n",
    "    'value',F.regexp_replace(F.col(\"offer_value\"), \"\\\\$\", \"\").cast(\"double\")).select(\n",
    "    F.col('offer_cards').alias('offer_card'),'offer_start_date','offer_end_date',F.col('value').alias('offer_value'))\n",
    "\n",
    "offers_formatted.show(5,False)"
   ]
  },
  {
   "cell_type": "code",
   "execution_count": null,
   "id": "13881d39-fd7d-48ea-989d-ba1f0f86a5be",
   "metadata": {},
   "outputs": [],
   "source": [
    "#Drop null offer values for now - these should be provided and updated by the business team\n",
    "offers_formatted = offers_formatted.filter('offer_value is not null')"
   ]
  },
  {
   "cell_type": "code",
   "execution_count": null,
   "id": "3ce78aae-d7cf-4026-b387-1696d1deb84d",
   "metadata": {},
   "outputs": [],
   "source": [
    "#Unique offer cards :) \n",
    "offer_cards = offers_formatted.select(\"offer_card\").distinct().rdd.flatMap(lambda x: x).collect()\n",
    "offer_cards"
   ]
  },
  {
   "cell_type": "code",
   "execution_count": null,
   "id": "3285fac9-1c2f-4e92-b6c0-ccd6dfbffead",
   "metadata": {},
   "outputs": [],
   "source": [
    "#Create new columns for each offer_card\n",
    "offers_pivot = offers_formatted\n",
    "\n",
    "for card in offer_cards:\n",
    "    offers_pivot = offers_pivot.withColumn(f\"offer_{card}\", F.when(F.col(\"offer_card\") == card, F.col(\"offer_value\")).otherwise(0))\n",
    "\n",
    "#Drop the original offer_card and offer_value columns if needed\n",
    "offers_pivot = offers_pivot.drop(\"offer_card\", \"offer_value\")"
   ]
  },
  {
   "cell_type": "code",
   "execution_count": null,
   "id": "140cf739-d9e1-48a9-951c-fe5cd2d4b4df",
   "metadata": {},
   "outputs": [],
   "source": [
    "offers_pivot.show(5,False)"
   ]
  },
  {
   "cell_type": "code",
   "execution_count": null,
   "id": "7ec1ada5-0915-4fda-b5e7-bce2eb12445e",
   "metadata": {},
   "outputs": [],
   "source": [
    "#Merge onto session\n",
    "current_session_offers = current_session_final.select('user_pseudo_id','product_code','card_sale_date').join(\n",
    "    offers_pivot, \n",
    "    on=[offers_pivot.offer_start_date<=current_session_final.card_sale_date, current_session_final.card_sale_date <= offers_pivot.offer_end_date],\n",
    "    how='left').drop('offer_start_date','offer_end_date')\n",
    "\n",
    "current_session_offers.count()"
   ]
  },
  {
   "cell_type": "code",
   "execution_count": null,
   "id": "7655d06a-1147-42ef-9641-0eb74513fa23",
   "metadata": {},
   "outputs": [],
   "source": [
    "col_names = ['user_pseudo_id','product_code','card_sale_date'] + list(offers_pivot.drop('offer_start_date','offer_end_date').columns)"
   ]
  },
  {
   "cell_type": "code",
   "execution_count": null,
   "id": "c80fdf77-247c-4853-827b-ea2028ae2794",
   "metadata": {},
   "outputs": [],
   "source": [
    "#Sum for each user_pseudo_id\n",
    "offers_sum = current_session_offers.groupBy('user_pseudo_id','product_code','card_sale_date').sum().toDF(*col_names)\n",
    "\n",
    "offers_sum.show()"
   ]
  },
  {
   "cell_type": "code",
   "execution_count": null,
   "id": "651640f8-2443-4b79-a351-1a82baaad29a",
   "metadata": {},
   "outputs": [],
   "source": [
    "offers_sum.count()"
   ]
  },
  {
   "cell_type": "code",
   "execution_count": null,
   "id": "9c85b331-03ea-4f80-b349-2c26d34a492c",
   "metadata": {},
   "outputs": [],
   "source": [
    "offers_sum.filter('offer_MC4 is null').count()"
   ]
  },
  {
   "cell_type": "code",
   "execution_count": null,
   "id": "e6ac872b-725d-44ad-8851-d9534fe7f8e1",
   "metadata": {},
   "outputs": [],
   "source": [
    "#Add them back to the main dataet\n",
    "session_final = current_session_final.join(\n",
    "    offers_sum.drop('product_code','card_sale_date'), on='user_pseudo_id', how='inner').drop(offers_sum.user_pseudo_id)"
   ]
  },
  {
   "cell_type": "code",
   "execution_count": null,
   "id": "dda127b9-da16-4130-86cf-b2237e50009a",
   "metadata": {},
   "outputs": [],
   "source": [
    "session_final.count()"
   ]
  },
  {
   "cell_type": "code",
   "execution_count": null,
   "id": "58a8a7ea-8f0a-4844-a4cb-3db4e748553a",
   "metadata": {},
   "outputs": [],
   "source": [
    "session_final.printSchema()"
   ]
  },
  {
   "cell_type": "code",
   "execution_count": null,
   "id": "d81a9b66-07f4-4111-9e99-ea982fdae275",
   "metadata": {},
   "outputs": [],
   "source": [
    "session_final.select('user_pseudo_id','card_sale_date','product_code','offer_MR2','offer_ION','offer_MC4').show(5,False)"
   ]
  },
  {
   "cell_type": "markdown",
   "id": "3a71de8c-d31e-41d4-bf14-966b976bfb93",
   "metadata": {},
   "source": [
    "#### Load in Previous Ecommerce Events\n",
    "\n",
    "*In the initial training of the model, we will be pulling session details for the session during which the prospect first applied for a CC. Once the model is live, this will be pulled real-time for each new prospect.*"
   ]
  },
  {
   "cell_type": "markdown",
   "id": "b408c67c-4544-4f6e-a5eb-1648122393e6",
   "metadata": {},
   "source": [
    "##### Combine Files"
   ]
  },
  {
   "cell_type": "code",
   "execution_count": null,
   "id": "a2d53347-62bf-4571-b293-ae417ee4361b",
   "metadata": {},
   "outputs": [],
   "source": [
    "monthly_folders = month_end_list(11)[:-1]\n",
    "monthly_folders"
   ]
  },
  {
   "cell_type": "code",
   "execution_count": null,
   "id": "b6c8d27f-d9bf-47f2-9344-4055524152bf",
   "metadata": {},
   "outputs": [],
   "source": [
    "#Import \n",
    "#Note: Needs to be a bit advanced because the cols in each dataset is not the same :D \n",
    "\n",
    "base_path = \"/anaurosevic/cdn0_cards_affinity/previous_sessions/events/\"\n",
    "monthly_folders = month_end_list(11)[:-1]\n",
    "\n",
    "dataframes = []\n",
    "all_columns = set()\n",
    "\n",
    "# Grab all folders\n",
    "for folder in monthly_folders:\n",
    "    # Read the dataset for the month\n",
    "    df = spark.read.load(base_path+folder)\n",
    "    dataframes.append(df)\n",
    "    \n",
    "    # Collect column names\n",
    "    all_columns.update(df.columns)\n",
    "\n",
    "# Convert set of all columns to a sorted list for consistent ordering\n",
    "all_columns = sorted(all_columns)\n",
    "\n",
    "# Align each dataset to the full set of columns\n",
    "aligned_dataframes = []\n",
    "\n",
    "for df in dataframes:\n",
    "    # Find missing columns for the current dataset\n",
    "    missing_columns = set(all_columns) - set(df.columns)\n",
    "    \n",
    "    # Add missing columns with zeroes\n",
    "    for col in missing_columns:\n",
    "        df = df.withColumn(col, lit(0))\n",
    "    \n",
    "    # Reorder columns to match the full set of columns\n",
    "    df = df.select(*all_columns)\n",
    "    \n",
    "    # Append to the aligned DataFrame list\n",
    "    aligned_dataframes.append(df)\n",
    "\n",
    "# Union all aligned DataFrames\n",
    "final_df = aligned_dataframes[0]\n",
    "\n",
    "for df in aligned_dataframes[1:]:\n",
    "    final_df = final_df.union(df)"
   ]
  },
  {
   "cell_type": "code",
   "execution_count": null,
   "id": "b72c9b5b-cedd-4b7d-b175-df0b548c8cd8",
   "metadata": {},
   "outputs": [],
   "source": [
    "all_columns = final_df.columns\n",
    "reordered_columns = ['user_session_id'] + [col for col in all_columns if col != 'user_session_id']\n",
    "\n",
    "#Apply the new column order\n",
    "df_reordered = final_df.select(*reordered_columns)\n",
    "\n",
    "ecommerce_12m = df_reordered.withColumn('user_pseudo_id',F.split(F.col('user_session_id'),'_')[0])"
   ]
  },
  {
   "cell_type": "code",
   "execution_count": null,
   "id": "6fc677df-2a03-47c2-8e6d-b40e55489c4b",
   "metadata": {},
   "outputs": [],
   "source": [
    "#Summarize at the user_pseudo_id level by sum \n",
    "ecommerce_agg = ecommerce_12m.drop('user_session_id').groupBy('user_pseudo_id').sum()"
   ]
  },
  {
   "cell_type": "code",
   "execution_count": null,
   "id": "ceab97d7-c609-4a66-8370-f7a6e095601c",
   "metadata": {},
   "outputs": [],
   "source": [
    "print(ecommerce_agg.columns)"
   ]
  },
  {
   "cell_type": "code",
   "execution_count": null,
   "id": "3529e9d0-9142-40c5-b214-ea560c8d0e37",
   "metadata": {},
   "outputs": [],
   "source": [
    "#Rename columns \n",
    "orig_cols = list(ecommerce_agg.drop('user_pseudo_id').columns)\n",
    "rename_cols = [x[4:-1] for x in orig_cols]\n",
    "rename_cols.insert(0,'user_pseudo_id')\n",
    "rename_cols"
   ]
  },
  {
   "cell_type": "code",
   "execution_count": null,
   "id": "be6b3667-5fc8-47d4-9b4d-53f03f15f881",
   "metadata": {},
   "outputs": [],
   "source": [
    "ecommerce_agg_format = ecommerce_agg.toDF(*rename_cols)"
   ]
  },
  {
   "cell_type": "code",
   "execution_count": null,
   "id": "3197dd70-f69f-4934-983e-f8421a24f045",
   "metadata": {},
   "outputs": [],
   "source": [
    "ecommerce_agg_format.select('user_pseudo_id').distinct().count()/session_final.count() \n",
    "#Makes sense, only about 13% have at least one event in the previous month! "
   ]
  },
  {
   "cell_type": "code",
   "execution_count": null,
   "id": "a6277ea7-3f51-4c93-af4d-7a78146d10b1",
   "metadata": {},
   "outputs": [],
   "source": [
    "ecommerce_agg_format.select('user_pseudo_id','checkout_accounts_004','view_credit_cards_CAV','select_credit_cards_VPR','newcomer_view').show(10, False)"
   ]
  },
  {
   "cell_type": "code",
   "execution_count": null,
   "id": "ae443bb8-f7fe-4079-bdd6-3771a3f33bd5",
   "metadata": {},
   "outputs": [],
   "source": [
    "#Merge\n",
    "all_sessions = session_final.join(ecommerce_agg_format, on='user_pseudo_id', how='left').fillna(0) #Fill 0 if missing"
   ]
  },
  {
   "cell_type": "code",
   "execution_count": null,
   "id": "a94c4ddd-a604-4b5f-9470-b98fe70ea95a",
   "metadata": {},
   "outputs": [],
   "source": [
    "all_sessions.count()"
   ]
  },
  {
   "cell_type": "markdown",
   "id": "390e7adc-297d-44ff-b65a-15b5536a77b8",
   "metadata": {},
   "source": [
    "#### Load in Lookups"
   ]
  },
  {
   "cell_type": "code",
   "execution_count": null,
   "id": "43dd5655-4f4b-4455-8b16-a4e01cba17f4",
   "metadata": {},
   "outputs": [],
   "source": [
    "pc_lookup = spark.read.load(\"/anaurosevic/cdn0_cards_affinity/lookup/postal_code_final/\")\n",
    "fsa_lookup = spark.read.load(\"/anaurosevic/cdn0_cards_affinity/lookup/fsa_final/\")"
   ]
  },
  {
   "cell_type": "code",
   "execution_count": null,
   "id": "dcd4d8e0-2531-4624-bb7c-4063a52da9a2",
   "metadata": {},
   "outputs": [],
   "source": [
    "#### For sending this to dev, let's stack everything! \n",
    "\n",
    "#Create NULL \n",
    "overall_avg = pc_lookup.agg(*(F.avg(c).alias(c) for c in pc_lookup.drop('postal_code').columns)).withColumn(\"join_key\",F.lit(\"missing\"))\n",
    "reordered_columns = [\"join_key\"] + [col for col in overall_avg.columns if col!=\"join_key\"]\n",
    "null_row = overall_avg.select(*reordered_columns)\n",
    "\n",
    "stack = pc_lookup.withColumnRenamed('postal_code','join_key').union(\n",
    "    fsa_lookup.withColumnRenamed('FSA','join_key')).union(\n",
    "    null_row)"
   ]
  },
  {
   "cell_type": "code",
   "execution_count": null,
   "id": "004a069e-3d25-43a6-b3b1-9b2809a5fa65",
   "metadata": {},
   "outputs": [],
   "source": [
    "stack.count()==(pc_lookup.count() + fsa_lookup.count() + null_row.count()) #Looks good to me :) "
   ]
  },
  {
   "cell_type": "code",
   "execution_count": null,
   "id": "c07a1e8f-e396-4ded-9756-bb91aeeb1352",
   "metadata": {},
   "outputs": [],
   "source": [
    "set(pc_lookup.withColumnRenamed('postal_code','join_key').columns)==set(fsa_lookup.withColumnRenamed('FSA','join_key').columns)== set(null_row.columns)"
   ]
  },
  {
   "cell_type": "code",
   "execution_count": null,
   "id": "cebfd4bf-8897-4946-9bcf-fe2ab906bc96",
   "metadata": {
    "scrolled": true
   },
   "outputs": [],
   "source": [
    "stack.printSchema()"
   ]
  },
  {
   "cell_type": "code",
   "execution_count": null,
   "id": "104c660e-db45-4395-a407-0d66f8cb2d5c",
   "metadata": {},
   "outputs": [],
   "source": [
    "#Save PC lookup as CSV \n",
    "#pc_lookup.write.option(\"header\", True).csv(\"/anaurosevic/cdn0_cards_affinity/lookup/csv/\")"
   ]
  },
  {
   "cell_type": "code",
   "execution_count": null,
   "id": "317c1730-0c56-4084-95ca-96936291422a",
   "metadata": {},
   "outputs": [],
   "source": [
    "from pyspark.sql.functions import stddev\n",
    "stddev = fsa_lookup.select(*(F.stddev(col).alias(f\"{col}_stddev\") for col in fsa_lookup.columns if col != \"id\"))\n",
    "stddev_dict = stddev.collect()[0].asDict()"
   ]
  },
  {
   "cell_type": "code",
   "execution_count": null,
   "id": "392724a4-9253-4b4f-82de-a3b26fa5c129",
   "metadata": {},
   "outputs": [],
   "source": [
    "#Calculate mean and standard deviation for each numeric column\n",
    "#Drop FSA\n",
    "fsa_no_fsa = fsa_lookup.drop('FSA')\n",
    "\n",
    "stats = fsa_no_fsa.select(\n",
    "    *(F.mean(col).alias(f\"{col}_mean\") for col in fsa_no_fsa.columns),\n",
    "    *(F.stddev(col).alias(f\"{col}_stddev\") for col in fsa_no_fsa.columns)\n",
    ").collect()[0]\n",
    "\n",
    "#Normalize columns using z-scores\n",
    "for col_name in fsa_no_fsa.drop('FSA').columns:\n",
    "    mean_col = stats[f\"{col_name}_mean\"]\n",
    "    stddev_col = stats[f\"{col_name}_stddev\"]\n",
    "    zscore = fsa_no_fsa.drop('FSA').withColumn(f\"{col_name}_zscore\", (F.col(col_name) - mean_col) / stddev_col)\n",
    "\n",
    "zscore_dict = zscore.collect()[0].asDict()"
   ]
  },
  {
   "cell_type": "code",
   "execution_count": null,
   "id": "5ecdc1a9-48f2-4292-b478-8872a0bab4b4",
   "metadata": {},
   "outputs": [],
   "source": [
    "zscore_dict"
   ]
  },
  {
   "cell_type": "code",
   "execution_count": null,
   "id": "6533bc40-fead-43fd-a9b7-7bb897a7b2ee",
   "metadata": {},
   "outputs": [],
   "source": [
    "discrepancies = {key: value for key, value in zscore_dict.items() if abs(value) >=2}"
   ]
  },
  {
   "cell_type": "code",
   "execution_count": null,
   "id": "4531dabd-7a29-493e-85f8-937113df66fb",
   "metadata": {},
   "outputs": [],
   "source": [
    "discrepancies"
   ]
  },
  {
   "cell_type": "markdown",
   "id": "569cb2c2-b5bb-4060-aef8-fc17419344af",
   "metadata": {},
   "source": [
    "##### Identify Sparse RBC Postal Codes\n",
    "\n",
    "In order to ensure anonimity and protect RBC client PII, postal codes where we have very few clients - i.e., <5 - will be further aggregated at the FSA level. "
   ]
  },
  {
   "cell_type": "code",
   "execution_count": null,
   "id": "5677f041-9a80-4b72-852a-5dac77ce1f21",
   "metadata": {},
   "outputs": [],
   "source": [
    "month_end_list(1)"
   ]
  },
  {
   "cell_type": "code",
   "execution_count": null,
   "id": "78f11edc-6fbc-4935-84ec-e6080b78ec6d",
   "metadata": {},
   "outputs": [],
   "source": [
    "\"...CLIENT_PROFILE.../MONTH_END_DATE=\" + str(month_end_list(2)[0])"
   ]
  },
  {
   "cell_type": "code",
   "execution_count": null,
   "id": "cf7cc814-3bd6-4ea1-879d-a57a2bc61f0f",
   "metadata": {},
   "outputs": [],
   "source": [
    "#Sparse postal codes\n",
    "ucp = spark.read.load(\"...CLIENT_PROFILE.../MONTH_END_DATE=\" + str(month_end_list(2)[0])).select(\n",
    "    'CLNT_NO','POST_CD').withColumnRenamed(\n",
    "    'CLNT_NO','clnt_no').withColumnRenamed(\n",
    "    'POST_CD','postal_code').distinct().filter(\n",
    "    'postal_code is not null')"
   ]
  },
  {
   "cell_type": "code",
   "execution_count": null,
   "id": "7d64f0af-265d-4737-ac8a-deef1ad580d4",
   "metadata": {},
   "outputs": [],
   "source": [
    "ucp.select('postal_code').distinct().count()"
   ]
  },
  {
   "cell_type": "code",
   "execution_count": null,
   "id": "ba32b563-da0e-45c1-9f40-8e79ebec9a29",
   "metadata": {},
   "outputs": [],
   "source": [
    "sparse = ucp.groupBy('postal_code').agg(\n",
    "    F.count(F.col('clnt_no')).alias('num_clnts')).filter(\n",
    "    F.col(\"num_clnts\")<5)"
   ]
  },
  {
   "cell_type": "code",
   "execution_count": null,
   "id": "d3bb4948-6211-40a3-afe1-1520135b3989",
   "metadata": {},
   "outputs": [],
   "source": [
    "sparse.show(10,False)"
   ]
  },
  {
   "cell_type": "code",
   "execution_count": null,
   "id": "ef40a55c-fbb5-4e59-973b-1f0933aaa724",
   "metadata": {},
   "outputs": [],
   "source": [
    "sparse.count()"
   ]
  },
  {
   "cell_type": "code",
   "execution_count": null,
   "id": "d739c5bb-b0e4-4e15-8955-2bac3c462672",
   "metadata": {},
   "outputs": [],
   "source": [
    "sparse.printSchema()"
   ]
  },
  {
   "cell_type": "markdown",
   "id": "2bbb360f-6652-401b-b474-052dec1d2bc4",
   "metadata": {},
   "source": [
    "##### Merge Postal Code Lookup for Non-Sparse"
   ]
  },
  {
   "cell_type": "code",
   "execution_count": null,
   "id": "da118f67-712d-4716-8c72-b181708709aa",
   "metadata": {},
   "outputs": [],
   "source": [
    "non_sparse_pc = pb.join(sparse, on='postal_code', how='left_anti').join(\n",
    "    pc_lookup, on='postal_code', how='left')"
   ]
  },
  {
   "cell_type": "code",
   "execution_count": null,
   "id": "5320a57e-1fb9-44bf-9fbd-bc067fb1946a",
   "metadata": {},
   "outputs": [],
   "source": [
    "non_sparse_pc.filter('prizm_seg_01 is null').count()"
   ]
  },
  {
   "cell_type": "code",
   "execution_count": null,
   "id": "bf49da87-d7a2-4ae2-a008-67c90148a9e1",
   "metadata": {},
   "outputs": [],
   "source": [
    "non_sparse_pc.count()"
   ]
  },
  {
   "cell_type": "code",
   "execution_count": null,
   "id": "46d81327-ea65-464b-ae0a-4d6202cc1213",
   "metadata": {},
   "outputs": [],
   "source": [
    "len(non_sparse_pc.columns)"
   ]
  },
  {
   "cell_type": "markdown",
   "id": "72655d7e-ff3c-4958-b10c-9423ebdd828f",
   "metadata": {},
   "source": [
    "##### Merge FSA Lookup for Sparse"
   ]
  },
  {
   "cell_type": "code",
   "execution_count": null,
   "id": "71faeaa3-cc82-4e28-a467-5cabb932eb39",
   "metadata": {},
   "outputs": [],
   "source": [
    "sparse_pc = pb.join(sparse, on='postal_code', how='inner').join(\n",
    "    fsa_lookup, on='fsa', how='left').drop(\"num_clnts\")"
   ]
  },
  {
   "cell_type": "code",
   "execution_count": null,
   "id": "d7e35c5e-63aa-43f5-a741-72fc8c19aa7b",
   "metadata": {},
   "outputs": [],
   "source": [
    "sparse_pc.count()"
   ]
  },
  {
   "cell_type": "code",
   "execution_count": null,
   "id": "f3c68426-0601-47f7-beb6-098939d10b58",
   "metadata": {},
   "outputs": [],
   "source": [
    "sparse_pc.filter('prizm_seg_01 is null').count() #Great, there were matches for all people "
   ]
  },
  {
   "cell_type": "code",
   "execution_count": null,
   "id": "675082ec-4ee4-483e-aa54-2276f2c856e0",
   "metadata": {},
   "outputs": [],
   "source": [
    "len(sparse_pc.columns)"
   ]
  },
  {
   "cell_type": "code",
   "execution_count": null,
   "id": "582ceba1-9fc3-41f0-ad8c-4c5eac2617e9",
   "metadata": {},
   "outputs": [],
   "source": [
    "#list(set(sparse_pc.columns) - set(non_sparse_pc.columns))"
   ]
  },
  {
   "cell_type": "markdown",
   "id": "d533a5bb-33c9-4779-9954-000e9e77b5a6",
   "metadata": {},
   "source": [
    "#### Stack and Fill Nulls"
   ]
  },
  {
   "cell_type": "code",
   "execution_count": null,
   "id": "d1258a94-6c6e-456f-9438-dc5801517c2e",
   "metadata": {},
   "outputs": [],
   "source": [
    "#Reorder columns for easy stacking!\n",
    "col_order = non_sparse_pc.columns\n",
    "sparse_pc_ordered = sparse_pc.select(col_order)"
   ]
  },
  {
   "cell_type": "code",
   "execution_count": null,
   "id": "7708f215-0502-4c10-9962-d57520ae8ea8",
   "metadata": {},
   "outputs": [],
   "source": [
    "complete_pb = non_sparse_pc.union(sparse_pc_ordered)"
   ]
  },
  {
   "cell_type": "code",
   "execution_count": null,
   "id": "ed9ecc15-1703-4f90-97af-384747bced27",
   "metadata": {},
   "outputs": [],
   "source": [
    "(complete_pb.count() == pb.count()) #Yay"
   ]
  },
  {
   "cell_type": "code",
   "execution_count": null,
   "id": "8c400053-41ba-49d3-82ae-70087bc9ed3c",
   "metadata": {},
   "outputs": [],
   "source": [
    "complete_pb.filter('age is null').count()/pb.count() #Still lots of missing unfortunately :("
   ]
  },
  {
   "cell_type": "code",
   "execution_count": null,
   "id": "455676b4-ffcf-43e6-9418-5a41b94a4e3a",
   "metadata": {},
   "outputs": [],
   "source": [
    "#Nulls will be the overall average of the entire postal code dataset ~\n",
    "#Fill nulls as zeros within the postal code dataset \n",
    "\n",
    "overall_dict = pc_lookup.agg(*(F.avg(c).alias(c) for c in pc_lookup.drop('postal_code').columns)).collect()[0].asDict()\n",
    "print(overall_dict)"
   ]
  },
  {
   "cell_type": "code",
   "execution_count": null,
   "id": "ad9cf011-5fbb-486b-9020-3eb23aa57b14",
   "metadata": {},
   "outputs": [],
   "source": [
    "#Convert to float \n",
    "overall_dict = {k:float(v) for k, v in overall_dict.items()}"
   ]
  },
  {
   "cell_type": "code",
   "execution_count": null,
   "id": "d4d3fc13-9d05-4a25-9fca-40085b727856",
   "metadata": {},
   "outputs": [],
   "source": [
    "final_pc_model_data = complete_pb.na.fill(overall_dict)"
   ]
  },
  {
   "cell_type": "code",
   "execution_count": null,
   "id": "25e884dc-10be-4e5b-b4b8-3ba52207ef5d",
   "metadata": {},
   "outputs": [],
   "source": [
    "final_pc_model_data.filter('age is null').count()"
   ]
  },
  {
   "cell_type": "code",
   "execution_count": null,
   "id": "d6e47c7b-8477-4a6e-99e3-49f1289c284e",
   "metadata": {},
   "outputs": [],
   "source": [
    "final_pc_model_data.count()"
   ]
  },
  {
   "cell_type": "markdown",
   "id": "2ba87efa-d405-4f7a-b396-1dc17d3fca56",
   "metadata": {},
   "source": [
    "#### Merge Everything for Final Dataset\n",
    "\n",
    "At this point, let's make sure everything is de-identified! We don't really need any identifiers other than user_pseudo_id and product code. "
   ]
  },
  {
   "cell_type": "code",
   "execution_count": null,
   "id": "a00d8d4b-86c2-4972-a18b-2ad585432403",
   "metadata": {},
   "outputs": [],
   "source": [
    "all_sessions.printSchema()"
   ]
  },
  {
   "cell_type": "code",
   "execution_count": null,
   "id": "4060586a-0145-4576-b620-b4827442c4aa",
   "metadata": {},
   "outputs": [],
   "source": [
    "final_pc_model_data.printSchema()"
   ]
  },
  {
   "cell_type": "code",
   "execution_count": null,
   "id": "7874fbfd-8c3f-4100-8e1d-f1a5d7c9849c",
   "metadata": {},
   "outputs": [],
   "source": [
    "model_data = all_sessions.drop('user_session_id','clnt_no','card_sale_date').join(\n",
    "    final_pc_model_data.drop('postal_code','user_session_id','clnt_no','card_sale_date','session_timestamp','province','FSA','product_code'),\n",
    "    on='user_pseudo_id', how='left').drop(final_pc_model_data.product_code)"
   ]
  },
  {
   "cell_type": "code",
   "execution_count": null,
   "id": "9b547cfa-43cc-49d8-abb2-67d8caa01956",
   "metadata": {},
   "outputs": [],
   "source": [
    "model_data.count()"
   ]
  },
  {
   "cell_type": "markdown",
   "id": "b8779116-20ec-4d64-81aa-8869aa462ec1",
   "metadata": {},
   "source": [
    "##### Final Check"
   ]
  },
  {
   "cell_type": "code",
   "execution_count": null,
   "id": "d3645bcc-6a4e-4f89-b37c-ff91c78ba39e",
   "metadata": {},
   "outputs": [],
   "source": [
    "#Check for nulls in each column\n",
    "null_counts = model_data.select([F.sum(F.col(c).isNull().cast(\"int\")).alias(c) for c in model_data.columns])\n",
    "null_summary = null_counts.agg(*[F.max(c).alias(c) for c in null_counts.drop('user_pseudo_id').columns]).collect()[0].asDict()"
   ]
  },
  {
   "cell_type": "code",
   "execution_count": null,
   "id": "0d61bab6-5565-49f7-b082-97c4726c2da7",
   "metadata": {},
   "outputs": [],
   "source": [
    "model_data.filter('postal_code is null').show(5,False) "
   ]
  },
  {
   "cell_type": "code",
   "execution_count": null,
   "id": "f5e35c1d-78fa-40ff-accc-c8b409e82249",
   "metadata": {},
   "outputs": [],
   "source": [
    "null_dict = {key: value for key, value in null_summary.items() if value != 0}\n",
    "print(null_dict) #woo"
   ]
  },
  {
   "cell_type": "markdown",
   "id": "feb7f80c-db9a-4583-b775-3ddc159dc3d2",
   "metadata": {},
   "source": [
    "##### Save"
   ]
  },
  {
   "cell_type": "code",
   "execution_count": null,
   "id": "6f889c11-c837-4502-a3e8-bbbd971b2753",
   "metadata": {},
   "outputs": [],
   "source": [
    "model_data.coalesce(1).write.mode(\"overwrite\").parquet(\"/anaurosevic/cdn0_cards_affinity/model_data/\")"
   ]
  },
  {
   "cell_type": "markdown",
   "id": "94d551f5-0008-419e-a3c9-ab9a40b02a23",
   "metadata": {},
   "source": [
    "--- END PROGRAM ---"
   ]
  },
  {
   "cell_type": "code",
   "execution_count": null,
   "id": "a121b977-1489-4031-9130-7ecdb9dbdb15",
   "metadata": {},
   "outputs": [],
   "source": [
    "#Timing summary\n",
    "end_time = time.time()\n",
    "end_cpu_time = time.process_time()\n",
    "\n",
    "real_time_elapsed = end_time - start_time\n",
    "cpu_time_elapsed = end_cpu_time - start_cpu_time\n",
    "\n",
    "print(f\"Real time: {real_time_elapsed:.2f} seconds\")\n",
    "print(f\"CPU time: {cpu_time_elapsed:.2f} seconds\")"
   ]
  }
 ],
 "metadata": {
  "kernelspec": {
   "display_name": "Python [conda env:base] *",
   "language": "python",
   "name": "conda-base-py"
  },
  "language_info": {
   "codemirror_mode": {
    "name": "ipython",
    "version": 3
   },
   "file_extension": ".py",
   "mimetype": "text/x-python",
   "name": "python",
   "nbconvert_exporter": "python",
   "pygments_lexer": "ipython3",
   "version": "3.12.7"
  }
 },
 "nbformat": 4,
 "nbformat_minor": 5
}
